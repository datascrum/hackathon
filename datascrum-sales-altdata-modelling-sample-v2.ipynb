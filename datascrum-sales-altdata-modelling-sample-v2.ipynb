{
 "cells": [
  {
   "cell_type": "markdown",
   "metadata": {},
   "source": [
    "# Predicting Company Sales vs with Alternative Data (web traffic)"
   ]
  },
  {
   "cell_type": "code",
   "execution_count": 7,
   "metadata": {},
   "outputs": [],
   "source": [
    "import psycopg2\n",
    "import numpy as np\n",
    "import pandas as pd\n",
    "from scipy import stats\n",
    "import datetime as dt\n",
    "import statsmodels.api as sm\n",
    "from sklearn import preprocessing\n",
    "import matplotlib.pyplot as plt\n",
    "import seaborn as sns\n",
    "%matplotlib inline"
   ]
  },
  {
   "cell_type": "markdown",
   "metadata": {},
   "source": [
    "Import the data from Postgresql as dataframe:"
   ]
  },
  {
   "cell_type": "code",
   "execution_count": 8,
   "metadata": {},
   "outputs": [
    {
     "name": "stdout",
     "output_type": "stream",
     "text": [
      "{'user': 'altcap_usr', 'dbname': 'altcap_db', 'host': '167.99.88.131', 'port': '5432', 'tty': '', 'options': '', 'sslmode': 'prefer', 'sslcompression': '0', 'krbsrvname': 'postgres', 'target_session_attrs': 'any'} \n",
      "\n",
      "PostgreSQL connection is closed\n"
     ]
    }
   ],
   "source": [
    "DB_NAME = ''\n",
    "DB_USER = ''\n",
    "DB_PWD = ''\n",
    "DB_HOST = ''\n",
    "DB_PORT = ''\n",
    "\n",
    "try:\n",
    "    connection = psycopg2.connect(user = DB_USER,\n",
    "                                  password = DB_PWD,\n",
    "                                  host = DB_PWD ,\n",
    "                                  port = DB_PORT,\n",
    "                                  database = DB_NAME)\n",
    "    cursor = connection.cursor()\n",
    "    print ( connection.get_dsn_parameters(),\"\\n\")\n",
    "#     cursor.execute(\"SELECT company_id, date, traffic FROM trafficdata INNER JOIN salesestimate ON trafficdata.company_id=salesestimate.company_id;\")\n",
    "#     record = cursor.fetchall()\n",
    "#     record = cursor.execute(\"SELECT * FROM trafficdata;\")\n",
    "    record_traffic = pd.read_sql(\"SELECT * FROM trafficdata;\",connection)\n",
    "#     record_traffic = pd.DataFrame(cursor.fetchall())\n",
    "#     cursor.execute(\"SELECT * FROM eodfundamentalsdata;\")\n",
    "    record_eod = pd.read_sql(\"SELECT * FROM eodfundamentalsdata;\",connection)\n",
    "    record_sales = pd.read_sql(\"SELECT * FROM salesestimate;\",connection)\n",
    "#     print(\"You are connected to - \", record,\"\\n\")\n",
    "    \n",
    "except (Exception, psycopg2.Error) as error :\n",
    "    print (\"Error while connecting to PostgreSQL\", error)\n",
    "    \n",
    "finally:\n",
    "    #closing database connection.\n",
    "        if(connection):\n",
    "            cursor.close()\n",
    "            connection.close()\n",
    "            print(\"PostgreSQL connection is closed\")"
   ]
  },
  {
   "cell_type": "code",
   "execution_count": 9,
   "metadata": {},
   "outputs": [],
   "source": [
    "asos_traffic = record_traffic[record_traffic[\"company_id\"]==1]\n",
    "asos_sales = record_sales[record_sales[\"company_id\"]==1]\n",
    "# asos_sales.head()"
   ]
  },
  {
   "cell_type": "code",
   "execution_count": 10,
   "metadata": {},
   "outputs": [
    {
     "name": "stderr",
     "output_type": "stream",
     "text": [
      "/anaconda3/lib/python3.7/site-packages/pandas/core/generic.py:5096: SettingWithCopyWarning: \n",
      "A value is trying to be set on a copy of a slice from a DataFrame.\n",
      "Try using .loc[row_indexer,col_indexer] = value instead\n",
      "\n",
      "See the caveats in the documentation: http://pandas.pydata.org/pandas-docs/stable/indexing.html#indexing-view-versus-copy\n",
      "  self[name] = value\n"
     ]
    }
   ],
   "source": [
    "asos_sales.date = asos_sales.date.map(lambda x: x.strftime('%Y-%m-%d'))\n",
    "asos_sales_sum = asos_sales[[\"date\",\"analysis_mean\"]]\n",
    "# asos_sales = asos_sales.groupby([\"date\"])['analysis_mean'].sum()\n",
    "# asos_sales_sum.head()"
   ]
  },
  {
   "cell_type": "code",
   "execution_count": 11,
   "metadata": {},
   "outputs": [],
   "source": [
    "asos_traffic_daily = asos_traffic[asos_traffic[\"period\"]==\"daily\"]\n",
    "asos_traffic_daily.date = asos_traffic_daily[\"date\"].map(lambda x: x.strftime('%Y-%m-%d'))\n",
    "asos_traffic_sum = asos_traffic_daily[[\"date\",\"traffic\",\"period\"]]\n",
    "# asos_traffic_sum.head()"
   ]
  },
  {
   "cell_type": "code",
   "execution_count": 12,
   "metadata": {},
   "outputs": [
    {
     "data": {
      "text/html": [
       "<div>\n",
       "<style scoped>\n",
       "    .dataframe tbody tr th:only-of-type {\n",
       "        vertical-align: middle;\n",
       "    }\n",
       "\n",
       "    .dataframe tbody tr th {\n",
       "        vertical-align: top;\n",
       "    }\n",
       "\n",
       "    .dataframe thead th {\n",
       "        text-align: right;\n",
       "    }\n",
       "</style>\n",
       "<table border=\"1\" class=\"dataframe\">\n",
       "  <thead>\n",
       "    <tr style=\"text-align: right;\">\n",
       "      <th></th>\n",
       "      <th>date</th>\n",
       "      <th>analysis_mean</th>\n",
       "      <th>traffic</th>\n",
       "      <th>period</th>\n",
       "    </tr>\n",
       "  </thead>\n",
       "  <tbody>\n",
       "    <tr>\n",
       "      <th>0</th>\n",
       "      <td>2019-03-01</td>\n",
       "      <td>2.787650e+09</td>\n",
       "      <td>10687</td>\n",
       "      <td>daily</td>\n",
       "    </tr>\n",
       "    <tr>\n",
       "      <th>1</th>\n",
       "      <td>2019-03-02</td>\n",
       "      <td>2.787650e+09</td>\n",
       "      <td>5785</td>\n",
       "      <td>daily</td>\n",
       "    </tr>\n",
       "    <tr>\n",
       "      <th>2</th>\n",
       "      <td>2019-03-03</td>\n",
       "      <td>2.787650e+09</td>\n",
       "      <td>4674</td>\n",
       "      <td>daily</td>\n",
       "    </tr>\n",
       "    <tr>\n",
       "      <th>3</th>\n",
       "      <td>2019-03-04</td>\n",
       "      <td>2.787650e+09</td>\n",
       "      <td>9087</td>\n",
       "      <td>daily</td>\n",
       "    </tr>\n",
       "    <tr>\n",
       "      <th>4</th>\n",
       "      <td>2019-03-05</td>\n",
       "      <td>2.787650e+09</td>\n",
       "      <td>9092</td>\n",
       "      <td>daily</td>\n",
       "    </tr>\n",
       "  </tbody>\n",
       "</table>\n",
       "</div>"
      ],
      "text/plain": [
       "         date  analysis_mean  traffic period\n",
       "0  2019-03-01   2.787650e+09    10687  daily\n",
       "1  2019-03-02   2.787650e+09     5785  daily\n",
       "2  2019-03-03   2.787650e+09     4674  daily\n",
       "3  2019-03-04   2.787650e+09     9087  daily\n",
       "4  2019-03-05   2.787650e+09     9092  daily"
      ]
     },
     "execution_count": 12,
     "metadata": {},
     "output_type": "execute_result"
    }
   ],
   "source": [
    "df_total = pd.merge(asos_sales_sum, asos_traffic_sum,on=\"date\",how='inner')\n",
    "df_total.head()"
   ]
  },
  {
   "cell_type": "code",
   "execution_count": 13,
   "metadata": {},
   "outputs": [],
   "source": [
    "X = df_total[[\"traffic\"]].values.astype(float)\n",
    "min_max_scaler = preprocessing.MinMaxScaler()\n",
    "x_scaled = min_max_scaler.fit_transform(X)\n",
    "\n",
    "y = df_total[[\"analysis_mean\"]].values.astype(float)\n",
    "y_scaled = min_max_scaler.fit_transform(y)"
   ]
  },
  {
   "cell_type": "code",
   "execution_count": 14,
   "metadata": {},
   "outputs": [
    {
     "data": {
      "text/plain": [
       "array([0.18111052])"
      ]
     },
     "execution_count": 14,
     "metadata": {},
     "output_type": "execute_result"
    }
   ],
   "source": [
    "model = sm.OLS (x_scaled,y_scaled)\n",
    "results = model.fit()\n",
    "params = results.params\n",
    "params"
   ]
  },
  {
   "cell_type": "code",
   "execution_count": 15,
   "metadata": {},
   "outputs": [
    {
     "data": {
      "text/plain": [
       "(0, 1)"
      ]
     },
     "execution_count": 15,
     "metadata": {},
     "output_type": "execute_result"
    },
    {
     "data": {
      "image/png": "[encoded data removed]",
      "text/plain": [
       "<Figure size 432x288 with 1 Axes>"
      ]
     },
     "metadata": {
      "needs_background": "light"
     },
     "output_type": "display_data"
    }
   ],
   "source": [
    "plt.scatter(x_scaled,y_scaled)\n",
    "plt.xlabel(\"Daily Traffic\")\n",
    "plt.ylabel(\"Estimated Daily Sales\")\n",
    "plt.xlim(0,1)"
   ]
  },
  {
   "cell_type": "code",
   "execution_count": 16,
   "metadata": {},
   "outputs": [
    {
     "data": {
      "text/html": [
       "<div>\n",
       "<style scoped>\n",
       "    .dataframe tbody tr th:only-of-type {\n",
       "        vertical-align: middle;\n",
       "    }\n",
       "\n",
       "    .dataframe tbody tr th {\n",
       "        vertical-align: top;\n",
       "    }\n",
       "\n",
       "    .dataframe thead th {\n",
       "        text-align: right;\n",
       "    }\n",
       "</style>\n",
       "<table border=\"1\" class=\"dataframe\">\n",
       "  <thead>\n",
       "    <tr style=\"text-align: right;\">\n",
       "      <th></th>\n",
       "      <th>traffic</th>\n",
       "      <th>sales</th>\n",
       "    </tr>\n",
       "  </thead>\n",
       "  <tbody>\n",
       "    <tr>\n",
       "      <th>0</th>\n",
       "      <td>0.093448</td>\n",
       "      <td>0.734955</td>\n",
       "    </tr>\n",
       "    <tr>\n",
       "      <th>1</th>\n",
       "      <td>0.017266</td>\n",
       "      <td>0.734955</td>\n",
       "    </tr>\n",
       "    <tr>\n",
       "      <th>2</th>\n",
       "      <td>0.000000</td>\n",
       "      <td>0.734955</td>\n",
       "    </tr>\n",
       "    <tr>\n",
       "      <th>3</th>\n",
       "      <td>0.068582</td>\n",
       "      <td>0.734955</td>\n",
       "    </tr>\n",
       "    <tr>\n",
       "      <th>4</th>\n",
       "      <td>0.068660</td>\n",
       "      <td>0.734955</td>\n",
       "    </tr>\n",
       "  </tbody>\n",
       "</table>\n",
       "</div>"
      ],
      "text/plain": [
       "    traffic     sales\n",
       "0  0.093448  0.734955\n",
       "1  0.017266  0.734955\n",
       "2  0.000000  0.734955\n",
       "3  0.068582  0.734955\n",
       "4  0.068660  0.734955"
      ]
     },
     "execution_count": 16,
     "metadata": {},
     "output_type": "execute_result"
    }
   ],
   "source": [
    "df_traffic_and_sales = pd.DataFrame({\"traffic\":x_scaled.flatten(),\"sales\":y_scaled.flatten()})\n",
    "df_traffic_and_sales.head()"
   ]
  },
  {
   "cell_type": "code",
   "execution_count": 17,
   "metadata": {},
   "outputs": [
    {
     "data": {
      "text/html": [
       "<div>\n",
       "<style scoped>\n",
       "    .dataframe tbody tr th:only-of-type {\n",
       "        vertical-align: middle;\n",
       "    }\n",
       "\n",
       "    .dataframe tbody tr th {\n",
       "        vertical-align: top;\n",
       "    }\n",
       "\n",
       "    .dataframe thead th {\n",
       "        text-align: right;\n",
       "    }\n",
       "</style>\n",
       "<table border=\"1\" class=\"dataframe\">\n",
       "  <thead>\n",
       "    <tr style=\"text-align: right;\">\n",
       "      <th></th>\n",
       "      <th>traffic</th>\n",
       "    </tr>\n",
       "    <tr>\n",
       "      <th>sales</th>\n",
       "      <th></th>\n",
       "    </tr>\n",
       "  </thead>\n",
       "  <tbody>\n",
       "    <tr>\n",
       "      <th>0.000000</th>\n",
       "      <td>0.019939</td>\n",
       "    </tr>\n",
       "    <tr>\n",
       "      <th>0.139565</th>\n",
       "      <td>0.196422</td>\n",
       "    </tr>\n",
       "    <tr>\n",
       "      <th>0.153649</th>\n",
       "      <td>0.070696</td>\n",
       "    </tr>\n",
       "    <tr>\n",
       "      <th>0.158771</th>\n",
       "      <td>0.471942</td>\n",
       "    </tr>\n",
       "    <tr>\n",
       "      <th>0.162612</th>\n",
       "      <td>0.126019</td>\n",
       "    </tr>\n",
       "    <tr>\n",
       "      <th>0.224072</th>\n",
       "      <td>0.154734</td>\n",
       "    </tr>\n",
       "    <tr>\n",
       "      <th>0.280410</th>\n",
       "      <td>0.022395</td>\n",
       "    </tr>\n",
       "    <tr>\n",
       "      <th>0.300896</th>\n",
       "      <td>0.023296</td>\n",
       "    </tr>\n",
       "    <tr>\n",
       "      <th>0.708067</th>\n",
       "      <td>0.112921</td>\n",
       "    </tr>\n",
       "    <tr>\n",
       "      <th>0.734955</th>\n",
       "      <td>0.026681</td>\n",
       "    </tr>\n",
       "    <tr>\n",
       "      <th>1.000000</th>\n",
       "      <td>0.066254</td>\n",
       "    </tr>\n",
       "  </tbody>\n",
       "</table>\n",
       "</div>"
      ],
      "text/plain": [
       "           traffic\n",
       "sales             \n",
       "0.000000  0.019939\n",
       "0.139565  0.196422\n",
       "0.153649  0.070696\n",
       "0.158771  0.471942\n",
       "0.162612  0.126019\n",
       "0.224072  0.154734\n",
       "0.280410  0.022395\n",
       "0.300896  0.023296\n",
       "0.708067  0.112921\n",
       "0.734955  0.026681\n",
       "1.000000  0.066254"
      ]
     },
     "execution_count": 17,
     "metadata": {},
     "output_type": "execute_result"
    }
   ],
   "source": [
    "df_traffic_and_sales_sum = df_traffic_and_sales.groupby(\"sales\")[[\"traffic\"]].mean()\n",
    "type (df_traffic_and_sales_sum)\n",
    "df_traffic_and_sales_sum"
   ]
  },
  {
   "cell_type": "code",
   "execution_count": 18,
   "metadata": {},
   "outputs": [
    {
     "data": {
      "text/plain": [
       "<matplotlib.collections.PathCollection at 0x1c24e0d860>"
      ]
     },
     "execution_count": 18,
     "metadata": {},
     "output_type": "execute_result"
    },
    {
     "data": {
      "image/png": "[encoded data removed]",
      "text/plain": [
       "<Figure size 432x288 with 1 Axes>"
      ]
     },
     "metadata": {
      "needs_background": "light"
     },
     "output_type": "display_data"
    }
   ],
   "source": [
    "plt.scatter(df_traffic_and_sales_sum.index, df_traffic_and_sales_sum.traffic)"
   ]
  },
  {
   "cell_type": "code",
   "execution_count": 19,
   "metadata": {},
   "outputs": [
    {
     "data": {
      "text/plain": [
       "<matplotlib.collections.PathCollection at 0x1c24f1c048>"
      ]
     },
     "execution_count": 19,
     "metadata": {},
     "output_type": "execute_result"
    },
    {
     "data": {
      "image/png": "[encoded data removed]",
      "text/plain": [
       "<Figure size 432x288 with 1 Axes>"
      ]
     },
     "metadata": {
      "needs_background": "light"
     },
     "output_type": "display_data"
    }
   ],
   "source": [
    "z = np.abs(stats.zscore(df_traffic_and_sales_sum))\n",
    "df_traffic_and_sales_sum = df_traffic_and_sales_sum[(z<1.9).all(axis=1)]\n",
    "df_traffic_and_sales_sum\n",
    "plt.scatter(df_traffic_and_sales_sum.index,df_traffic_and_sales_sum)"
   ]
  },
  {
   "cell_type": "markdown",
   "metadata": {},
   "source": [
    "# Generalised Additive Model"
   ]
  },
  {
   "cell_type": "code",
   "execution_count": 20,
   "metadata": {},
   "outputs": [
    {
     "name": "stdout",
     "output_type": "stream",
     "text": [
      "LogisticGAM                                                                                               \n",
      "=============================================== ==========================================================\n",
      "Distribution:                      BinomialDist Effective DoF:                                      0.8387\n",
      "Link Function:                        LogitLink Log Likelihood:                                       -inf\n",
      "Number of Samples:                           10 AIC:                                                   inf\n",
      "                                                AICc:                                                  inf\n",
      "                                                UBRE:                                               2.7172\n",
      "                                                Scale:                                                 1.0\n",
      "                                                Pseudo R-Squared:                                  -0.0068\n",
      "==========================================================================================================\n",
      "Feature Function                  Lambda               Rank         EDoF         P > x        Sig. Code   \n",
      "================================= ==================== ============ ============ ============ ============\n",
      "s(0)                              [0.6]                20                        9.20e-01                 \n",
      "intercept                                              1                         4.33e-01                 \n",
      "==========================================================================================================\n",
      "Significance codes:  0 '***' 0.001 '**' 0.01 '*' 0.05 '.' 0.1 ' ' 1\n",
      "\n",
      "WARNING: Fitting splines and a linear function to a feature introduces a model identifiability problem\n",
      "         which can cause p-values to appear significant when they are not.\n",
      "\n",
      "WARNING: p-values calculated in this manner behave correctly for un-penalized models or models with\n",
      "         known smoothing parameters, but when smoothing parameters have been estimated, the p-values\n",
      "         are typically lower than they should be, meaning that the tests reject the null too readily.\n"
     ]
    },
    {
     "name": "stderr",
     "output_type": "stream",
     "text": [
      "/anaconda3/lib/python3.7/site-packages/pygam/pygam.py:1112: RuntimeWarning: invalid value encountered in double_scalars\n",
      "  r2['McFadden'] = full_ll/null_ll\n",
      "/anaconda3/lib/python3.7/site-packages/pygam/pygam.py:1113: RuntimeWarning: invalid value encountered in double_scalars\n",
      "  r2['McFadden_adj'] = 1. - (full_ll - self.statistics_['edof'])/null_ll\n",
      "/anaconda3/lib/python3.7/site-packages/ipykernel_launcher.py:3: UserWarning: KNOWN BUG: p-values computed in this summary are likely much smaller than they should be. \n",
      " \n",
      "Please do not make inferences based on these values! \n",
      "\n",
      "Collaborate on a solution, and stay up to date at: \n",
      "github.com/dswah/pyGAM/issues/163 \n",
      "\n",
      "  This is separate from the ipykernel package so we can avoid doing imports until\n"
     ]
    }
   ],
   "source": [
    "import pygam\n",
    "gam = pygam.LogisticGAM().fit(df_traffic_and_sales_sum['traffic'],df_traffic_and_sales_sum.index)\n",
    "gam.summary()"
   ]
  },
  {
   "cell_type": "markdown",
   "metadata": {},
   "source": [
    "# Introduce EOD data"
   ]
  },
  {
   "cell_type": "code",
   "execution_count": 21,
   "metadata": {},
   "outputs": [
    {
     "name": "stderr",
     "output_type": "stream",
     "text": [
      "/anaconda3/lib/python3.7/site-packages/pandas/core/generic.py:5096: SettingWithCopyWarning: \n",
      "A value is trying to be set on a copy of a slice from a DataFrame.\n",
      "Try using .loc[row_indexer,col_indexer] = value instead\n",
      "\n",
      "See the caveats in the documentation: http://pandas.pydata.org/pandas-docs/stable/indexing.html#indexing-view-versus-copy\n",
      "  self[name] = value\n"
     ]
    },
    {
     "data": {
      "text/html": [
       "<div>\n",
       "<style scoped>\n",
       "    .dataframe tbody tr th:only-of-type {\n",
       "        vertical-align: middle;\n",
       "    }\n",
       "\n",
       "    .dataframe tbody tr th {\n",
       "        vertical-align: top;\n",
       "    }\n",
       "\n",
       "    .dataframe thead th {\n",
       "        text-align: right;\n",
       "    }\n",
       "</style>\n",
       "<table border=\"1\" class=\"dataframe\">\n",
       "  <thead>\n",
       "    <tr style=\"text-align: right;\">\n",
       "      <th></th>\n",
       "      <th>id</th>\n",
       "      <th>date</th>\n",
       "      <th>frequency</th>\n",
       "      <th>total_revenue</th>\n",
       "      <th>ebit</th>\n",
       "      <th>company_id</th>\n",
       "    </tr>\n",
       "  </thead>\n",
       "  <tbody>\n",
       "    <tr>\n",
       "      <th>19</th>\n",
       "      <td>3968</td>\n",
       "      <td>2019-02-28</td>\n",
       "      <td>quarterly</td>\n",
       "      <td>657250000.0</td>\n",
       "      <td>2250000.0</td>\n",
       "      <td>1</td>\n",
       "    </tr>\n",
       "    <tr>\n",
       "      <th>20</th>\n",
       "      <td>3969</td>\n",
       "      <td>2018-11-30</td>\n",
       "      <td>quarterly</td>\n",
       "      <td>657250000.0</td>\n",
       "      <td>2250000.0</td>\n",
       "      <td>1</td>\n",
       "    </tr>\n",
       "    <tr>\n",
       "      <th>21</th>\n",
       "      <td>3970</td>\n",
       "      <td>2018-08-31</td>\n",
       "      <td>quarterly</td>\n",
       "      <td>629600000.0</td>\n",
       "      <td>36100000.0</td>\n",
       "      <td>1</td>\n",
       "    </tr>\n",
       "    <tr>\n",
       "      <th>22</th>\n",
       "      <td>3971</td>\n",
       "      <td>2018-05-31</td>\n",
       "      <td>quarterly</td>\n",
       "      <td>629600000.0</td>\n",
       "      <td>36100000.0</td>\n",
       "      <td>1</td>\n",
       "    </tr>\n",
       "    <tr>\n",
       "      <th>23</th>\n",
       "      <td>3972</td>\n",
       "      <td>2018-02-28</td>\n",
       "      <td>quarterly</td>\n",
       "      <td>579050000.0</td>\n",
       "      <td>14850000.0</td>\n",
       "      <td>1</td>\n",
       "    </tr>\n",
       "  </tbody>\n",
       "</table>\n",
       "</div>"
      ],
      "text/plain": [
       "      id        date  frequency  total_revenue        ebit  company_id\n",
       "19  3968  2019-02-28  quarterly    657250000.0   2250000.0           1\n",
       "20  3969  2018-11-30  quarterly    657250000.0   2250000.0           1\n",
       "21  3970  2018-08-31  quarterly    629600000.0  36100000.0           1\n",
       "22  3971  2018-05-31  quarterly    629600000.0  36100000.0           1\n",
       "23  3972  2018-02-28  quarterly    579050000.0  14850000.0           1"
      ]
     },
     "execution_count": 21,
     "metadata": {},
     "output_type": "execute_result"
    }
   ],
   "source": [
    "record_eod_quarterly = record_eod[record_eod.frequency=='quarterly']\n",
    "record_eod_quarterly.date = record_eod_quarterly.date.map(lambda x: x.strftime('%Y-%m-%d'))\n",
    "record_eod_quarterly.fillna(method='ffill')\n",
    "record_eod_quarterly.head()"
   ]
  },
  {
   "cell_type": "code",
   "execution_count": 22,
   "metadata": {},
   "outputs": [
    {
     "data": {
      "text/html": [
       "<div>\n",
       "<style scoped>\n",
       "    .dataframe tbody tr th:only-of-type {\n",
       "        vertical-align: middle;\n",
       "    }\n",
       "\n",
       "    .dataframe tbody tr th {\n",
       "        vertical-align: top;\n",
       "    }\n",
       "\n",
       "    .dataframe thead th {\n",
       "        text-align: right;\n",
       "    }\n",
       "</style>\n",
       "<table border=\"1\" class=\"dataframe\">\n",
       "  <thead>\n",
       "    <tr style=\"text-align: right;\">\n",
       "      <th></th>\n",
       "      <th>traffic</th>\n",
       "      <th>id</th>\n",
       "      <th>date</th>\n",
       "      <th>frequency</th>\n",
       "      <th>total_revenue</th>\n",
       "      <th>ebit</th>\n",
       "      <th>company_id</th>\n",
       "    </tr>\n",
       "  </thead>\n",
       "  <tbody>\n",
       "    <tr>\n",
       "      <th>19</th>\n",
       "      <td>160817</td>\n",
       "      <td>3968</td>\n",
       "      <td>2019-02-28</td>\n",
       "      <td>quarterly</td>\n",
       "      <td>657250000.0</td>\n",
       "      <td>2250000.0</td>\n",
       "      <td>1</td>\n",
       "    </tr>\n",
       "    <tr>\n",
       "      <th>20</th>\n",
       "      <td>14226</td>\n",
       "      <td>3969</td>\n",
       "      <td>2018-11-30</td>\n",
       "      <td>quarterly</td>\n",
       "      <td>657250000.0</td>\n",
       "      <td>2250000.0</td>\n",
       "      <td>1</td>\n",
       "    </tr>\n",
       "    <tr>\n",
       "      <th>21</th>\n",
       "      <td>15588</td>\n",
       "      <td>3970</td>\n",
       "      <td>2018-08-31</td>\n",
       "      <td>quarterly</td>\n",
       "      <td>629600000.0</td>\n",
       "      <td>36100000.0</td>\n",
       "      <td>1</td>\n",
       "    </tr>\n",
       "    <tr>\n",
       "      <th>22</th>\n",
       "      <td>19720</td>\n",
       "      <td>3971</td>\n",
       "      <td>2018-05-31</td>\n",
       "      <td>quarterly</td>\n",
       "      <td>629600000.0</td>\n",
       "      <td>36100000.0</td>\n",
       "      <td>1</td>\n",
       "    </tr>\n",
       "    <tr>\n",
       "      <th>23</th>\n",
       "      <td>24221</td>\n",
       "      <td>3972</td>\n",
       "      <td>2018-02-28</td>\n",
       "      <td>quarterly</td>\n",
       "      <td>579050000.0</td>\n",
       "      <td>14850000.0</td>\n",
       "      <td>1</td>\n",
       "    </tr>\n",
       "  </tbody>\n",
       "</table>\n",
       "</div>"
      ],
      "text/plain": [
       "    traffic    id        date  frequency  total_revenue        ebit  \\\n",
       "19   160817  3968  2019-02-28  quarterly    657250000.0   2250000.0   \n",
       "20    14226  3969  2018-11-30  quarterly    657250000.0   2250000.0   \n",
       "21    15588  3970  2018-08-31  quarterly    629600000.0  36100000.0   \n",
       "22    19720  3971  2018-05-31  quarterly    629600000.0  36100000.0   \n",
       "23    24221  3972  2018-02-28  quarterly    579050000.0  14850000.0   \n",
       "\n",
       "    company_id  \n",
       "19           1  \n",
       "20           1  \n",
       "21           1  \n",
       "22           1  \n",
       "23           1  "
      ]
     },
     "execution_count": 22,
     "metadata": {},
     "output_type": "execute_result"
    }
   ],
   "source": [
    "dict_traffic={}\n",
    "for i,j in zip(record_eod_quarterly.loc[:,'date'], record_eod_quarterly.loc[20:,'date']):\n",
    "    total_traffic=asos_traffic[(asos_traffic['date'] < i) & (asos_traffic['date'] >=j)]['traffic'].sum()\n",
    "    dict_traffic.update({i:total_traffic})\n",
    "record_eod_summary=pd.DataFrame.from_dict(dict_traffic,orient='index')\n",
    "record_eod_summary.columns=['traffic']\n",
    "record=pd.merge(record_eod_summary,record_eod_quarterly,left_index=True,right_on='date',how='inner')\n",
    "record.fillna(method='ffill')\n",
    "record.head()"
   ]
  },
  {
   "cell_type": "code",
   "execution_count": 23,
   "metadata": {},
   "outputs": [
    {
     "data": {
      "text/plain": [
       "<matplotlib.collections.PathCollection at 0x1c24790438>"
      ]
     },
     "execution_count": 23,
     "metadata": {},
     "output_type": "execute_result"
    },
    {
     "data": {
      "image/png": "[encoded data removed]",
      "text/plain": [
       "<Figure size 432x288 with 1 Axes>"
      ]
     },
     "metadata": {
      "needs_background": "light"
     },
     "output_type": "display_data"
    }
   ],
   "source": [
    "plt.scatter(record['traffic'],record['total_revenue'])"
   ]
  },
  {
   "cell_type": "markdown",
   "metadata": {},
   "source": [
    "We have an outlier on the top right because this is calculated from the sum of daily values of traffic, whereas other points are calculated from monthly values. There might be problems with the daily values or unit difference. For simplicity, we discard this point for the time being. We also discard all values with zero because that means there is no data at that point."
   ]
  },
  {
   "cell_type": "code",
   "execution_count": 24,
   "metadata": {},
   "outputs": [
    {
     "data": {
      "text/html": [
       "<div>\n",
       "<style scoped>\n",
       "    .dataframe tbody tr th:only-of-type {\n",
       "        vertical-align: middle;\n",
       "    }\n",
       "\n",
       "    .dataframe tbody tr th {\n",
       "        vertical-align: top;\n",
       "    }\n",
       "\n",
       "    .dataframe thead th {\n",
       "        text-align: right;\n",
       "    }\n",
       "</style>\n",
       "<table border=\"1\" class=\"dataframe\">\n",
       "  <thead>\n",
       "    <tr style=\"text-align: right;\">\n",
       "      <th></th>\n",
       "      <th>traffic</th>\n",
       "      <th>id</th>\n",
       "      <th>date</th>\n",
       "      <th>frequency</th>\n",
       "      <th>total_revenue</th>\n",
       "      <th>ebit</th>\n",
       "      <th>company_id</th>\n",
       "    </tr>\n",
       "  </thead>\n",
       "  <tbody>\n",
       "    <tr>\n",
       "      <th>20</th>\n",
       "      <td>14226</td>\n",
       "      <td>3969</td>\n",
       "      <td>2018-11-30</td>\n",
       "      <td>quarterly</td>\n",
       "      <td>657250000.0</td>\n",
       "      <td>2250000.0</td>\n",
       "      <td>1</td>\n",
       "    </tr>\n",
       "    <tr>\n",
       "      <th>21</th>\n",
       "      <td>15588</td>\n",
       "      <td>3970</td>\n",
       "      <td>2018-08-31</td>\n",
       "      <td>quarterly</td>\n",
       "      <td>629600000.0</td>\n",
       "      <td>36100000.0</td>\n",
       "      <td>1</td>\n",
       "    </tr>\n",
       "    <tr>\n",
       "      <th>22</th>\n",
       "      <td>19720</td>\n",
       "      <td>3971</td>\n",
       "      <td>2018-05-31</td>\n",
       "      <td>quarterly</td>\n",
       "      <td>629600000.0</td>\n",
       "      <td>36100000.0</td>\n",
       "      <td>1</td>\n",
       "    </tr>\n",
       "    <tr>\n",
       "      <th>23</th>\n",
       "      <td>24221</td>\n",
       "      <td>3972</td>\n",
       "      <td>2018-02-28</td>\n",
       "      <td>quarterly</td>\n",
       "      <td>579050000.0</td>\n",
       "      <td>14850000.0</td>\n",
       "      <td>1</td>\n",
       "    </tr>\n",
       "    <tr>\n",
       "      <th>24</th>\n",
       "      <td>9077</td>\n",
       "      <td>3973</td>\n",
       "      <td>2017-11-30</td>\n",
       "      <td>quarterly</td>\n",
       "      <td>579050000.0</td>\n",
       "      <td>14850000.0</td>\n",
       "      <td>1</td>\n",
       "    </tr>\n",
       "  </tbody>\n",
       "</table>\n",
       "</div>"
      ],
      "text/plain": [
       "    traffic    id        date  frequency  total_revenue        ebit  \\\n",
       "20    14226  3969  2018-11-30  quarterly    657250000.0   2250000.0   \n",
       "21    15588  3970  2018-08-31  quarterly    629600000.0  36100000.0   \n",
       "22    19720  3971  2018-05-31  quarterly    629600000.0  36100000.0   \n",
       "23    24221  3972  2018-02-28  quarterly    579050000.0  14850000.0   \n",
       "24     9077  3973  2017-11-30  quarterly    579050000.0  14850000.0   \n",
       "\n",
       "    company_id  \n",
       "20           1  \n",
       "21           1  \n",
       "22           1  \n",
       "23           1  \n",
       "24           1  "
      ]
     },
     "execution_count": 24,
     "metadata": {},
     "output_type": "execute_result"
    }
   ],
   "source": [
    "record_cleaned=record.loc[~(record==0).any(axis=1)]\n",
    "record_cleaned=record_cleaned.loc[20:,:]\n",
    "record_cleaned.fillna(method='ffill')\n",
    "record_cleaned.head()"
   ]
  },
  {
   "cell_type": "code",
   "execution_count": 25,
   "metadata": {},
   "outputs": [
    {
     "data": {
      "text/plain": [
       "Text(0, 0.5, 'Quarterly Revenue')"
      ]
     },
     "execution_count": 25,
     "metadata": {},
     "output_type": "execute_result"
    },
    {
     "data": {
      "image/png": "[encoded data removed]",
      "text/plain": [
       "<Figure size 432x288 with 1 Axes>"
      ]
     },
     "metadata": {
      "needs_background": "light"
     },
     "output_type": "display_data"
    }
   ],
   "source": [
    "plt.scatter(record_cleaned['traffic'],record_cleaned['total_revenue'])\n",
    "plt.xlabel('Quarterly Traffic')\n",
    "plt.ylabel('Quarterly Revenue')"
   ]
  },
  {
   "cell_type": "markdown",
   "metadata": {},
   "source": [
    "# Random Forest Regressor"
   ]
  },
  {
   "cell_type": "code",
   "execution_count": 26,
   "metadata": {},
   "outputs": [],
   "source": [
    "from sklearn.model_selection import cross_val_score, GridSearchCV\n",
    "from sklearn.ensemble import RandomForestRegressor\n",
    "from sklearn.preprocessing import MinMaxScaler"
   ]
  },
  {
   "cell_type": "code",
   "execution_count": 27,
   "metadata": {},
   "outputs": [],
   "source": [
    "def rfr_model(X, y):\n",
    "    gsc = GridSearchCV(\n",
    "        estimator=RandomForestRegressor(),\n",
    "        param_grid={\n",
    "            'max_depth': range(3,7),\n",
    "            'n_estimators': (10, 50, 100, 1000),\n",
    "        },\n",
    "        cv=5, scoring='neg_mean_squared_error', verbose=0, n_jobs=-1)\n",
    "    \n",
    "    grid_result = gsc.fit(X, y)\n",
    "    best_params = grid_result.best_params_\n",
    "    \n",
    "    rfr = RandomForestRegressor(max_depth=best_params[\"max_depth\"], n_estimators=best_params[\"n_estimators\"], random_state=False, verbose=False)\n",
    "\n",
    "    scores = cross_val_score(rfr, X, y, cv=10, scoring='neg_mean_absolute_error')\n",
    "\n",
    "    return scores"
   ]
  },
  {
   "cell_type": "code",
   "execution_count": 28,
   "metadata": {},
   "outputs": [
    {
     "name": "stderr",
     "output_type": "stream",
     "text": [
      "/anaconda3/lib/python3.7/site-packages/sklearn/model_selection/_search.py:841: DeprecationWarning: The default of the `iid` parameter will change from True to False in version 0.22 and will be removed in 0.24. This will change numeric results when test-set sizes are unequal.\n",
      "  DeprecationWarning)\n",
      "/anaconda3/lib/python3.7/site-packages/sklearn/model_selection/_search.py:740: DataConversionWarning: A column-vector y was passed when a 1d array was expected. Please change the shape of y to (n_samples,), for example using ravel().\n",
      "  self.best_estimator_.fit(X, y, **fit_params)\n",
      "/anaconda3/lib/python3.7/site-packages/sklearn/model_selection/_validation.py:528: DataConversionWarning: A column-vector y was passed when a 1d array was expected. Please change the shape of y to (n_samples,), for example using ravel().\n",
      "  estimator.fit(X_train, y_train, **fit_params)\n",
      "/anaconda3/lib/python3.7/site-packages/sklearn/model_selection/_validation.py:528: DataConversionWarning: A column-vector y was passed when a 1d array was expected. Please change the shape of y to (n_samples,), for example using ravel().\n",
      "  estimator.fit(X_train, y_train, **fit_params)\n",
      "/anaconda3/lib/python3.7/site-packages/sklearn/model_selection/_validation.py:528: DataConversionWarning: A column-vector y was passed when a 1d array was expected. Please change the shape of y to (n_samples,), for example using ravel().\n",
      "  estimator.fit(X_train, y_train, **fit_params)\n",
      "/anaconda3/lib/python3.7/site-packages/sklearn/model_selection/_validation.py:528: DataConversionWarning: A column-vector y was passed when a 1d array was expected. Please change the shape of y to (n_samples,), for example using ravel().\n",
      "  estimator.fit(X_train, y_train, **fit_params)\n",
      "/anaconda3/lib/python3.7/site-packages/sklearn/model_selection/_validation.py:528: DataConversionWarning: A column-vector y was passed when a 1d array was expected. Please change the shape of y to (n_samples,), for example using ravel().\n",
      "  estimator.fit(X_train, y_train, **fit_params)\n",
      "/anaconda3/lib/python3.7/site-packages/sklearn/model_selection/_validation.py:528: DataConversionWarning: A column-vector y was passed when a 1d array was expected. Please change the shape of y to (n_samples,), for example using ravel().\n",
      "  estimator.fit(X_train, y_train, **fit_params)\n",
      "/anaconda3/lib/python3.7/site-packages/sklearn/model_selection/_validation.py:528: DataConversionWarning: A column-vector y was passed when a 1d array was expected. Please change the shape of y to (n_samples,), for example using ravel().\n",
      "  estimator.fit(X_train, y_train, **fit_params)\n",
      "/anaconda3/lib/python3.7/site-packages/sklearn/model_selection/_validation.py:528: DataConversionWarning: A column-vector y was passed when a 1d array was expected. Please change the shape of y to (n_samples,), for example using ravel().\n",
      "  estimator.fit(X_train, y_train, **fit_params)\n",
      "/anaconda3/lib/python3.7/site-packages/sklearn/model_selection/_validation.py:528: DataConversionWarning: A column-vector y was passed when a 1d array was expected. Please change the shape of y to (n_samples,), for example using ravel().\n",
      "  estimator.fit(X_train, y_train, **fit_params)\n",
      "/anaconda3/lib/python3.7/site-packages/sklearn/model_selection/_validation.py:528: DataConversionWarning: A column-vector y was passed when a 1d array was expected. Please change the shape of y to (n_samples,), for example using ravel().\n",
      "  estimator.fit(X_train, y_train, **fit_params)\n"
     ]
    },
    {
     "data": {
      "text/plain": [
       "array([-0.73715083, -0.49218351, -0.15415807, -0.12976833, -0.08906912,\n",
       "       -0.13422129, -0.65898628, -0.33086571, -0.21143793, -0.64996389])"
      ]
     },
     "execution_count": 28,
     "metadata": {},
     "output_type": "execute_result"
    }
   ],
   "source": [
    "record_cleaned = record_cleaned.fillna(method='ffill')\n",
    "# X=np.array(record_cleaned.loc['traffic']).reshape(-1,1)\n",
    "X = record_cleaned[['traffic']].values.astype(float)\n",
    "X_scaled = min_max_scaler.fit_transform(X)\n",
    "# y=np.array(record_cleaned.total_revenue).reshape(-1,1)\n",
    "y = record_cleaned[['total_revenue']].values.astype(float)\n",
    "y_scaled = min_max_scaler.fit_transform(y)\n",
    "score=rfr_model(X_scaled,y_scaled)\n",
    "score"
   ]
  },
  {
   "cell_type": "markdown",
   "metadata": {},
   "source": [
    "# Neural Network"
   ]
  },
  {
   "cell_type": "code",
   "execution_count": 29,
   "metadata": {},
   "outputs": [],
   "source": [
    "import torch\n",
    "import pandas as pd\n",
    "import torch.nn as nn\n",
    "import torchvision.datasets as dsets\n",
    "import torchvision.transforms as transforms\n",
    "from torch.autograd import Variable"
   ]
  },
  {
   "cell_type": "code",
   "execution_count": 30,
   "metadata": {},
   "outputs": [],
   "source": [
    "x = torch.FloatTensor(X_scaled)\n",
    "y = torch.FloatTensor(y_scaled)\n",
    "x, y = Variable(x), Variable(y)"
   ]
  },
  {
   "cell_type": "code",
   "execution_count": 76,
   "metadata": {},
   "outputs": [],
   "source": [
    "class Net(nn.Module):\n",
    "    def __init__(self, input_size, hidden_size, num_classes):\n",
    "        super(Net, self).__init__()\n",
    "        self.fc1 = nn.Linear(input_size, hidden_size)\n",
    "        self.relu = nn.ReLU()\n",
    "        self.fc2 = nn.Linear(hidden_size, num_classes)\n",
    "        self.relu = nn.ReLU()\n",
    "    \n",
    "    def forward(self, x):\n",
    "        out = self.fc1 (x)\n",
    "        out = self.relu (out)\n",
    "        out = self.fc2 (out)\n",
    "        return out"
   ]
  },
  {
   "cell_type": "code",
   "execution_count": 77,
   "metadata": {},
   "outputs": [
    {
     "name": "stdout",
     "output_type": "stream",
     "text": [
      "Epoch[0], loss:0.374945\n",
      "Epoch[20], loss:0.335285\n",
      "Epoch[40], loss:0.298502\n",
      "Epoch[60], loss:0.264926\n",
      "Epoch[80], loss:0.234353\n",
      "Epoch[100], loss:0.206607\n",
      "Epoch[120], loss:0.181598\n",
      "Epoch[140], loss:0.159218\n",
      "Epoch[160], loss:0.139333\n",
      "Epoch[180], loss:0.122021\n",
      "Epoch[200], loss:0.107176\n",
      "Epoch[220], loss:0.094492\n",
      "Epoch[240], loss:0.083788\n",
      "Epoch[260], loss:0.074909\n",
      "Epoch[280], loss:0.067649\n",
      "Epoch[300], loss:0.061788\n",
      "Epoch[320], loss:0.057122\n",
      "Epoch[340], loss:0.053462\n",
      "Epoch[360], loss:0.050637\n",
      "Epoch[380], loss:0.048490\n",
      "Epoch[400], loss:0.046883\n",
      "Epoch[420], loss:0.045699\n",
      "Epoch[440], loss:0.044838\n",
      "Epoch[460], loss:0.044220\n",
      "Epoch[480], loss:0.043781\n",
      "Epoch[500], loss:0.043471\n",
      "Epoch[520], loss:0.043251\n",
      "Epoch[540], loss:0.043095\n",
      "Epoch[560], loss:0.042983\n",
      "Epoch[580], loss:0.042899\n",
      "Epoch[600], loss:0.042835\n",
      "Epoch[620], loss:0.042783\n",
      "Epoch[640], loss:0.042740\n",
      "Epoch[660], loss:0.042702\n",
      "Epoch[680], loss:0.042667\n",
      "Epoch[700], loss:0.042635\n",
      "Epoch[720], loss:0.042605\n",
      "Epoch[740], loss:0.042576\n",
      "Epoch[760], loss:0.042547\n",
      "Epoch[780], loss:0.042520\n",
      "Epoch[800], loss:0.042493\n",
      "Epoch[820], loss:0.042467\n",
      "Epoch[840], loss:0.042442\n",
      "Epoch[860], loss:0.042418\n",
      "Epoch[880], loss:0.042394\n",
      "Epoch[900], loss:0.042371\n",
      "Epoch[920], loss:0.042348\n",
      "Epoch[940], loss:0.042326\n",
      "Epoch[960], loss:0.042305\n",
      "Epoch[980], loss:0.042285\n",
      "Epoch[1000], loss:0.042265\n",
      "Epoch[1020], loss:0.042246\n",
      "Epoch[1040], loss:0.042227\n",
      "Epoch[1060], loss:0.042209\n",
      "Epoch[1080], loss:0.042192\n",
      "Epoch[1100], loss:0.042175\n",
      "Epoch[1120], loss:0.042159\n",
      "Epoch[1140], loss:0.042143\n",
      "Epoch[1160], loss:0.042129\n",
      "Epoch[1180], loss:0.042114\n",
      "Epoch[1200], loss:0.042100\n",
      "Epoch[1220], loss:0.042087\n",
      "Epoch[1240], loss:0.042074\n",
      "Epoch[1260], loss:0.042062\n",
      "Epoch[1280], loss:0.042050\n",
      "Epoch[1300], loss:0.042039\n",
      "Epoch[1320], loss:0.042028\n",
      "Epoch[1340], loss:0.042018\n",
      "Epoch[1360], loss:0.042008\n",
      "Epoch[1380], loss:0.041999\n",
      "Epoch[1400], loss:0.041990\n",
      "Epoch[1420], loss:0.041982\n",
      "Epoch[1440], loss:0.041974\n",
      "Epoch[1460], loss:0.041966\n",
      "Epoch[1480], loss:0.041959\n",
      "Epoch[1500], loss:0.041952\n",
      "Epoch[1520], loss:0.041946\n",
      "Epoch[1540], loss:0.041939\n",
      "Epoch[1560], loss:0.041933\n",
      "Epoch[1580], loss:0.041928\n",
      "Epoch[1600], loss:0.041923\n",
      "Epoch[1620], loss:0.041918\n",
      "Epoch[1640], loss:0.041913\n",
      "Epoch[1660], loss:0.041909\n",
      "Epoch[1680], loss:0.041904\n",
      "Epoch[1700], loss:0.041900\n",
      "Epoch[1720], loss:0.041897\n",
      "Epoch[1740], loss:0.041893\n",
      "Epoch[1760], loss:0.041890\n",
      "Epoch[1780], loss:0.041887\n",
      "Epoch[1800], loss:0.041884\n",
      "Epoch[1820], loss:0.041881\n",
      "Epoch[1840], loss:0.041878\n",
      "Epoch[1860], loss:0.041876\n",
      "Epoch[1880], loss:0.041873\n",
      "Epoch[1900], loss:0.041871\n",
      "Epoch[1920], loss:0.041869\n",
      "Epoch[1940], loss:0.041867\n",
      "Epoch[1960], loss:0.041864\n",
      "Epoch[1980], loss:0.041862\n",
      "Epoch[2000], loss:0.041860\n",
      "Epoch[2020], loss:0.041858\n",
      "Epoch[2040], loss:0.041856\n",
      "Epoch[2060], loss:0.041854\n",
      "Epoch[2080], loss:0.041852\n",
      "Epoch[2100], loss:0.041849\n",
      "Epoch[2120], loss:0.041847\n",
      "Epoch[2140], loss:0.041844\n",
      "Epoch[2160], loss:0.041842\n",
      "Epoch[2180], loss:0.041839\n",
      "Epoch[2200], loss:0.041836\n",
      "Epoch[2220], loss:0.041832\n",
      "Epoch[2240], loss:0.041828\n",
      "Epoch[2260], loss:0.041824\n",
      "Epoch[2280], loss:0.041819\n",
      "Epoch[2300], loss:0.041814\n",
      "Epoch[2320], loss:0.041808\n",
      "Epoch[2340], loss:0.041802\n",
      "Epoch[2360], loss:0.041795\n",
      "Epoch[2380], loss:0.041787\n",
      "Epoch[2400], loss:0.041779\n",
      "Epoch[2420], loss:0.041770\n",
      "Epoch[2440], loss:0.041760\n",
      "Epoch[2460], loss:0.041749\n",
      "Epoch[2480], loss:0.041737\n",
      "Epoch[2500], loss:0.041724\n",
      "Epoch[2520], loss:0.041710\n",
      "Epoch[2540], loss:0.041695\n",
      "Epoch[2560], loss:0.041680\n",
      "Epoch[2580], loss:0.041664\n",
      "Epoch[2600], loss:0.041647\n",
      "Epoch[2620], loss:0.041631\n",
      "Epoch[2640], loss:0.041615\n",
      "Epoch[2660], loss:0.041598\n",
      "Epoch[2680], loss:0.041565\n",
      "Epoch[2700], loss:0.041527\n",
      "Epoch[2720], loss:0.041490\n",
      "Epoch[2740], loss:0.041454\n",
      "Epoch[2760], loss:0.041419\n",
      "Epoch[2780], loss:0.041385\n",
      "Epoch[2800], loss:0.041352\n",
      "Epoch[2820], loss:0.041319\n",
      "Epoch[2840], loss:0.041288\n",
      "Epoch[2860], loss:0.041263\n",
      "Epoch[2880], loss:0.041246\n",
      "Epoch[2900], loss:0.041231\n",
      "Epoch[2920], loss:0.041217\n",
      "Epoch[2940], loss:0.041203\n",
      "Epoch[2960], loss:0.041190\n",
      "Epoch[2980], loss:0.041178\n",
      "Epoch[3000], loss:0.041165\n",
      "Epoch[3020], loss:0.041154\n",
      "Epoch[3040], loss:0.041143\n",
      "Epoch[3060], loss:0.041132\n",
      "Epoch[3080], loss:0.041122\n",
      "Epoch[3100], loss:0.041112\n",
      "Epoch[3120], loss:0.041102\n",
      "Epoch[3140], loss:0.041093\n",
      "Epoch[3160], loss:0.041085\n",
      "Epoch[3180], loss:0.041077\n",
      "Epoch[3200], loss:0.041069\n",
      "Epoch[3220], loss:0.041061\n",
      "Epoch[3240], loss:0.041054\n",
      "Epoch[3260], loss:0.041048\n",
      "Epoch[3280], loss:0.041041\n",
      "Epoch[3300], loss:0.041035\n",
      "Epoch[3320], loss:0.041029\n",
      "Epoch[3340], loss:0.041024\n",
      "Epoch[3360], loss:0.041019\n",
      "Epoch[3380], loss:0.041014\n",
      "Epoch[3400], loss:0.041009\n",
      "Epoch[3420], loss:0.041005\n",
      "Epoch[3440], loss:0.041001\n",
      "Epoch[3460], loss:0.040997\n",
      "Epoch[3480], loss:0.040993\n",
      "Epoch[3500], loss:0.040989\n",
      "Epoch[3520], loss:0.040986\n",
      "Epoch[3540], loss:0.040983\n",
      "Epoch[3560], loss:0.040980\n",
      "Epoch[3580], loss:0.040977\n",
      "Epoch[3600], loss:0.040975\n",
      "Epoch[3620], loss:0.040972\n",
      "Epoch[3640], loss:0.040970\n",
      "Epoch[3660], loss:0.040968\n",
      "Epoch[3680], loss:0.040966\n",
      "Epoch[3700], loss:0.040964\n",
      "Epoch[3720], loss:0.040963\n",
      "Epoch[3740], loss:0.040961\n",
      "Epoch[3760], loss:0.040959\n",
      "Epoch[3780], loss:0.040958\n",
      "Epoch[3800], loss:0.040956\n",
      "Epoch[3820], loss:0.040955\n",
      "Epoch[3840], loss:0.040954\n",
      "Epoch[3860], loss:0.040953\n",
      "Epoch[3880], loss:0.040951\n",
      "Epoch[3900], loss:0.040950\n",
      "Epoch[3920], loss:0.040949\n",
      "Epoch[3940], loss:0.040948\n",
      "Epoch[3960], loss:0.040947\n",
      "Epoch[3980], loss:0.040946\n",
      "Epoch[4000], loss:0.040946\n",
      "Epoch[4020], loss:0.040945\n",
      "Epoch[4040], loss:0.040944\n",
      "Epoch[4060], loss:0.040943\n",
      "Epoch[4080], loss:0.040943\n",
      "Epoch[4100], loss:0.040942\n",
      "Epoch[4120], loss:0.040941\n",
      "Epoch[4140], loss:0.040941\n",
      "Epoch[4160], loss:0.040940\n",
      "Epoch[4180], loss:0.040939\n",
      "Epoch[4200], loss:0.040939\n",
      "Epoch[4220], loss:0.040938\n",
      "Epoch[4240], loss:0.040937\n",
      "Epoch[4260], loss:0.040937\n",
      "Epoch[4280], loss:0.040936\n",
      "Epoch[4300], loss:0.040936\n",
      "Epoch[4320], loss:0.040935\n",
      "Epoch[4340], loss:0.040934\n",
      "Epoch[4360], loss:0.040934\n",
      "Epoch[4380], loss:0.040933\n",
      "Epoch[4400], loss:0.040933\n",
      "Epoch[4420], loss:0.040932\n",
      "Epoch[4440], loss:0.040932\n",
      "Epoch[4460], loss:0.040931\n",
      "Epoch[4480], loss:0.040930\n",
      "Epoch[4500], loss:0.040930\n",
      "Epoch[4520], loss:0.040929\n",
      "Epoch[4540], loss:0.040929\n",
      "Epoch[4560], loss:0.040928\n",
      "Epoch[4580], loss:0.040927\n",
      "Epoch[4600], loss:0.040927\n",
      "Epoch[4620], loss:0.040926\n",
      "Epoch[4640], loss:0.040926\n",
      "Epoch[4660], loss:0.040925\n",
      "Epoch[4680], loss:0.040924\n",
      "Epoch[4700], loss:0.040924\n",
      "Epoch[4720], loss:0.040923\n",
      "Epoch[4740], loss:0.040922\n",
      "Epoch[4760], loss:0.040922\n",
      "Epoch[4780], loss:0.040921\n",
      "Epoch[4800], loss:0.040920\n",
      "Epoch[4820], loss:0.040920\n",
      "Epoch[4840], loss:0.040919\n",
      "Epoch[4860], loss:0.040918\n",
      "Epoch[4880], loss:0.040918\n",
      "Epoch[4900], loss:0.040917\n",
      "Epoch[4920], loss:0.040916\n",
      "Epoch[4940], loss:0.040916\n",
      "Epoch[4960], loss:0.040915\n",
      "Epoch[4980], loss:0.040914\n"
     ]
    }
   ],
   "source": [
    "net = Net(input_size=1, hidden_size=15, num_classes=1)\n",
    "criterion = nn.SmoothL1Loss()\n",
    "optimizer = torch.optim.Adam(net.parameters(), lr=0.0005)\n",
    "\n",
    "for epoch in range (5000):\n",
    "    inputs = x\n",
    "    target = y\n",
    "    out = net (inputs)\n",
    "    loss = criterion (out, target)\n",
    "    optimizer.zero_grad()\n",
    "    loss.backward()\n",
    "    optimizer.step()\n",
    "  \n",
    "    if epoch%20 == 0:\n",
    "        print ('Epoch[{}], loss:{:.6f}'.format(epoch,loss.data))"
   ]
  },
  {
   "cell_type": "code",
   "execution_count": 78,
   "metadata": {},
   "outputs": [
    {
     "name": "stdout",
     "output_type": "stream",
     "text": [
      "(tensor([[0.4377],\n",
      "        [0.4230],\n",
      "        [0.3782],\n",
      "        [0.3295],\n",
      "        [0.4934],\n",
      "        [0.5540],\n",
      "        [0.5509],\n",
      "        [0.5438],\n",
      "        [0.5567],\n",
      "        [0.5349],\n",
      "        [0.5228],\n",
      "        [0.5442],\n",
      "        [0.4904],\n",
      "        [0.2249],\n",
      "        [0.3054],\n",
      "        [0.2325],\n",
      "        [0.3580],\n",
      "        [0.3148],\n",
      "        [0.4531],\n",
      "        [0.4295],\n",
      "        [0.4655],\n",
      "        [0.5079],\n",
      "        [0.3237],\n",
      "        [0.3494],\n",
      "        [0.2426],\n",
      "        [0.2044],\n",
      "        [0.4953],\n",
      "        [0.3814]], grad_fn=<AddmmBackward>), tensor([[1.0000],\n",
      "        [0.9471],\n",
      "        [0.9471],\n",
      "        [0.8503],\n",
      "        [0.8503],\n",
      "        [0.7105],\n",
      "        [0.7105],\n",
      "        [0.6142],\n",
      "        [0.6142],\n",
      "        [0.6142],\n",
      "        [0.4900],\n",
      "        [0.3804],\n",
      "        [0.3764],\n",
      "        [0.3163],\n",
      "        [0.3163],\n",
      "        [0.2686],\n",
      "        [0.2686],\n",
      "        [0.2143],\n",
      "        [0.2143],\n",
      "        [0.2028],\n",
      "        [0.2028],\n",
      "        [0.1338],\n",
      "        [0.1338],\n",
      "        [0.0860],\n",
      "        [0.0860],\n",
      "        [0.0860],\n",
      "        [0.0074],\n",
      "        [0.0000]])) tensor([[-0.5623],\n",
      "        [-0.5241],\n",
      "        [-0.5688],\n",
      "        [-0.5207],\n",
      "        [-0.3568],\n",
      "        [-0.1565],\n",
      "        [-0.1596],\n",
      "        [-0.0704],\n",
      "        [-0.0575],\n",
      "        [-0.0793],\n",
      "        [ 0.0328],\n",
      "        [ 0.1638],\n",
      "        [ 0.1140],\n",
      "        [-0.0914],\n",
      "        [-0.0109],\n",
      "        [-0.0360],\n",
      "        [ 0.0894],\n",
      "        [ 0.1006],\n",
      "        [ 0.2388],\n",
      "        [ 0.2268],\n",
      "        [ 0.2628],\n",
      "        [ 0.3741],\n",
      "        [ 0.1899],\n",
      "        [ 0.2634],\n",
      "        [ 0.1566],\n",
      "        [ 0.1184],\n",
      "        [ 0.4879],\n",
      "        [ 0.3814]], grad_fn=<SubBackward0>)\n"
     ]
    }
   ],
   "source": [
    "y_pred = net(x)\n",
    "print((y_pred,y),y_pred-y)"
   ]
  },
  {
   "cell_type": "code",
   "execution_count": null,
   "metadata": {},
   "outputs": [],
   "source": []
  }
 ],
 "metadata": {
  "kernelspec": {
   "display_name": "Python 3",
   "language": "python",
   "name": "python3"
  },
  "language_info": {
   "codemirror_mode": {
    "name": "ipython",
    "version": 3
   },
   "file_extension": ".py",
   "mimetype": "text/x-python",
   "name": "python",
   "nbconvert_exporter": "python",
   "pygments_lexer": "ipython3",
   "version": "3.7.3"
  }
 },
 "nbformat": 4,
 "nbformat_minor": 2
}
