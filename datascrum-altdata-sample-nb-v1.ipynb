{
 "cells": [
  {
   "cell_type": "markdown",
   "metadata": {},
   "source": [
    "## Alternative Data exploration for Revenue prediction"
   ]
  },
  {
   "cell_type": "markdown",
   "metadata": {},
   "source": [
    "###### Load dependency libraries "
   ]
  },
  {
   "cell_type": "code",
   "execution_count": 1,
   "metadata": {},
   "outputs": [],
   "source": [
    "import pandas as pd\n",
    "import numpy as np\n",
    "from textblob import TextBlob\n",
    "import re\n",
    "import matplotlib.pyplot as plt\n",
    "plt.style.use('seaborn')\n",
    "%matplotlib inline\n",
    "from pandas.io.json import json_normalize\n",
    "import seaborn as sns"
   ]
  },
  {
   "cell_type": "markdown",
   "metadata": {},
   "source": [
    "###### Use EODHistorical API provided to source Revenue data for BKNG.US under the Financial -> Income_Statement -> Quarterly  data dictionary keys\n",
    "\n",
    "The API supports fields filtering with the parameter ‘filter=’. With ability to specify a block, field or Code required within the json data. Also different layers can be divided with “::” and it’s possible to have any number of layers. In our case, we want the quarterly Income_Statement and hence have configured API accordingly."
   ]
  },
  {
   "cell_type": "code",
   "execution_count": 2,
   "metadata": {},
   "outputs": [],
   "source": [
    "# Specify API url link to for quarterly income statement retrival\n",
    "eodhist_url = 'http://eodhistoricaldata.com/api/fundamentals/BKNG.US?api_token=5cc0ea63d1cda3.37070012&filter=Financials::Income_Statement::quarterly'"
   ]
  },
  {
   "cell_type": "code",
   "execution_count": 3,
   "metadata": {},
   "outputs": [],
   "source": [
    "#Use a combination of pandas json reader to read json data as series\n",
    "#And normalise with json normaliser and finally retrive the required column fields\n",
    "fund_df = json_normalize(pd.read_json(eodhist_url,typ='series'))[['date','totalRevenue','costOfRevenue']]"
   ]
  },
  {
   "cell_type": "code",
   "execution_count": 4,
   "metadata": {},
   "outputs": [
    {
     "name": "stdout",
     "output_type": "stream",
     "text": [
      "         date   totalRevenue costOfRevenue\n",
      "0  2019-03-31  2837000000.00  501000000.00\n",
      "1  2018-12-31  3212615000.00  242000000.00\n",
      "2  2018-09-30  4849090000.00          0.00\n",
      "3  2018-06-30  3537094000.00          0.00\n",
      "4  2018-03-31  2928201000.00          0.00\n",
      "\n",
      "<class 'pandas.core.frame.DataFrame'>\n",
      "RangeIndex: 77 entries, 0 to 76\n",
      "Data columns (total 3 columns):\n",
      "date             77 non-null object\n",
      "totalRevenue     77 non-null object\n",
      "costOfRevenue    77 non-null object\n",
      "dtypes: object(3)\n",
      "memory usage: 1.9+ KB\n",
      "None\n"
     ]
    }
   ],
   "source": [
    "#Explore the data\n",
    "print(fund_df.head())\n",
    "print()\n",
    "print(fund_df.info())"
   ]
  },
  {
   "cell_type": "code",
   "execution_count": 5,
   "metadata": {},
   "outputs": [],
   "source": [
    "#set date as index for later use in dataframe join operation\n",
    "fund_df.index = pd.to_datetime(fund_df.date)"
   ]
  },
  {
   "cell_type": "markdown",
   "metadata": {},
   "source": [
    "###### Load tweet data extracted from altcap database for BKNG.US into a dataframe and process data for senitments"
   ]
  },
  {
   "cell_type": "code",
   "execution_count": 6,
   "metadata": {},
   "outputs": [],
   "source": [
    "#Load tweet data from filesystem\n",
    "tweet_df = pd.read_csv('C:\\\\Users\\\\eche1\\\\Downloads\\\\tweets_bkng.csv', parse_dates = ['date'])"
   ]
  },
  {
   "cell_type": "code",
   "execution_count": 7,
   "metadata": {},
   "outputs": [],
   "source": [
    "# define function to be used for tweet senitments analysis \n",
    "def clean_get_twt_sentiment(tweet): \n",
    "        ''' \n",
    "        Utility function to clean tweet text by removing links, special characters \n",
    "        using simple regex statements and to classify sentiment of passed tweet \n",
    "        using textblob's sentiment method \n",
    "        '''\n",
    "        #clean tweet\n",
    "        clean_tweet = ' '.join(re.sub(\"(@[A-Za-z0-9]+)|([^0-9A-Za-z \\t])|(\\w+:\\/\\/\\S+)\", \" \", tweet).split())\n",
    "        # create TextBlob object of passed tweet text \n",
    "        analysis = TextBlob(clean_tweet) \n",
    "        # set sentiment \n",
    "        if analysis.sentiment.polarity > 0: \n",
    "            return 'positive'\n",
    "        elif analysis.sentiment.polarity == 0: \n",
    "            return 'neutral'\n",
    "        else: \n",
    "            return 'negative'"
   ]
  },
  {
   "cell_type": "code",
   "execution_count": 8,
   "metadata": {},
   "outputs": [
    {
     "data": {
      "text/html": [
       "<div>\n",
       "<style scoped>\n",
       "    .dataframe tbody tr th:only-of-type {\n",
       "        vertical-align: middle;\n",
       "    }\n",
       "\n",
       "    .dataframe tbody tr th {\n",
       "        vertical-align: top;\n",
       "    }\n",
       "\n",
       "    .dataframe thead th {\n",
       "        text-align: right;\n",
       "    }\n",
       "</style>\n",
       "<table border=\"1\" class=\"dataframe\">\n",
       "  <thead>\n",
       "    <tr style=\"text-align: right;\">\n",
       "      <th></th>\n",
       "      <th>date</th>\n",
       "      <th>text</th>\n",
       "      <th>likes</th>\n",
       "      <th>retweet</th>\n",
       "      <th>count_comments</th>\n",
       "      <th>ticker</th>\n",
       "    </tr>\n",
       "  </thead>\n",
       "  <tbody>\n",
       "    <tr>\n",
       "      <th>0</th>\n",
       "      <td>2015-04-09 08:45:00</td>\n",
       "      <td>Q5. What activity organised by an accommodatio...</td>\n",
       "      <td>0</td>\n",
       "      <td>0</td>\n",
       "      <td>0</td>\n",
       "      <td>BKNG.O</td>\n",
       "    </tr>\n",
       "    <tr>\n",
       "      <th>1</th>\n",
       "      <td>2015-04-09 08:45:00</td>\n",
       "      <td>Q5. What activity organised by an accommodatio...</td>\n",
       "      <td>0</td>\n",
       "      <td>0</td>\n",
       "      <td>0</td>\n",
       "      <td>BKNG.O</td>\n",
       "    </tr>\n",
       "    <tr>\n",
       "      <th>2</th>\n",
       "      <td>2015-04-09 08:51:00</td>\n",
       "      <td>Q6 #BookingsBest lists are based on reviews wi...</td>\n",
       "      <td>3</td>\n",
       "      <td>1</td>\n",
       "      <td>5</td>\n",
       "      <td>BKNG.O</td>\n",
       "    </tr>\n",
       "    <tr>\n",
       "      <th>3</th>\n",
       "      <td>2015-04-09 08:52:00</td>\n",
       "      <td>#BookingsBest lists are based on reviews with ...</td>\n",
       "      <td>1</td>\n",
       "      <td>1</td>\n",
       "      <td>0</td>\n",
       "      <td>BKNG.O</td>\n",
       "    </tr>\n",
       "    <tr>\n",
       "      <th>4</th>\n",
       "      <td>2015-04-09 08:52:00</td>\n",
       "      <td>#BookingsBest lists are based on reviews with ...</td>\n",
       "      <td>0</td>\n",
       "      <td>0</td>\n",
       "      <td>0</td>\n",
       "      <td>BKNG.O</td>\n",
       "    </tr>\n",
       "  </tbody>\n",
       "</table>\n",
       "</div>"
      ],
      "text/plain": [
       "                 date                                               text  \\\n",
       "0 2015-04-09 08:45:00  Q5. What activity organised by an accommodatio...   \n",
       "1 2015-04-09 08:45:00  Q5. What activity organised by an accommodatio...   \n",
       "2 2015-04-09 08:51:00  Q6 #BookingsBest lists are based on reviews wi...   \n",
       "3 2015-04-09 08:52:00  #BookingsBest lists are based on reviews with ...   \n",
       "4 2015-04-09 08:52:00  #BookingsBest lists are based on reviews with ...   \n",
       "\n",
       "   likes  retweet  count_comments  ticker  \n",
       "0      0        0               0  BKNG.O  \n",
       "1      0        0               0  BKNG.O  \n",
       "2      3        1               5  BKNG.O  \n",
       "3      1        1               0  BKNG.O  \n",
       "4      0        0               0  BKNG.O  "
      ]
     },
     "execution_count": 8,
     "metadata": {},
     "output_type": "execute_result"
    }
   ],
   "source": [
    "#Explore tweet data \n",
    "tweet_df.head()"
   ]
  },
  {
   "cell_type": "code",
   "execution_count": 9,
   "metadata": {},
   "outputs": [],
   "source": [
    "#Process the tweet text for senitment indicator\n",
    "tweet_df['senti']  = tweet_df['text'].apply(clean_get_twt_sentiment)"
   ]
  },
  {
   "cell_type": "code",
   "execution_count": 10,
   "metadata": {},
   "outputs": [
    {
     "data": {
      "text/html": [
       "<div>\n",
       "<style scoped>\n",
       "    .dataframe tbody tr th:only-of-type {\n",
       "        vertical-align: middle;\n",
       "    }\n",
       "\n",
       "    .dataframe tbody tr th {\n",
       "        vertical-align: top;\n",
       "    }\n",
       "\n",
       "    .dataframe thead th {\n",
       "        text-align: right;\n",
       "    }\n",
       "</style>\n",
       "<table border=\"1\" class=\"dataframe\">\n",
       "  <thead>\n",
       "    <tr style=\"text-align: right;\">\n",
       "      <th></th>\n",
       "      <th>date</th>\n",
       "      <th>text</th>\n",
       "      <th>likes</th>\n",
       "      <th>retweet</th>\n",
       "      <th>count_comments</th>\n",
       "      <th>ticker</th>\n",
       "      <th>senti</th>\n",
       "    </tr>\n",
       "  </thead>\n",
       "  <tbody>\n",
       "    <tr>\n",
       "      <th>0</th>\n",
       "      <td>2015-04-09 08:45:00</td>\n",
       "      <td>Q5. What activity organised by an accommodatio...</td>\n",
       "      <td>0</td>\n",
       "      <td>0</td>\n",
       "      <td>0</td>\n",
       "      <td>BKNG.O</td>\n",
       "      <td>neutral</td>\n",
       "    </tr>\n",
       "    <tr>\n",
       "      <th>1</th>\n",
       "      <td>2015-04-09 08:45:00</td>\n",
       "      <td>Q5. What activity organised by an accommodatio...</td>\n",
       "      <td>0</td>\n",
       "      <td>0</td>\n",
       "      <td>0</td>\n",
       "      <td>BKNG.O</td>\n",
       "      <td>neutral</td>\n",
       "    </tr>\n",
       "    <tr>\n",
       "      <th>2</th>\n",
       "      <td>2015-04-09 08:51:00</td>\n",
       "      <td>Q6 #BookingsBest lists are based on reviews wi...</td>\n",
       "      <td>3</td>\n",
       "      <td>1</td>\n",
       "      <td>5</td>\n",
       "      <td>BKNG.O</td>\n",
       "      <td>positive</td>\n",
       "    </tr>\n",
       "    <tr>\n",
       "      <th>3</th>\n",
       "      <td>2015-04-09 08:52:00</td>\n",
       "      <td>#BookingsBest lists are based on reviews with ...</td>\n",
       "      <td>1</td>\n",
       "      <td>1</td>\n",
       "      <td>0</td>\n",
       "      <td>BKNG.O</td>\n",
       "      <td>positive</td>\n",
       "    </tr>\n",
       "    <tr>\n",
       "      <th>4</th>\n",
       "      <td>2015-04-09 08:52:00</td>\n",
       "      <td>#BookingsBest lists are based on reviews with ...</td>\n",
       "      <td>0</td>\n",
       "      <td>0</td>\n",
       "      <td>0</td>\n",
       "      <td>BKNG.O</td>\n",
       "      <td>positive</td>\n",
       "    </tr>\n",
       "  </tbody>\n",
       "</table>\n",
       "</div>"
      ],
      "text/plain": [
       "                 date                                               text  \\\n",
       "0 2015-04-09 08:45:00  Q5. What activity organised by an accommodatio...   \n",
       "1 2015-04-09 08:45:00  Q5. What activity organised by an accommodatio...   \n",
       "2 2015-04-09 08:51:00  Q6 #BookingsBest lists are based on reviews wi...   \n",
       "3 2015-04-09 08:52:00  #BookingsBest lists are based on reviews with ...   \n",
       "4 2015-04-09 08:52:00  #BookingsBest lists are based on reviews with ...   \n",
       "\n",
       "   likes  retweet  count_comments  ticker     senti  \n",
       "0      0        0               0  BKNG.O   neutral  \n",
       "1      0        0               0  BKNG.O   neutral  \n",
       "2      3        1               5  BKNG.O  positive  \n",
       "3      1        1               0  BKNG.O  positive  \n",
       "4      0        0               0  BKNG.O  positive  "
      ]
     },
     "execution_count": 10,
     "metadata": {},
     "output_type": "execute_result"
    }
   ],
   "source": [
    "#Explore tweet data for senitment indicator\n",
    "tweet_df.head()"
   ]
  },
  {
   "cell_type": "code",
   "execution_count": 11,
   "metadata": {},
   "outputs": [],
   "source": [
    "#set date as index for later use in dataframe time series, resampling (quarterly) and  join operations\n",
    "tweet_df.index = pd.to_datetime(tweet_df.date)"
   ]
  },
  {
   "cell_type": "code",
   "execution_count": 12,
   "metadata": {},
   "outputs": [],
   "source": [
    "#select required features columns and convert categorical senitment into indicator variables\n",
    "tweet_df2 = pd.get_dummies(tweet_df[['likes','retweet','count_comments','senti']])"
   ]
  },
  {
   "cell_type": "code",
   "execution_count": 13,
   "metadata": {
    "scrolled": false
   },
   "outputs": [
    {
     "data": {
      "text/html": [
       "<div>\n",
       "<style scoped>\n",
       "    .dataframe tbody tr th:only-of-type {\n",
       "        vertical-align: middle;\n",
       "    }\n",
       "\n",
       "    .dataframe tbody tr th {\n",
       "        vertical-align: top;\n",
       "    }\n",
       "\n",
       "    .dataframe thead th {\n",
       "        text-align: right;\n",
       "    }\n",
       "</style>\n",
       "<table border=\"1\" class=\"dataframe\">\n",
       "  <thead>\n",
       "    <tr style=\"text-align: right;\">\n",
       "      <th></th>\n",
       "      <th>likes</th>\n",
       "      <th>retweet</th>\n",
       "      <th>count_comments</th>\n",
       "      <th>senti_negative</th>\n",
       "      <th>senti_neutral</th>\n",
       "      <th>senti_positive</th>\n",
       "    </tr>\n",
       "    <tr>\n",
       "      <th>date</th>\n",
       "      <th></th>\n",
       "      <th></th>\n",
       "      <th></th>\n",
       "      <th></th>\n",
       "      <th></th>\n",
       "      <th></th>\n",
       "    </tr>\n",
       "  </thead>\n",
       "  <tbody>\n",
       "    <tr>\n",
       "      <th>2015-04-09 08:45:00</th>\n",
       "      <td>0</td>\n",
       "      <td>0</td>\n",
       "      <td>0</td>\n",
       "      <td>0</td>\n",
       "      <td>1</td>\n",
       "      <td>0</td>\n",
       "    </tr>\n",
       "    <tr>\n",
       "      <th>2015-04-09 08:45:00</th>\n",
       "      <td>0</td>\n",
       "      <td>0</td>\n",
       "      <td>0</td>\n",
       "      <td>0</td>\n",
       "      <td>1</td>\n",
       "      <td>0</td>\n",
       "    </tr>\n",
       "    <tr>\n",
       "      <th>2015-04-09 08:51:00</th>\n",
       "      <td>3</td>\n",
       "      <td>1</td>\n",
       "      <td>5</td>\n",
       "      <td>0</td>\n",
       "      <td>0</td>\n",
       "      <td>1</td>\n",
       "    </tr>\n",
       "    <tr>\n",
       "      <th>2015-04-09 08:52:00</th>\n",
       "      <td>1</td>\n",
       "      <td>1</td>\n",
       "      <td>0</td>\n",
       "      <td>0</td>\n",
       "      <td>0</td>\n",
       "      <td>1</td>\n",
       "    </tr>\n",
       "    <tr>\n",
       "      <th>2015-04-09 08:52:00</th>\n",
       "      <td>0</td>\n",
       "      <td>0</td>\n",
       "      <td>0</td>\n",
       "      <td>0</td>\n",
       "      <td>0</td>\n",
       "      <td>1</td>\n",
       "    </tr>\n",
       "  </tbody>\n",
       "</table>\n",
       "</div>"
      ],
      "text/plain": [
       "                     likes  retweet  count_comments  senti_negative  \\\n",
       "date                                                                  \n",
       "2015-04-09 08:45:00      0        0               0               0   \n",
       "2015-04-09 08:45:00      0        0               0               0   \n",
       "2015-04-09 08:51:00      3        1               5               0   \n",
       "2015-04-09 08:52:00      1        1               0               0   \n",
       "2015-04-09 08:52:00      0        0               0               0   \n",
       "\n",
       "                     senti_neutral  senti_positive  \n",
       "date                                                \n",
       "2015-04-09 08:45:00              1               0  \n",
       "2015-04-09 08:45:00              1               0  \n",
       "2015-04-09 08:51:00              0               1  \n",
       "2015-04-09 08:52:00              0               1  \n",
       "2015-04-09 08:52:00              0               1  "
      ]
     },
     "execution_count": 13,
     "metadata": {},
     "output_type": "execute_result"
    }
   ],
   "source": [
    "#Explore new data frame\n",
    "tweet_df2.head()"
   ]
  },
  {
   "cell_type": "code",
   "execution_count": 14,
   "metadata": {},
   "outputs": [
    {
     "data": {
      "text/html": [
       "<div>\n",
       "<style scoped>\n",
       "    .dataframe tbody tr th:only-of-type {\n",
       "        vertical-align: middle;\n",
       "    }\n",
       "\n",
       "    .dataframe tbody tr th {\n",
       "        vertical-align: top;\n",
       "    }\n",
       "\n",
       "    .dataframe thead th {\n",
       "        text-align: right;\n",
       "    }\n",
       "</style>\n",
       "<table border=\"1\" class=\"dataframe\">\n",
       "  <thead>\n",
       "    <tr style=\"text-align: right;\">\n",
       "      <th></th>\n",
       "      <th>likes</th>\n",
       "      <th>retweet</th>\n",
       "      <th>count_comments</th>\n",
       "      <th>senti_negative</th>\n",
       "      <th>senti_neutral</th>\n",
       "      <th>senti_positive</th>\n",
       "    </tr>\n",
       "  </thead>\n",
       "  <tbody>\n",
       "    <tr>\n",
       "      <th>2015-04-09</th>\n",
       "      <td>11</td>\n",
       "      <td>5</td>\n",
       "      <td>9</td>\n",
       "      <td>0</td>\n",
       "      <td>2</td>\n",
       "      <td>8</td>\n",
       "    </tr>\n",
       "    <tr>\n",
       "      <th>2015-04-10</th>\n",
       "      <td>20</td>\n",
       "      <td>2</td>\n",
       "      <td>0</td>\n",
       "      <td>0</td>\n",
       "      <td>0</td>\n",
       "      <td>1</td>\n",
       "    </tr>\n",
       "    <tr>\n",
       "      <th>2015-04-11</th>\n",
       "      <td>16</td>\n",
       "      <td>2</td>\n",
       "      <td>0</td>\n",
       "      <td>0</td>\n",
       "      <td>1</td>\n",
       "      <td>0</td>\n",
       "    </tr>\n",
       "    <tr>\n",
       "      <th>2015-04-12</th>\n",
       "      <td>14</td>\n",
       "      <td>5</td>\n",
       "      <td>1</td>\n",
       "      <td>0</td>\n",
       "      <td>1</td>\n",
       "      <td>0</td>\n",
       "    </tr>\n",
       "    <tr>\n",
       "      <th>2015-04-13</th>\n",
       "      <td>11</td>\n",
       "      <td>4</td>\n",
       "      <td>1</td>\n",
       "      <td>0</td>\n",
       "      <td>1</td>\n",
       "      <td>0</td>\n",
       "    </tr>\n",
       "  </tbody>\n",
       "</table>\n",
       "</div>"
      ],
      "text/plain": [
       "            likes  retweet  count_comments  senti_negative  senti_neutral  \\\n",
       "2015-04-09     11        5               9               0              2   \n",
       "2015-04-10     20        2               0               0              0   \n",
       "2015-04-11     16        2               0               0              1   \n",
       "2015-04-12     14        5               1               0              1   \n",
       "2015-04-13     11        4               1               0              1   \n",
       "\n",
       "            senti_positive  \n",
       "2015-04-09               8  \n",
       "2015-04-10               1  \n",
       "2015-04-11               0  \n",
       "2015-04-12               0  \n",
       "2015-04-13               0  "
      ]
     },
     "execution_count": 14,
     "metadata": {},
     "output_type": "execute_result"
    }
   ],
   "source": [
    "#Explore summing the individual column by date\n",
    "tweet_df2.groupby([tweet_df2.index.date]).aggregate(np.sum).head()"
   ]
  },
  {
   "cell_type": "code",
   "execution_count": 15,
   "metadata": {},
   "outputs": [],
   "source": [
    "#Sum tweet feature values by date\n",
    "tweet_sum_df = tweet_df2.groupby([tweet_df2.index.date]).aggregate(np.sum)"
   ]
  },
  {
   "cell_type": "code",
   "execution_count": 16,
   "metadata": {
    "scrolled": true
   },
   "outputs": [
    {
     "name": "stdout",
     "output_type": "stream",
     "text": [
      "<class 'pandas.core.frame.DataFrame'>\n",
      "Index: 533 entries, 2015-04-09 to 2019-05-16\n",
      "Data columns (total 6 columns):\n",
      "likes             533 non-null int64\n",
      "retweet           533 non-null int64\n",
      "count_comments    533 non-null int64\n",
      "senti_negative    533 non-null uint8\n",
      "senti_neutral     533 non-null uint8\n",
      "senti_positive    533 non-null uint8\n",
      "dtypes: int64(3), uint8(3)\n",
      "memory usage: 18.2+ KB\n"
     ]
    }
   ],
   "source": [
    "tweet_sum_df.info()"
   ]
  },
  {
   "cell_type": "code",
   "execution_count": 17,
   "metadata": {},
   "outputs": [],
   "source": [
    "#reset date as index for later use in dataframe time series, resampling (quarterly) and  join operations\n",
    "tweet_sum_df.index = pd.to_datetime(tweet_sum_df.index)"
   ]
  },
  {
   "cell_type": "code",
   "execution_count": 18,
   "metadata": {},
   "outputs": [
    {
     "data": {
      "text/html": [
       "<div>\n",
       "<style scoped>\n",
       "    .dataframe tbody tr th:only-of-type {\n",
       "        vertical-align: middle;\n",
       "    }\n",
       "\n",
       "    .dataframe tbody tr th {\n",
       "        vertical-align: top;\n",
       "    }\n",
       "\n",
       "    .dataframe thead th {\n",
       "        text-align: right;\n",
       "    }\n",
       "</style>\n",
       "<table border=\"1\" class=\"dataframe\">\n",
       "  <thead>\n",
       "    <tr style=\"text-align: right;\">\n",
       "      <th></th>\n",
       "      <th>likes</th>\n",
       "      <th>retweet</th>\n",
       "      <th>count_comments</th>\n",
       "      <th>senti_negative</th>\n",
       "      <th>senti_neutral</th>\n",
       "      <th>senti_positive</th>\n",
       "    </tr>\n",
       "  </thead>\n",
       "  <tbody>\n",
       "    <tr>\n",
       "      <th>2015-06-30</th>\n",
       "      <td>896</td>\n",
       "      <td>348</td>\n",
       "      <td>152</td>\n",
       "      <td>4</td>\n",
       "      <td>39</td>\n",
       "      <td>48</td>\n",
       "    </tr>\n",
       "    <tr>\n",
       "      <th>2015-09-30</th>\n",
       "      <td>263</td>\n",
       "      <td>190</td>\n",
       "      <td>139</td>\n",
       "      <td>0</td>\n",
       "      <td>10</td>\n",
       "      <td>17</td>\n",
       "    </tr>\n",
       "    <tr>\n",
       "      <th>2015-12-31</th>\n",
       "      <td>154</td>\n",
       "      <td>57</td>\n",
       "      <td>35</td>\n",
       "      <td>1</td>\n",
       "      <td>9</td>\n",
       "      <td>9</td>\n",
       "    </tr>\n",
       "    <tr>\n",
       "      <th>2016-03-31</th>\n",
       "      <td>171</td>\n",
       "      <td>85</td>\n",
       "      <td>15</td>\n",
       "      <td>0</td>\n",
       "      <td>3</td>\n",
       "      <td>3</td>\n",
       "    </tr>\n",
       "    <tr>\n",
       "      <th>2016-06-30</th>\n",
       "      <td>585</td>\n",
       "      <td>141</td>\n",
       "      <td>64</td>\n",
       "      <td>3</td>\n",
       "      <td>6</td>\n",
       "      <td>12</td>\n",
       "    </tr>\n",
       "    <tr>\n",
       "      <th>2016-09-30</th>\n",
       "      <td>1051</td>\n",
       "      <td>327</td>\n",
       "      <td>278</td>\n",
       "      <td>3</td>\n",
       "      <td>16</td>\n",
       "      <td>27</td>\n",
       "    </tr>\n",
       "    <tr>\n",
       "      <th>2016-12-31</th>\n",
       "      <td>556</td>\n",
       "      <td>120</td>\n",
       "      <td>45</td>\n",
       "      <td>2</td>\n",
       "      <td>7</td>\n",
       "      <td>14</td>\n",
       "    </tr>\n",
       "    <tr>\n",
       "      <th>2017-03-31</th>\n",
       "      <td>494</td>\n",
       "      <td>130</td>\n",
       "      <td>64</td>\n",
       "      <td>4</td>\n",
       "      <td>7</td>\n",
       "      <td>20</td>\n",
       "    </tr>\n",
       "    <tr>\n",
       "      <th>2017-06-30</th>\n",
       "      <td>742</td>\n",
       "      <td>183</td>\n",
       "      <td>313</td>\n",
       "      <td>2</td>\n",
       "      <td>13</td>\n",
       "      <td>47</td>\n",
       "    </tr>\n",
       "    <tr>\n",
       "      <th>2017-09-30</th>\n",
       "      <td>1160</td>\n",
       "      <td>250</td>\n",
       "      <td>679</td>\n",
       "      <td>9</td>\n",
       "      <td>32</td>\n",
       "      <td>82</td>\n",
       "    </tr>\n",
       "    <tr>\n",
       "      <th>2017-12-31</th>\n",
       "      <td>1492</td>\n",
       "      <td>303</td>\n",
       "      <td>500</td>\n",
       "      <td>8</td>\n",
       "      <td>34</td>\n",
       "      <td>105</td>\n",
       "    </tr>\n",
       "    <tr>\n",
       "      <th>2018-03-31</th>\n",
       "      <td>1199</td>\n",
       "      <td>159</td>\n",
       "      <td>222</td>\n",
       "      <td>9</td>\n",
       "      <td>27</td>\n",
       "      <td>62</td>\n",
       "    </tr>\n",
       "    <tr>\n",
       "      <th>2018-06-30</th>\n",
       "      <td>897</td>\n",
       "      <td>112</td>\n",
       "      <td>217</td>\n",
       "      <td>5</td>\n",
       "      <td>5</td>\n",
       "      <td>50</td>\n",
       "    </tr>\n",
       "    <tr>\n",
       "      <th>2018-09-30</th>\n",
       "      <td>344</td>\n",
       "      <td>68</td>\n",
       "      <td>385</td>\n",
       "      <td>0</td>\n",
       "      <td>2</td>\n",
       "      <td>8</td>\n",
       "    </tr>\n",
       "    <tr>\n",
       "      <th>2018-12-31</th>\n",
       "      <td>246</td>\n",
       "      <td>66</td>\n",
       "      <td>260</td>\n",
       "      <td>0</td>\n",
       "      <td>2</td>\n",
       "      <td>8</td>\n",
       "    </tr>\n",
       "    <tr>\n",
       "      <th>2019-03-31</th>\n",
       "      <td>302</td>\n",
       "      <td>53</td>\n",
       "      <td>285</td>\n",
       "      <td>2</td>\n",
       "      <td>0</td>\n",
       "      <td>11</td>\n",
       "    </tr>\n",
       "    <tr>\n",
       "      <th>2019-06-30</th>\n",
       "      <td>202</td>\n",
       "      <td>28</td>\n",
       "      <td>205</td>\n",
       "      <td>1</td>\n",
       "      <td>1</td>\n",
       "      <td>9</td>\n",
       "    </tr>\n",
       "  </tbody>\n",
       "</table>\n",
       "</div>"
      ],
      "text/plain": [
       "            likes  retweet  count_comments  senti_negative  senti_neutral  \\\n",
       "2015-06-30    896      348             152               4             39   \n",
       "2015-09-30    263      190             139               0             10   \n",
       "2015-12-31    154       57              35               1              9   \n",
       "2016-03-31    171       85              15               0              3   \n",
       "2016-06-30    585      141              64               3              6   \n",
       "2016-09-30   1051      327             278               3             16   \n",
       "2016-12-31    556      120              45               2              7   \n",
       "2017-03-31    494      130              64               4              7   \n",
       "2017-06-30    742      183             313               2             13   \n",
       "2017-09-30   1160      250             679               9             32   \n",
       "2017-12-31   1492      303             500               8             34   \n",
       "2018-03-31   1199      159             222               9             27   \n",
       "2018-06-30    897      112             217               5              5   \n",
       "2018-09-30    344       68             385               0              2   \n",
       "2018-12-31    246       66             260               0              2   \n",
       "2019-03-31    302       53             285               2              0   \n",
       "2019-06-30    202       28             205               1              1   \n",
       "\n",
       "            senti_positive  \n",
       "2015-06-30              48  \n",
       "2015-09-30              17  \n",
       "2015-12-31               9  \n",
       "2016-03-31               3  \n",
       "2016-06-30              12  \n",
       "2016-09-30              27  \n",
       "2016-12-31              14  \n",
       "2017-03-31              20  \n",
       "2017-06-30              47  \n",
       "2017-09-30              82  \n",
       "2017-12-31             105  \n",
       "2018-03-31              62  \n",
       "2018-06-30              50  \n",
       "2018-09-30               8  \n",
       "2018-12-31               8  \n",
       "2019-03-31              11  \n",
       "2019-06-30               9  "
      ]
     },
     "execution_count": 18,
     "metadata": {},
     "output_type": "execute_result"
    }
   ],
   "source": [
    "#Explore the resampling by Quarterly and aggregation.. this should be similar to cumsun function\n",
    "tweet_sum_df.resample('Q', label='right').sum()"
   ]
  },
  {
   "cell_type": "code",
   "execution_count": 19,
   "metadata": {},
   "outputs": [
    {
     "name": "stdout",
     "output_type": "stream",
     "text": [
      "likes             896\n",
      "retweet           348\n",
      "count_comments    152\n",
      "senti_negative      4\n",
      "senti_neutral      39\n",
      "senti_positive     48\n",
      "dtype: int64\n",
      "\n",
      "likes             263\n",
      "retweet           190\n",
      "count_comments    139\n",
      "senti_negative      0\n",
      "senti_neutral      10\n",
      "senti_positive     17\n",
      "dtype: int64\n"
     ]
    }
   ],
   "source": [
    "# Check the Resampling and aggreggation is correct... using specific quarter date.\n",
    "print(tweet_sum_df.loc[:'2015-06-30'].sum())\n",
    "print()\n",
    "print(tweet_sum_df.loc['2015-06-30': '2015-09-30'].sum())"
   ]
  },
  {
   "cell_type": "code",
   "execution_count": 20,
   "metadata": {},
   "outputs": [],
   "source": [
    "#Resample tweet data to Quarterly to match Revenue time series\n",
    "tweet_sum_quarterly_df = tweet_sum_df.resample('Q', label='right').sum()"
   ]
  },
  {
   "cell_type": "code",
   "execution_count": 21,
   "metadata": {
    "scrolled": true
   },
   "outputs": [
    {
     "name": "stdout",
     "output_type": "stream",
     "text": [
      "<class 'pandas.core.frame.DataFrame'>\n",
      "DatetimeIndex: 17 entries, 2015-06-30 to 2019-06-30\n",
      "Freq: Q-DEC\n",
      "Data columns (total 6 columns):\n",
      "likes             17 non-null int64\n",
      "retweet           17 non-null int64\n",
      "count_comments    17 non-null int64\n",
      "senti_negative    17 non-null uint8\n",
      "senti_neutral     17 non-null uint8\n",
      "senti_positive    17 non-null uint8\n",
      "dtypes: int64(3), uint8(3)\n",
      "memory usage: 595.0 bytes\n"
     ]
    }
   ],
   "source": [
    "#Explore data\n",
    "tweet_sum_quarterly_df.info()"
   ]
  },
  {
   "cell_type": "code",
   "execution_count": 22,
   "metadata": {},
   "outputs": [
    {
     "data": {
      "text/html": [
       "<div>\n",
       "<style scoped>\n",
       "    .dataframe tbody tr th:only-of-type {\n",
       "        vertical-align: middle;\n",
       "    }\n",
       "\n",
       "    .dataframe tbody tr th {\n",
       "        vertical-align: top;\n",
       "    }\n",
       "\n",
       "    .dataframe thead th {\n",
       "        text-align: right;\n",
       "    }\n",
       "</style>\n",
       "<table border=\"1\" class=\"dataframe\">\n",
       "  <thead>\n",
       "    <tr style=\"text-align: right;\">\n",
       "      <th></th>\n",
       "      <th>totalRevenue</th>\n",
       "      <th>costOfRevenue</th>\n",
       "      <th>likes</th>\n",
       "      <th>retweet</th>\n",
       "      <th>count_comments</th>\n",
       "      <th>senti_negative</th>\n",
       "      <th>senti_neutral</th>\n",
       "      <th>senti_positive</th>\n",
       "    </tr>\n",
       "  </thead>\n",
       "  <tbody>\n",
       "    <tr>\n",
       "      <th>2019-03-31</th>\n",
       "      <td>2837000000.00</td>\n",
       "      <td>501000000.00</td>\n",
       "      <td>302</td>\n",
       "      <td>53</td>\n",
       "      <td>285</td>\n",
       "      <td>2</td>\n",
       "      <td>0</td>\n",
       "      <td>11</td>\n",
       "    </tr>\n",
       "    <tr>\n",
       "      <th>2018-12-31</th>\n",
       "      <td>3212615000.00</td>\n",
       "      <td>242000000.00</td>\n",
       "      <td>246</td>\n",
       "      <td>66</td>\n",
       "      <td>260</td>\n",
       "      <td>0</td>\n",
       "      <td>2</td>\n",
       "      <td>8</td>\n",
       "    </tr>\n",
       "    <tr>\n",
       "      <th>2018-09-30</th>\n",
       "      <td>4849090000.00</td>\n",
       "      <td>0.00</td>\n",
       "      <td>344</td>\n",
       "      <td>68</td>\n",
       "      <td>385</td>\n",
       "      <td>0</td>\n",
       "      <td>2</td>\n",
       "      <td>8</td>\n",
       "    </tr>\n",
       "    <tr>\n",
       "      <th>2018-06-30</th>\n",
       "      <td>3537094000.00</td>\n",
       "      <td>0.00</td>\n",
       "      <td>897</td>\n",
       "      <td>112</td>\n",
       "      <td>217</td>\n",
       "      <td>5</td>\n",
       "      <td>5</td>\n",
       "      <td>50</td>\n",
       "    </tr>\n",
       "    <tr>\n",
       "      <th>2018-03-31</th>\n",
       "      <td>2928201000.00</td>\n",
       "      <td>0.00</td>\n",
       "      <td>1199</td>\n",
       "      <td>159</td>\n",
       "      <td>222</td>\n",
       "      <td>9</td>\n",
       "      <td>27</td>\n",
       "      <td>62</td>\n",
       "    </tr>\n",
       "    <tr>\n",
       "      <th>2017-12-31</th>\n",
       "      <td>2803093000.00</td>\n",
       "      <td>45150000.00</td>\n",
       "      <td>1492</td>\n",
       "      <td>303</td>\n",
       "      <td>500</td>\n",
       "      <td>8</td>\n",
       "      <td>34</td>\n",
       "      <td>105</td>\n",
       "    </tr>\n",
       "    <tr>\n",
       "      <th>2017-09-30</th>\n",
       "      <td>4434029000.00</td>\n",
       "      <td>54181000.00</td>\n",
       "      <td>1160</td>\n",
       "      <td>250</td>\n",
       "      <td>679</td>\n",
       "      <td>9</td>\n",
       "      <td>32</td>\n",
       "      <td>82</td>\n",
       "    </tr>\n",
       "    <tr>\n",
       "      <th>2017-06-30</th>\n",
       "      <td>3024556000.00</td>\n",
       "      <td>67425000.00</td>\n",
       "      <td>742</td>\n",
       "      <td>183</td>\n",
       "      <td>313</td>\n",
       "      <td>2</td>\n",
       "      <td>13</td>\n",
       "      <td>47</td>\n",
       "    </tr>\n",
       "    <tr>\n",
       "      <th>2017-03-31</th>\n",
       "      <td>2419404000.00</td>\n",
       "      <td>80401000.00</td>\n",
       "      <td>494</td>\n",
       "      <td>130</td>\n",
       "      <td>64</td>\n",
       "      <td>4</td>\n",
       "      <td>7</td>\n",
       "      <td>20</td>\n",
       "    </tr>\n",
       "    <tr>\n",
       "      <th>2016-12-31</th>\n",
       "      <td>2348433000.00</td>\n",
       "      <td>72072000.00</td>\n",
       "      <td>556</td>\n",
       "      <td>120</td>\n",
       "      <td>45</td>\n",
       "      <td>2</td>\n",
       "      <td>7</td>\n",
       "      <td>14</td>\n",
       "    </tr>\n",
       "    <tr>\n",
       "      <th>2016-09-30</th>\n",
       "      <td>3690552000.00</td>\n",
       "      <td>101489000.00</td>\n",
       "      <td>1051</td>\n",
       "      <td>327</td>\n",
       "      <td>278</td>\n",
       "      <td>3</td>\n",
       "      <td>16</td>\n",
       "      <td>27</td>\n",
       "    </tr>\n",
       "    <tr>\n",
       "      <th>2016-06-30</th>\n",
       "      <td>2555902000.00</td>\n",
       "      <td>126084000.00</td>\n",
       "      <td>585</td>\n",
       "      <td>141</td>\n",
       "      <td>64</td>\n",
       "      <td>3</td>\n",
       "      <td>6</td>\n",
       "      <td>12</td>\n",
       "    </tr>\n",
       "    <tr>\n",
       "      <th>2016-03-31</th>\n",
       "      <td>2148119000.00</td>\n",
       "      <td>128669000.00</td>\n",
       "      <td>171</td>\n",
       "      <td>85</td>\n",
       "      <td>15</td>\n",
       "      <td>0</td>\n",
       "      <td>3</td>\n",
       "      <td>3</td>\n",
       "    </tr>\n",
       "    <tr>\n",
       "      <th>2015-12-31</th>\n",
       "      <td>1999995000.00</td>\n",
       "      <td>120612000.00</td>\n",
       "      <td>154</td>\n",
       "      <td>57</td>\n",
       "      <td>35</td>\n",
       "      <td>1</td>\n",
       "      <td>9</td>\n",
       "      <td>9</td>\n",
       "    </tr>\n",
       "    <tr>\n",
       "      <th>2015-09-30</th>\n",
       "      <td>3102901000.00</td>\n",
       "      <td>169274000.00</td>\n",
       "      <td>263</td>\n",
       "      <td>190</td>\n",
       "      <td>139</td>\n",
       "      <td>0</td>\n",
       "      <td>10</td>\n",
       "      <td>17</td>\n",
       "    </tr>\n",
       "    <tr>\n",
       "      <th>2015-06-30</th>\n",
       "      <td>2280397000.00</td>\n",
       "      <td>187491000.00</td>\n",
       "      <td>896</td>\n",
       "      <td>348</td>\n",
       "      <td>152</td>\n",
       "      <td>4</td>\n",
       "      <td>39</td>\n",
       "      <td>48</td>\n",
       "    </tr>\n",
       "  </tbody>\n",
       "</table>\n",
       "</div>"
      ],
      "text/plain": [
       "             totalRevenue costOfRevenue  likes  retweet  count_comments  \\\n",
       "2019-03-31  2837000000.00  501000000.00    302       53             285   \n",
       "2018-12-31  3212615000.00  242000000.00    246       66             260   \n",
       "2018-09-30  4849090000.00          0.00    344       68             385   \n",
       "2018-06-30  3537094000.00          0.00    897      112             217   \n",
       "2018-03-31  2928201000.00          0.00   1199      159             222   \n",
       "2017-12-31  2803093000.00   45150000.00   1492      303             500   \n",
       "2017-09-30  4434029000.00   54181000.00   1160      250             679   \n",
       "2017-06-30  3024556000.00   67425000.00    742      183             313   \n",
       "2017-03-31  2419404000.00   80401000.00    494      130              64   \n",
       "2016-12-31  2348433000.00   72072000.00    556      120              45   \n",
       "2016-09-30  3690552000.00  101489000.00   1051      327             278   \n",
       "2016-06-30  2555902000.00  126084000.00    585      141              64   \n",
       "2016-03-31  2148119000.00  128669000.00    171       85              15   \n",
       "2015-12-31  1999995000.00  120612000.00    154       57              35   \n",
       "2015-09-30  3102901000.00  169274000.00    263      190             139   \n",
       "2015-06-30  2280397000.00  187491000.00    896      348             152   \n",
       "\n",
       "            senti_negative  senti_neutral  senti_positive  \n",
       "2019-03-31               2              0              11  \n",
       "2018-12-31               0              2               8  \n",
       "2018-09-30               0              2               8  \n",
       "2018-06-30               5              5              50  \n",
       "2018-03-31               9             27              62  \n",
       "2017-12-31               8             34             105  \n",
       "2017-09-30               9             32              82  \n",
       "2017-06-30               2             13              47  \n",
       "2017-03-31               4              7              20  \n",
       "2016-12-31               2              7              14  \n",
       "2016-09-30               3             16              27  \n",
       "2016-06-30               3              6              12  \n",
       "2016-03-31               0              3               3  \n",
       "2015-12-31               1              9               9  \n",
       "2015-09-30               0             10              17  \n",
       "2015-06-30               4             39              48  "
      ]
     },
     "execution_count": 22,
     "metadata": {},
     "output_type": "execute_result"
    }
   ],
   "source": [
    "#Join tweet and revenue dataframe by quarterly date\n",
    "tweet_fund_df = fund_df[['totalRevenue','costOfRevenue']].join(tweet_sum_quarterly_df, how='inner')\n",
    "tweet_fund_df"
   ]
  },
  {
   "cell_type": "code",
   "execution_count": 23,
   "metadata": {},
   "outputs": [],
   "source": [
    "#Drop costOfRevenue as this will not be needed\n",
    "tweet_fund_df.drop('costOfRevenue', axis=1, inplace=True)"
   ]
  },
  {
   "cell_type": "code",
   "execution_count": 24,
   "metadata": {},
   "outputs": [
    {
     "name": "stderr",
     "output_type": "stream",
     "text": [
      "C:\\Users\\eche1\\Anaconda3\\lib\\site-packages\\sklearn\\preprocessing\\data.py:625: DataConversionWarning: Data with input dtype uint8, int64, object were all converted to float64 by StandardScaler.\n",
      "  return self.partial_fit(X, y)\n",
      "C:\\Users\\eche1\\Anaconda3\\lib\\site-packages\\sklearn\\base.py:462: DataConversionWarning: Data with input dtype uint8, int64, object were all converted to float64 by StandardScaler.\n",
      "  return self.fit(X, **fit_params).transform(X)\n"
     ]
    }
   ],
   "source": [
    "#Normalise and standardise the data values\n",
    "from sklearn import preprocessing as prep\n",
    "#tweet_fund_df_nom = pd.DataFrame(prep.MinMaxScaler(feature_range=(0, 1)).fit_transform(tweet_fund_df), columns=tweet_fund_df.columns, index=tweet_fund_df.index)\n",
    "tweet_fund_df_nom = pd.DataFrame(prep.StandardScaler().fit_transform(tweet_fund_df), columns=tweet_fund_df.columns, index=tweet_fund_df.index)"
   ]
  },
  {
   "cell_type": "code",
   "execution_count": 25,
   "metadata": {},
   "outputs": [
    {
     "data": {
      "text/html": [
       "<div>\n",
       "<style scoped>\n",
       "    .dataframe tbody tr th:only-of-type {\n",
       "        vertical-align: middle;\n",
       "    }\n",
       "\n",
       "    .dataframe tbody tr th {\n",
       "        vertical-align: top;\n",
       "    }\n",
       "\n",
       "    .dataframe thead th {\n",
       "        text-align: right;\n",
       "    }\n",
       "</style>\n",
       "<table border=\"1\" class=\"dataframe\">\n",
       "  <thead>\n",
       "    <tr style=\"text-align: right;\">\n",
       "      <th></th>\n",
       "      <th>totalRevenue</th>\n",
       "      <th>likes</th>\n",
       "      <th>retweet</th>\n",
       "      <th>count_comments</th>\n",
       "      <th>senti_negative</th>\n",
       "      <th>senti_neutral</th>\n",
       "      <th>senti_positive</th>\n",
       "    </tr>\n",
       "  </thead>\n",
       "  <tbody>\n",
       "    <tr>\n",
       "      <th>2019-03-31</th>\n",
       "      <td>-0.224631</td>\n",
       "      <td>-0.886782</td>\n",
       "      <td>-1.151780</td>\n",
       "      <td>0.320742</td>\n",
       "      <td>-0.415227</td>\n",
       "      <td>-1.081182</td>\n",
       "      <td>-0.743672</td>\n",
       "    </tr>\n",
       "    <tr>\n",
       "      <th>2018-12-31</th>\n",
       "      <td>0.261087</td>\n",
       "      <td>-1.025690</td>\n",
       "      <td>-1.014412</td>\n",
       "      <td>0.179290</td>\n",
       "      <td>-1.079591</td>\n",
       "      <td>-0.917985</td>\n",
       "      <td>-0.846543</td>\n",
       "    </tr>\n",
       "    <tr>\n",
       "      <th>2018-09-30</th>\n",
       "      <td>2.377258</td>\n",
       "      <td>-0.782600</td>\n",
       "      <td>-0.993278</td>\n",
       "      <td>0.886550</td>\n",
       "      <td>-1.079591</td>\n",
       "      <td>-0.917985</td>\n",
       "      <td>-0.846543</td>\n",
       "    </tr>\n",
       "    <tr>\n",
       "      <th>2018-06-30</th>\n",
       "      <td>0.680680</td>\n",
       "      <td>0.589121</td>\n",
       "      <td>-0.528339</td>\n",
       "      <td>-0.064007</td>\n",
       "      <td>0.581318</td>\n",
       "      <td>-0.673189</td>\n",
       "      <td>0.593652</td>\n",
       "    </tr>\n",
       "    <tr>\n",
       "      <th>2018-03-31</th>\n",
       "      <td>-0.106696</td>\n",
       "      <td>1.338234</td>\n",
       "      <td>-0.031700</td>\n",
       "      <td>-0.035717</td>\n",
       "      <td>1.910046</td>\n",
       "      <td>1.121982</td>\n",
       "      <td>1.005136</td>\n",
       "    </tr>\n",
       "    <tr>\n",
       "      <th>2017-12-31</th>\n",
       "      <td>-0.268477</td>\n",
       "      <td>2.065023</td>\n",
       "      <td>1.489917</td>\n",
       "      <td>1.537230</td>\n",
       "      <td>1.577864</td>\n",
       "      <td>1.693173</td>\n",
       "      <td>2.479620</td>\n",
       "    </tr>\n",
       "    <tr>\n",
       "      <th>2017-09-30</th>\n",
       "      <td>1.840531</td>\n",
       "      <td>1.241495</td>\n",
       "      <td>0.929877</td>\n",
       "      <td>2.550026</td>\n",
       "      <td>1.910046</td>\n",
       "      <td>1.529975</td>\n",
       "      <td>1.690942</td>\n",
       "    </tr>\n",
       "    <tr>\n",
       "      <th>2017-06-30</th>\n",
       "      <td>0.017903</td>\n",
       "      <td>0.204642</td>\n",
       "      <td>0.221903</td>\n",
       "      <td>0.479169</td>\n",
       "      <td>-0.415227</td>\n",
       "      <td>-0.020400</td>\n",
       "      <td>0.490781</td>\n",
       "    </tr>\n",
       "    <tr>\n",
       "      <th>2017-03-31</th>\n",
       "      <td>-0.764636</td>\n",
       "      <td>-0.410524</td>\n",
       "      <td>-0.338137</td>\n",
       "      <td>-0.929693</td>\n",
       "      <td>0.249136</td>\n",
       "      <td>-0.509992</td>\n",
       "      <td>-0.435059</td>\n",
       "    </tr>\n",
       "    <tr>\n",
       "      <th>2016-12-31</th>\n",
       "      <td>-0.856410</td>\n",
       "      <td>-0.256733</td>\n",
       "      <td>-0.443805</td>\n",
       "      <td>-1.037197</td>\n",
       "      <td>-0.415227</td>\n",
       "      <td>-0.509992</td>\n",
       "      <td>-0.640801</td>\n",
       "    </tr>\n",
       "    <tr>\n",
       "      <th>2016-09-30</th>\n",
       "      <td>0.879121</td>\n",
       "      <td>0.971119</td>\n",
       "      <td>1.743520</td>\n",
       "      <td>0.281136</td>\n",
       "      <td>-0.083045</td>\n",
       "      <td>0.224396</td>\n",
       "      <td>-0.195026</td>\n",
       "    </tr>\n",
       "    <tr>\n",
       "      <th>2016-06-30</th>\n",
       "      <td>-0.588126</td>\n",
       "      <td>-0.184798</td>\n",
       "      <td>-0.221903</td>\n",
       "      <td>-0.929693</td>\n",
       "      <td>-0.083045</td>\n",
       "      <td>-0.591590</td>\n",
       "      <td>-0.709381</td>\n",
       "    </tr>\n",
       "    <tr>\n",
       "      <th>2016-03-31</th>\n",
       "      <td>-1.115442</td>\n",
       "      <td>-1.211728</td>\n",
       "      <td>-0.813643</td>\n",
       "      <td>-1.206939</td>\n",
       "      <td>-1.079591</td>\n",
       "      <td>-0.836386</td>\n",
       "      <td>-1.017995</td>\n",
       "    </tr>\n",
       "    <tr>\n",
       "      <th>2015-12-31</th>\n",
       "      <td>-1.306985</td>\n",
       "      <td>-1.253897</td>\n",
       "      <td>-1.109513</td>\n",
       "      <td>-1.093778</td>\n",
       "      <td>-0.747409</td>\n",
       "      <td>-0.346794</td>\n",
       "      <td>-0.812252</td>\n",
       "    </tr>\n",
       "    <tr>\n",
       "      <th>2015-09-30</th>\n",
       "      <td>0.119213</td>\n",
       "      <td>-0.983522</td>\n",
       "      <td>0.295870</td>\n",
       "      <td>-0.505337</td>\n",
       "      <td>-1.079591</td>\n",
       "      <td>-0.265196</td>\n",
       "      <td>-0.537930</td>\n",
       "    </tr>\n",
       "    <tr>\n",
       "      <th>2015-06-30</th>\n",
       "      <td>-0.944389</td>\n",
       "      <td>0.586640</td>\n",
       "      <td>1.965422</td>\n",
       "      <td>-0.431782</td>\n",
       "      <td>0.249136</td>\n",
       "      <td>2.101166</td>\n",
       "      <td>0.525071</td>\n",
       "    </tr>\n",
       "  </tbody>\n",
       "</table>\n",
       "</div>"
      ],
      "text/plain": [
       "            totalRevenue     likes   retweet  count_comments  senti_negative  \\\n",
       "2019-03-31     -0.224631 -0.886782 -1.151780        0.320742       -0.415227   \n",
       "2018-12-31      0.261087 -1.025690 -1.014412        0.179290       -1.079591   \n",
       "2018-09-30      2.377258 -0.782600 -0.993278        0.886550       -1.079591   \n",
       "2018-06-30      0.680680  0.589121 -0.528339       -0.064007        0.581318   \n",
       "2018-03-31     -0.106696  1.338234 -0.031700       -0.035717        1.910046   \n",
       "2017-12-31     -0.268477  2.065023  1.489917        1.537230        1.577864   \n",
       "2017-09-30      1.840531  1.241495  0.929877        2.550026        1.910046   \n",
       "2017-06-30      0.017903  0.204642  0.221903        0.479169       -0.415227   \n",
       "2017-03-31     -0.764636 -0.410524 -0.338137       -0.929693        0.249136   \n",
       "2016-12-31     -0.856410 -0.256733 -0.443805       -1.037197       -0.415227   \n",
       "2016-09-30      0.879121  0.971119  1.743520        0.281136       -0.083045   \n",
       "2016-06-30     -0.588126 -0.184798 -0.221903       -0.929693       -0.083045   \n",
       "2016-03-31     -1.115442 -1.211728 -0.813643       -1.206939       -1.079591   \n",
       "2015-12-31     -1.306985 -1.253897 -1.109513       -1.093778       -0.747409   \n",
       "2015-09-30      0.119213 -0.983522  0.295870       -0.505337       -1.079591   \n",
       "2015-06-30     -0.944389  0.586640  1.965422       -0.431782        0.249136   \n",
       "\n",
       "            senti_neutral  senti_positive  \n",
       "2019-03-31      -1.081182       -0.743672  \n",
       "2018-12-31      -0.917985       -0.846543  \n",
       "2018-09-30      -0.917985       -0.846543  \n",
       "2018-06-30      -0.673189        0.593652  \n",
       "2018-03-31       1.121982        1.005136  \n",
       "2017-12-31       1.693173        2.479620  \n",
       "2017-09-30       1.529975        1.690942  \n",
       "2017-06-30      -0.020400        0.490781  \n",
       "2017-03-31      -0.509992       -0.435059  \n",
       "2016-12-31      -0.509992       -0.640801  \n",
       "2016-09-30       0.224396       -0.195026  \n",
       "2016-06-30      -0.591590       -0.709381  \n",
       "2016-03-31      -0.836386       -1.017995  \n",
       "2015-12-31      -0.346794       -0.812252  \n",
       "2015-09-30      -0.265196       -0.537930  \n",
       "2015-06-30       2.101166        0.525071  "
      ]
     },
     "execution_count": 25,
     "metadata": {},
     "output_type": "execute_result"
    }
   ],
   "source": [
    "#Explore normalised dataframe\n",
    "tweet_fund_df_nom"
   ]
  },
  {
   "cell_type": "code",
   "execution_count": 26,
   "metadata": {
    "scrolled": true
   },
   "outputs": [
    {
     "data": {
      "text/html": [
       "<div>\n",
       "<style scoped>\n",
       "    .dataframe tbody tr th:only-of-type {\n",
       "        vertical-align: middle;\n",
       "    }\n",
       "\n",
       "    .dataframe tbody tr th {\n",
       "        vertical-align: top;\n",
       "    }\n",
       "\n",
       "    .dataframe thead th {\n",
       "        text-align: right;\n",
       "    }\n",
       "</style>\n",
       "<table border=\"1\" class=\"dataframe\">\n",
       "  <thead>\n",
       "    <tr style=\"text-align: right;\">\n",
       "      <th></th>\n",
       "      <th>totalRevenue</th>\n",
       "      <th>likes</th>\n",
       "      <th>retweet</th>\n",
       "      <th>count_comments</th>\n",
       "      <th>senti_negative</th>\n",
       "      <th>senti_neutral</th>\n",
       "      <th>senti_positive</th>\n",
       "    </tr>\n",
       "  </thead>\n",
       "  <tbody>\n",
       "    <tr>\n",
       "      <th>totalRevenue</th>\n",
       "      <td>1.000000</td>\n",
       "      <td>0.242425</td>\n",
       "      <td>0.089407</td>\n",
       "      <td>0.740516</td>\n",
       "      <td>0.154957</td>\n",
       "      <td>0.021636</td>\n",
       "      <td>0.215627</td>\n",
       "    </tr>\n",
       "    <tr>\n",
       "      <th>likes</th>\n",
       "      <td>0.242425</td>\n",
       "      <td>1.000000</td>\n",
       "      <td>0.749258</td>\n",
       "      <td>0.585070</td>\n",
       "      <td>0.884749</td>\n",
       "      <td>0.795292</td>\n",
       "      <td>0.911202</td>\n",
       "    </tr>\n",
       "    <tr>\n",
       "      <th>retweet</th>\n",
       "      <td>0.089407</td>\n",
       "      <td>0.749258</td>\n",
       "      <td>1.000000</td>\n",
       "      <td>0.377470</td>\n",
       "      <td>0.510280</td>\n",
       "      <td>0.836692</td>\n",
       "      <td>0.652346</td>\n",
       "    </tr>\n",
       "    <tr>\n",
       "      <th>count_comments</th>\n",
       "      <td>0.740516</td>\n",
       "      <td>0.585070</td>\n",
       "      <td>0.377470</td>\n",
       "      <td>1.000000</td>\n",
       "      <td>0.532460</td>\n",
       "      <td>0.462752</td>\n",
       "      <td>0.686259</td>\n",
       "    </tr>\n",
       "    <tr>\n",
       "      <th>senti_negative</th>\n",
       "      <td>0.154957</td>\n",
       "      <td>0.884749</td>\n",
       "      <td>0.510280</td>\n",
       "      <td>0.532460</td>\n",
       "      <td>1.000000</td>\n",
       "      <td>0.742016</td>\n",
       "      <td>0.874409</td>\n",
       "    </tr>\n",
       "    <tr>\n",
       "      <th>senti_neutral</th>\n",
       "      <td>0.021636</td>\n",
       "      <td>0.795292</td>\n",
       "      <td>0.836692</td>\n",
       "      <td>0.462752</td>\n",
       "      <td>0.742016</td>\n",
       "      <td>1.000000</td>\n",
       "      <td>0.822844</td>\n",
       "    </tr>\n",
       "    <tr>\n",
       "      <th>senti_positive</th>\n",
       "      <td>0.215627</td>\n",
       "      <td>0.911202</td>\n",
       "      <td>0.652346</td>\n",
       "      <td>0.686259</td>\n",
       "      <td>0.874409</td>\n",
       "      <td>0.822844</td>\n",
       "      <td>1.000000</td>\n",
       "    </tr>\n",
       "  </tbody>\n",
       "</table>\n",
       "</div>"
      ],
      "text/plain": [
       "                totalRevenue     likes   retweet  count_comments  \\\n",
       "totalRevenue        1.000000  0.242425  0.089407        0.740516   \n",
       "likes               0.242425  1.000000  0.749258        0.585070   \n",
       "retweet             0.089407  0.749258  1.000000        0.377470   \n",
       "count_comments      0.740516  0.585070  0.377470        1.000000   \n",
       "senti_negative      0.154957  0.884749  0.510280        0.532460   \n",
       "senti_neutral       0.021636  0.795292  0.836692        0.462752   \n",
       "senti_positive      0.215627  0.911202  0.652346        0.686259   \n",
       "\n",
       "                senti_negative  senti_neutral  senti_positive  \n",
       "totalRevenue          0.154957       0.021636        0.215627  \n",
       "likes                 0.884749       0.795292        0.911202  \n",
       "retweet               0.510280       0.836692        0.652346  \n",
       "count_comments        0.532460       0.462752        0.686259  \n",
       "senti_negative        1.000000       0.742016        0.874409  \n",
       "senti_neutral         0.742016       1.000000        0.822844  \n",
       "senti_positive        0.874409       0.822844        1.000000  "
      ]
     },
     "execution_count": 26,
     "metadata": {},
     "output_type": "execute_result"
    }
   ],
   "source": [
    "#Explore correlation between Revenue and other feature values\n",
    "tweet_fund_df_nom.corr()"
   ]
  },
  {
   "cell_type": "code",
   "execution_count": 27,
   "metadata": {},
   "outputs": [
    {
     "data": {
      "text/plain": [
       "<matplotlib.axes._subplots.AxesSubplot at 0x17b91f85160>"
      ]
     },
     "execution_count": 27,
     "metadata": {},
     "output_type": "execute_result"
    },
    {
     "data": {
      "image/png": "[encoded data removed]",
      "text/plain": [
       "<Figure size 432x288 with 2 Axes>"
      ]
     },
     "metadata": {
      "needs_background": "light"
     },
     "output_type": "display_data"
    }
   ],
   "source": [
    "#Explore visual correlation between Revenue and other feature values\n",
    "sns.heatmap(tweet_fund_df_nom.corr(), annot=True)"
   ]
  },
  {
   "cell_type": "code",
   "execution_count": 28,
   "metadata": {
    "scrolled": false
   },
   "outputs": [
    {
     "data": {
      "text/plain": [
       "array([<matplotlib.axes._subplots.AxesSubplot object at 0x0000017B91F2D438>,\n",
       "       <matplotlib.axes._subplots.AxesSubplot object at 0x0000017B91F16C50>,\n",
       "       <matplotlib.axes._subplots.AxesSubplot object at 0x0000017B91F038D0>,\n",
       "       <matplotlib.axes._subplots.AxesSubplot object at 0x0000017B91EF14A8>,\n",
       "       <matplotlib.axes._subplots.AxesSubplot object at 0x0000017B91EDB1D0>,\n",
       "       <matplotlib.axes._subplots.AxesSubplot object at 0x0000017B91EC6DD8>,\n",
       "       <matplotlib.axes._subplots.AxesSubplot object at 0x0000017B91EB1A20>],\n",
       "      dtype=object)"
      ]
     },
     "execution_count": 28,
     "metadata": {},
     "output_type": "execute_result"
    },
    {
     "data": {
      "image/png": "[encoded data removed]",
      "text/plain": [
       "<Figure size 720x432 with 7 Axes>"
      ]
     },
     "metadata": {
      "needs_background": "light"
     },
     "output_type": "display_data"
    }
   ],
   "source": [
    "#Explore visual correlation between Revenue and other feature values\n",
    "tweet_fund_df_nom.plot(subplots=True, figsize=(10,6))"
   ]
  },
  {
   "cell_type": "code",
   "execution_count": 29,
   "metadata": {
    "scrolled": true
   },
   "outputs": [
    {
     "data": {
      "text/plain": [
       "[{'likes_0': 0.24242485925361343},\n",
       " {'likes_1': 0.1377245548605161},\n",
       " {'likes_2': -0.09931723995146831},\n",
       " {'likes_3': -0.08461449533731318},\n",
       " {'likes_4': -0.10675441759345405},\n",
       " {'retweet_0': 0.08940743062571363},\n",
       " {'retweet_1': -0.06768196380798862},\n",
       " {'retweet_2': -0.356740722273298},\n",
       " {'retweet_3': -0.40819912718815954},\n",
       " {'retweet_4': -0.07544432239596847},\n",
       " {'count_comments_0': 0.7405158540854997},\n",
       " {'count_comments_1': 0.39766299851108655},\n",
       " {'count_comments_2': -0.00035689765884525706},\n",
       " {'count_comments_3': -0.03011492658646072},\n",
       " {'count_comments_4': 0.6120657017565297},\n",
       " {'senti_negative_0': 0.1549570044879294},\n",
       " {'senti_negative_1': 0.07399691940041826},\n",
       " {'senti_negative_2': 0.12554416031877225},\n",
       " {'senti_negative_3': -0.02160128308349073},\n",
       " {'senti_negative_4': -0.14305887708002446},\n",
       " {'senti_neutral_0': 0.021635929529872634},\n",
       " {'senti_neutral_1': 0.1259903230858425},\n",
       " {'senti_neutral_2': -0.1028306947411578},\n",
       " {'senti_neutral_3': -0.30682796770003956},\n",
       " {'senti_neutral_4': -0.06527303203608649},\n",
       " {'senti_positive_0': 0.2156274732281517},\n",
       " {'senti_positive_1': 0.22542981834402565},\n",
       " {'senti_positive_2': -0.028564438375690938},\n",
       " {'senti_positive_3': 0.02207305422646849},\n",
       " {'senti_positive_4': -0.044632623569311344}]"
      ]
     },
     "execution_count": 29,
     "metadata": {},
     "output_type": "execute_result"
    }
   ],
   "source": [
    "#checking whether more correleration can be observed from a time shift or lag of the features with features \n",
    "#that were not originally correlated showing good signal.\n",
    "\n",
    "feats = tweet_fund_df_nom.drop('totalRevenue', axis=1).columns.values\n",
    "[ {x + '_' + str(y) : tweet_fund_df_nom[x].shift(y).corr(tweet_fund_df_nom.totalRevenue)} for x in feats for y in range(5) ]"
   ]
  },
  {
   "cell_type": "markdown",
   "metadata": {},
   "source": [
    "###### Prepare data for using in Stats and Machine Learning Models"
   ]
  },
  {
   "cell_type": "code",
   "execution_count": 30,
   "metadata": {},
   "outputs": [
    {
     "data": {
      "text/plain": [
       "((16, 6), (16,))"
      ]
     },
     "execution_count": 30,
     "metadata": {},
     "output_type": "execute_result"
    }
   ],
   "source": [
    "# Select target(dependent/label) and feature(independent) variables\n",
    "targets = tweet_fund_df_nom['totalRevenue']\n",
    "features = tweet_fund_df_nom.drop(['totalRevenue'], axis=1)\n",
    "feature_names = features.columns\n",
    "feature_names = features.columns\n",
    "features.shape, targets.shape"
   ]
  },
  {
   "cell_type": "code",
   "execution_count": 31,
   "metadata": {},
   "outputs": [],
   "source": [
    "# Using a linear OLS model here \n",
    "import statsmodels.api as sm"
   ]
  },
  {
   "cell_type": "code",
   "execution_count": 32,
   "metadata": {},
   "outputs": [],
   "source": [
    "# Add a constant to the features\n",
    "linear_features = sm.add_constant(features)"
   ]
  },
  {
   "cell_type": "code",
   "execution_count": 33,
   "metadata": {},
   "outputs": [
    {
     "data": {
      "text/plain": [
       "Index(['const', 'likes', 'retweet', 'count_comments', 'senti_negative',\n",
       "       'senti_neutral', 'senti_positive'],\n",
       "      dtype='object')"
      ]
     },
     "execution_count": 33,
     "metadata": {},
     "output_type": "execute_result"
    }
   ],
   "source": [
    "#Explore features columns\n",
    "linear_features.columns"
   ]
  },
  {
   "cell_type": "code",
   "execution_count": 34,
   "metadata": {},
   "outputs": [
    {
     "name": "stdout",
     "output_type": "stream",
     "text": [
      "(16, 7) (13, 7) (3, 7)\n"
     ]
    }
   ],
   "source": [
    "# Create a size for the training set that is 85% of the total number of samples\n",
    "train_size = int(0.85 * targets.shape[0])\n",
    "train_features = linear_features[:train_size]\n",
    "train_targets = targets[:train_size]\n",
    "test_features = linear_features[train_size:]\n",
    "test_targets = targets[train_size:]\n",
    "print(linear_features.shape, train_features.shape, test_features.shape)"
   ]
  },
  {
   "cell_type": "code",
   "execution_count": 35,
   "metadata": {
    "scrolled": true
   },
   "outputs": [
    {
     "name": "stdout",
     "output_type": "stream",
     "text": [
      "                            OLS Regression Results                            \n",
      "==============================================================================\n",
      "Dep. Variable:           totalRevenue   R-squared:                       0.825\n",
      "Model:                            OLS   Adj. R-squared:                  0.649\n",
      "Method:                 Least Squares   F-statistic:                     4.701\n",
      "Date:                Mon, 17 Jun 2019   Prob (F-statistic):             0.0408\n",
      "Time:                        00:40:04   Log-Likelihood:                -7.1495\n",
      "No. Observations:                  13   AIC:                             28.30\n",
      "Df Residuals:                       6   BIC:                             32.25\n",
      "Df Model:                           6                                         \n",
      "Covariance Type:            nonrobust                                         \n",
      "==================================================================================\n",
      "                     coef    std err          t      P>|t|      [0.025      0.975]\n",
      "----------------------------------------------------------------------------------\n",
      "const             -0.2129      0.217     -0.979      0.365      -0.745       0.319\n",
      "likes              1.4794      0.794      1.862      0.112      -0.464       3.423\n",
      "retweet           -0.4985      0.531     -0.938      0.384      -1.798       0.801\n",
      "count_comments     1.2680      0.250      5.069      0.002       0.656       1.880\n",
      "senti_negative    -0.0727      0.511     -0.142      0.892      -1.324       1.178\n",
      "senti_neutral     -0.3358      0.671     -0.501      0.634      -1.977       1.305\n",
      "senti_positive    -1.3056      0.592     -2.207      0.069      -2.753       0.142\n",
      "==============================================================================\n",
      "Omnibus:                        4.119   Durbin-Watson:                   1.343\n",
      "Prob(Omnibus):                  0.128   Jarque-Bera (JB):                1.665\n",
      "Skew:                          -0.820   Prob(JB):                        0.435\n",
      "Kurtosis:                       3.620   Cond. No.                         13.9\n",
      "==============================================================================\n",
      "\n",
      "Warnings:\n",
      "[1] Standard Errors assume that the covariance matrix of the errors is correctly specified.\n"
     ]
    },
    {
     "name": "stderr",
     "output_type": "stream",
     "text": [
      "C:\\Users\\eche1\\Anaconda3\\lib\\site-packages\\scipy\\stats\\stats.py:1394: UserWarning: kurtosistest only valid for n>=20 ... continuing anyway, n=13\n",
      "  \"anyway, n=%i\" % int(n))\n"
     ]
    }
   ],
   "source": [
    "# Create the linear model and complete the least squares fit\n",
    "model = sm.OLS(train_targets, train_features)\n",
    "results = model.fit()  # fit the model\n",
    "print(results.summary())"
   ]
  },
  {
   "cell_type": "code",
   "execution_count": 36,
   "metadata": {
    "scrolled": true
   },
   "outputs": [
    {
     "name": "stdout",
     "output_type": "stream",
     "text": [
      "const             0.365398\n",
      "likes             0.111865\n",
      "retweet           0.384302\n",
      "count_comments    0.002289\n",
      "senti_negative    0.891617\n",
      "senti_neutral     0.634358\n",
      "senti_positive    0.069440\n",
      "dtype: float64\n"
     ]
    }
   ],
   "source": [
    "# Examine pvalues\n",
    "# Features with p <= 0.05 are typically considered significantly different from 0\n",
    "print(results.pvalues)"
   ]
  },
  {
   "cell_type": "code",
   "execution_count": 37,
   "metadata": {},
   "outputs": [],
   "source": [
    "# Make predictions from our model for train and test sets\n",
    "train_predictions = results.predict(train_features)\n",
    "test_predictions = results.predict(test_features)"
   ]
  },
  {
   "cell_type": "code",
   "execution_count": 38,
   "metadata": {},
   "outputs": [
    {
     "data": {
      "image/png": "[encoded data removed]",
      "text/plain": [
       "<Figure size 432x288 with 1 Axes>"
      ]
     },
     "metadata": {
      "needs_background": "light"
     },
     "output_type": "display_data"
    }
   ],
   "source": [
    "# Scatter the predictions vs the targets with 80% transparency\n",
    "plt.scatter(train_predictions, train_targets, alpha=0.2, color='b', label='train')\n",
    "plt.scatter(test_predictions, test_targets, alpha=0.2, color='r', label='test')\n",
    "\n",
    "# Plot the perfect prediction line\n",
    "xmin, xmax = plt.xlim()\n",
    "plt.plot(np.arange(xmin, xmax, 0.01), np.arange(xmin, xmax, 0.01), c='k')\n",
    "\n",
    "# Set the axis labels and show the plot\n",
    "plt.xlabel('predictions')\n",
    "plt.ylabel('actual')\n",
    "plt.legend()  # show the legend\n",
    "plt.show()"
   ]
  },
  {
   "cell_type": "code",
   "execution_count": 39,
   "metadata": {},
   "outputs": [
    {
     "name": "stdout",
     "output_type": "stream",
     "text": [
      "0.8384643116951802\n",
      "-1.6848653996684244\n"
     ]
    }
   ],
   "source": [
    "# Try with Random Forest\n",
    "from sklearn.ensemble import RandomForestRegressor\n",
    "\n",
    "# Create the random forest model and fit to the training data\n",
    "rfr = RandomForestRegressor(n_estimators=200)\n",
    "rfr.fit(train_features, train_targets)\n",
    "\n",
    "# Look at the R^2 scores on train and test\n",
    "print(rfr.score(train_features, train_targets))\n",
    "print(rfr.score(test_features, test_targets))"
   ]
  },
  {
   "cell_type": "code",
   "execution_count": 40,
   "metadata": {},
   "outputs": [
    {
     "data": {
      "image/png": "[encoded data removed]",
      "text/plain": [
       "<Figure size 432x288 with 1 Axes>"
      ]
     },
     "metadata": {
      "needs_background": "light"
     },
     "output_type": "display_data"
    }
   ],
   "source": [
    "# Get feature importances from our random forest model\n",
    "importances = rfr.feature_importances_\n",
    "\n",
    "#importances = importances[1:]\n",
    "\n",
    "# Get the index of importances from greatest importance to least\n",
    "sorted_index = np.argsort(importances)[::-1]\n",
    "x = range(len(importances))\n",
    "\n",
    "# Create tick labels \n",
    "labels = np.array(tweet_fund_df_nom.columns.values)[sorted_index]\n",
    "plt.bar(x, importances[sorted_index], tick_label=labels)\n",
    "\n",
    "# Rotate tick labels to vertical\n",
    "plt.xticks(rotation=90)\n",
    "plt.show()"
   ]
  },
  {
   "cell_type": "code",
   "execution_count": 41,
   "metadata": {},
   "outputs": [
    {
     "name": "stdout",
     "output_type": "stream",
     "text": [
      "0.8070233126623585\n",
      "-1.6743921181243215\n"
     ]
    }
   ],
   "source": [
    "#try out gradient boosting model\n",
    "from sklearn.ensemble import GradientBoostingRegressor\n",
    "\n",
    "# Create GB model -- hyperparameters have already been searched for you\n",
    "gbr = GradientBoostingRegressor(max_features=4,\n",
    "                                learning_rate=0.01,\n",
    "                                n_estimators=200,\n",
    "                                subsample=0.6,\n",
    "                                random_state=42)\n",
    "gbr.fit(train_features, train_targets)\n",
    "\n",
    "\n",
    "print(gbr.score(train_features, train_targets))\n",
    "print(gbr.score(test_features, test_targets))"
   ]
  },
  {
   "cell_type": "code",
   "execution_count": 42,
   "metadata": {
    "scrolled": true
   },
   "outputs": [
    {
     "name": "stdout",
     "output_type": "stream",
     "text": [
      "RMSE: 1.174823\n",
      "0.999981440932979\n",
      "-2.7679015038715566\n"
     ]
    },
    {
     "name": "stderr",
     "output_type": "stream",
     "text": [
      "C:\\Users\\eche1\\Anaconda3\\lib\\site-packages\\xgboost\\core.py:587: FutureWarning: Series.base is deprecated and will be removed in a future version\n",
      "  if getattr(data, 'base', None) is not None and \\\n",
      "C:\\Users\\eche1\\Anaconda3\\lib\\site-packages\\xgboost\\core.py:588: FutureWarning: Series.base is deprecated and will be removed in a future version\n",
      "  data.base is not None and isinstance(data, np.ndarray) \\\n"
     ]
    }
   ],
   "source": [
    "import xgboost as xgb\n",
    "from sklearn.metrics import mean_squared_error\n",
    "# Instantiate the XGBRegressor: xg_reg\n",
    "xg_reg = xgb.XGBRegressor(seed=123, objective='reg:linear', max_depth=10)\n",
    "\n",
    "# Fit the regressor to the training set\n",
    "xg_reg.fit(train_features, train_targets)\n",
    "\n",
    "# Predict the labels of the test set: preds\n",
    "preds = xg_reg.predict(test_features)\n",
    "\n",
    "# Compute the rmse: rmse\n",
    "rmse = np.sqrt(mean_squared_error(test_targets, preds))\n",
    "print(\"RMSE: %f\" % (rmse))\n",
    "\n",
    "\n",
    "print(xg_reg.score(train_features, train_targets))\n",
    "print(xg_reg.score(test_features, test_targets))"
   ]
  },
  {
   "cell_type": "code",
   "execution_count": null,
   "metadata": {},
   "outputs": [],
   "source": []
  },
  {
   "cell_type": "code",
   "execution_count": null,
   "metadata": {},
   "outputs": [],
   "source": []
  },
  {
   "cell_type": "markdown",
   "metadata": {},
   "source": [
    "##### WebTraffic Analysis with Revenue data"
   ]
  },
  {
   "cell_type": "code",
   "execution_count": 43,
   "metadata": {},
   "outputs": [],
   "source": [
    "#Load web traffic data extract from altcap database\n",
    "web_traf = pd.read_csv('C:\\\\Users\\\\eche1\\\\Downloads\\\\BKNG_webtraffic.csv', parse_dates = ['date'])"
   ]
  },
  {
   "cell_type": "code",
   "execution_count": 44,
   "metadata": {
    "scrolled": false
   },
   "outputs": [
    {
     "name": "stdout",
     "output_type": "stream",
     "text": [
      "        date  traffic  paid_traffic\n",
      "0 2012-01-15   339352        429520\n",
      "1 2012-02-15   305865        492690\n",
      "2 2012-03-15   261274        481117\n",
      "3 2012-04-15   354461        472161\n",
      "4 2012-05-15   348095        344127\n",
      "\n",
      "<class 'pandas.core.frame.DataFrame'>\n",
      "RangeIndex: 87 entries, 0 to 86\n",
      "Data columns (total 3 columns):\n",
      "date            87 non-null datetime64[ns]\n",
      "traffic         87 non-null int64\n",
      "paid_traffic    87 non-null int64\n",
      "dtypes: datetime64[ns](1), int64(2)\n",
      "memory usage: 2.1 KB\n",
      "None\n"
     ]
    }
   ],
   "source": [
    "#Explore data\n",
    "print(web_traf.head())\n",
    "print()\n",
    "print(web_traf.info())"
   ]
  },
  {
   "cell_type": "code",
   "execution_count": 45,
   "metadata": {},
   "outputs": [],
   "source": [
    "#set date as index for later use in dataframe time series, resampling (quarterly) and  join operations\n",
    "web_traf.index = pd.to_datetime(web_traf.date)"
   ]
  },
  {
   "cell_type": "code",
   "execution_count": 46,
   "metadata": {},
   "outputs": [],
   "source": [
    "#Resample the data fram to Quarterly to match the revenue data time series\n",
    "web_traf_quarterly = web_traf.resample('Q', label='right').sum()"
   ]
  },
  {
   "cell_type": "code",
   "execution_count": 47,
   "metadata": {
    "scrolled": true
   },
   "outputs": [
    {
     "name": "stdout",
     "output_type": "stream",
     "text": [
      "            traffic  paid_traffic\n",
      "date                             \n",
      "2012-03-31   906491       1403327\n",
      "2012-06-30   938977       1203557\n",
      "2012-09-30  1049085        603426\n",
      "2012-12-31  1374946       1213900\n",
      "2013-03-31  1795384       1564678\n",
      "\n",
      "<class 'pandas.core.frame.DataFrame'>\n",
      "DatetimeIndex: 29 entries, 2012-03-31 to 2019-03-31\n",
      "Freq: Q-DEC\n",
      "Data columns (total 2 columns):\n",
      "traffic         29 non-null int64\n",
      "paid_traffic    29 non-null int64\n",
      "dtypes: int64(2)\n",
      "memory usage: 696.0 bytes\n",
      "None\n"
     ]
    }
   ],
   "source": [
    "#Explore data\n",
    "print(web_traf_quarterly.head())\n",
    "print()\n",
    "print(web_traf_quarterly.info())"
   ]
  },
  {
   "cell_type": "code",
   "execution_count": 48,
   "metadata": {},
   "outputs": [],
   "source": [
    "#Join web traffic and revenue dataframe by quarterly date\n",
    "#webtraffic_fund_df =  fund_df[['totalRevenue','costOfRevenue']].join(web_traf_quarterly,how='inner')\n",
    "webtraffic_fund_df = fund_df[['totalRevenue']].join(web_traf_quarterly,how='inner')"
   ]
  },
  {
   "cell_type": "code",
   "execution_count": 49,
   "metadata": {},
   "outputs": [
    {
     "name": "stdout",
     "output_type": "stream",
     "text": [
      "             totalRevenue   traffic  paid_traffic\n",
      "date                                             \n",
      "2019-03-31  2837000000.00  41952583     292987022\n",
      "2018-12-31  3212615000.00  43465557     197796997\n",
      "2018-09-30  4849090000.00  39868199      85293585\n",
      "2018-06-30  3537094000.00  43277687      16451079\n",
      "2018-03-31  2928201000.00  42974170      15235298\n",
      "\n",
      "<class 'pandas.core.frame.DataFrame'>\n",
      "DatetimeIndex: 29 entries, 2019-03-31 to 2012-03-31\n",
      "Freq: -1Q-DEC\n",
      "Data columns (total 3 columns):\n",
      "totalRevenue    29 non-null object\n",
      "traffic         29 non-null int64\n",
      "paid_traffic    29 non-null int64\n",
      "dtypes: int64(2), object(1)\n",
      "memory usage: 928.0+ bytes\n",
      "None\n"
     ]
    }
   ],
   "source": [
    "#Explore data\n",
    "print(webtraffic_fund_df.head())\n",
    "print()\n",
    "print(webtraffic_fund_df.info())"
   ]
  },
  {
   "cell_type": "code",
   "execution_count": 50,
   "metadata": {},
   "outputs": [
    {
     "name": "stderr",
     "output_type": "stream",
     "text": [
      "C:\\Users\\eche1\\Anaconda3\\lib\\site-packages\\sklearn\\preprocessing\\data.py:625: DataConversionWarning: Data with input dtype int64, object were all converted to float64 by StandardScaler.\n",
      "  return self.partial_fit(X, y)\n",
      "C:\\Users\\eche1\\Anaconda3\\lib\\site-packages\\sklearn\\base.py:462: DataConversionWarning: Data with input dtype int64, object were all converted to float64 by StandardScaler.\n",
      "  return self.fit(X, **fit_params).transform(X)\n"
     ]
    }
   ],
   "source": [
    "#Standardise and normalise datafram values\n",
    "from sklearn import preprocessing as prep\n",
    "#tweet_fund_df_nom = pd.DataFrame(prep.MinMaxScaler(feature_range=(0, 1)).fit_transform(tweet_fund_df), columns=tweet_fund_df.columns, index=tweet_fund_df.index)\n",
    "webtraffic_fund_df_nom = pd.DataFrame(prep.StandardScaler().fit_transform(webtraffic_fund_df), columns=webtraffic_fund_df.columns, index=webtraffic_fund_df.index)"
   ]
  },
  {
   "cell_type": "code",
   "execution_count": 51,
   "metadata": {},
   "outputs": [
    {
     "data": {
      "text/html": [
       "<div>\n",
       "<style scoped>\n",
       "    .dataframe tbody tr th:only-of-type {\n",
       "        vertical-align: middle;\n",
       "    }\n",
       "\n",
       "    .dataframe tbody tr th {\n",
       "        vertical-align: top;\n",
       "    }\n",
       "\n",
       "    .dataframe thead th {\n",
       "        text-align: right;\n",
       "    }\n",
       "</style>\n",
       "<table border=\"1\" class=\"dataframe\">\n",
       "  <thead>\n",
       "    <tr style=\"text-align: right;\">\n",
       "      <th></th>\n",
       "      <th>totalRevenue</th>\n",
       "      <th>traffic</th>\n",
       "      <th>paid_traffic</th>\n",
       "    </tr>\n",
       "    <tr>\n",
       "      <th>date</th>\n",
       "      <th></th>\n",
       "      <th></th>\n",
       "      <th></th>\n",
       "    </tr>\n",
       "  </thead>\n",
       "  <tbody>\n",
       "    <tr>\n",
       "      <th>2019-03-31</th>\n",
       "      <td>0.442211</td>\n",
       "      <td>1.860641</td>\n",
       "      <td>4.240993</td>\n",
       "    </tr>\n",
       "    <tr>\n",
       "      <th>2018-12-31</th>\n",
       "      <td>0.851651</td>\n",
       "      <td>1.963628</td>\n",
       "      <td>2.736939</td>\n",
       "    </tr>\n",
       "    <tr>\n",
       "      <th>2018-09-30</th>\n",
       "      <td>2.635494</td>\n",
       "      <td>1.718759</td>\n",
       "      <td>0.959324</td>\n",
       "    </tr>\n",
       "    <tr>\n",
       "      <th>2018-06-30</th>\n",
       "      <td>1.205350</td>\n",
       "      <td>1.950840</td>\n",
       "      <td>-0.128425</td>\n",
       "    </tr>\n",
       "    <tr>\n",
       "      <th>2018-03-31</th>\n",
       "      <td>0.541625</td>\n",
       "      <td>1.930180</td>\n",
       "      <td>-0.147635</td>\n",
       "    </tr>\n",
       "  </tbody>\n",
       "</table>\n",
       "</div>"
      ],
      "text/plain": [
       "            totalRevenue   traffic  paid_traffic\n",
       "date                                            \n",
       "2019-03-31      0.442211  1.860641      4.240993\n",
       "2018-12-31      0.851651  1.963628      2.736939\n",
       "2018-09-30      2.635494  1.718759      0.959324\n",
       "2018-06-30      1.205350  1.950840     -0.128425\n",
       "2018-03-31      0.541625  1.930180     -0.147635"
      ]
     },
     "execution_count": 51,
     "metadata": {},
     "output_type": "execute_result"
    }
   ],
   "source": [
    "#Explore standardise dataframe\n",
    "webtraffic_fund_df_nom.head()"
   ]
  },
  {
   "cell_type": "code",
   "execution_count": 52,
   "metadata": {},
   "outputs": [
    {
     "data": {
      "text/html": [
       "<div>\n",
       "<style scoped>\n",
       "    .dataframe tbody tr th:only-of-type {\n",
       "        vertical-align: middle;\n",
       "    }\n",
       "\n",
       "    .dataframe tbody tr th {\n",
       "        vertical-align: top;\n",
       "    }\n",
       "\n",
       "    .dataframe thead th {\n",
       "        text-align: right;\n",
       "    }\n",
       "</style>\n",
       "<table border=\"1\" class=\"dataframe\">\n",
       "  <thead>\n",
       "    <tr style=\"text-align: right;\">\n",
       "      <th></th>\n",
       "      <th>totalRevenue</th>\n",
       "      <th>traffic</th>\n",
       "      <th>paid_traffic</th>\n",
       "    </tr>\n",
       "  </thead>\n",
       "  <tbody>\n",
       "    <tr>\n",
       "      <th>totalRevenue</th>\n",
       "      <td>1.000000</td>\n",
       "      <td>0.725199</td>\n",
       "      <td>0.321129</td>\n",
       "    </tr>\n",
       "    <tr>\n",
       "      <th>traffic</th>\n",
       "      <td>0.725199</td>\n",
       "      <td>1.000000</td>\n",
       "      <td>0.626429</td>\n",
       "    </tr>\n",
       "    <tr>\n",
       "      <th>paid_traffic</th>\n",
       "      <td>0.321129</td>\n",
       "      <td>0.626429</td>\n",
       "      <td>1.000000</td>\n",
       "    </tr>\n",
       "  </tbody>\n",
       "</table>\n",
       "</div>"
      ],
      "text/plain": [
       "              totalRevenue   traffic  paid_traffic\n",
       "totalRevenue      1.000000  0.725199      0.321129\n",
       "traffic           0.725199  1.000000      0.626429\n",
       "paid_traffic      0.321129  0.626429      1.000000"
      ]
     },
     "execution_count": 52,
     "metadata": {},
     "output_type": "execute_result"
    }
   ],
   "source": [
    "#Explore correlation between Revenue and other feature values\n",
    "webtraffic_fund_df_nom.corr()"
   ]
  },
  {
   "cell_type": "code",
   "execution_count": 53,
   "metadata": {},
   "outputs": [
    {
     "data": {
      "text/plain": [
       "array([<matplotlib.axes._subplots.AxesSubplot object at 0x0000017B96241518>,\n",
       "       <matplotlib.axes._subplots.AxesSubplot object at 0x0000017B96261DA0>,\n",
       "       <matplotlib.axes._subplots.AxesSubplot object at 0x0000017B9628D5F8>],\n",
       "      dtype=object)"
      ]
     },
     "execution_count": 53,
     "metadata": {},
     "output_type": "execute_result"
    },
    {
     "data": {
      "image/png": "[encoded data removed]",
      "text/plain": [
       "<Figure size 720x432 with 3 Axes>"
      ]
     },
     "metadata": {
      "needs_background": "light"
     },
     "output_type": "display_data"
    }
   ],
   "source": [
    "#Explore visual correlation between Revenue and other feature values\n",
    "webtraffic_fund_df_nom.plot(subplots=True,figsize=(10,6))"
   ]
  },
  {
   "cell_type": "code",
   "execution_count": 54,
   "metadata": {
    "scrolled": false
   },
   "outputs": [
    {
     "data": {
      "text/plain": [
       "[{'traffic_0': 0.7251990769072048},\n",
       " {'traffic_1': 0.7578193971300717},\n",
       " {'traffic_2': 0.8070296948415889},\n",
       " {'traffic_3': 0.7833742197780313},\n",
       " {'traffic_4': 0.710161961990801},\n",
       " {'paid_traffic_0': 0.32112942442565384},\n",
       " {'paid_traffic_1': 0.4997085398623814},\n",
       " {'paid_traffic_2': 0.6246249703818663},\n",
       " {'paid_traffic_3': 0.4193649061391939},\n",
       " {'paid_traffic_4': 0.3963421842676794}]"
      ]
     },
     "execution_count": 54,
     "metadata": {},
     "output_type": "execute_result"
    }
   ],
   "source": [
    "#Any correlation by shifting or lagging the time series data?\n",
    "feats = webtraffic_fund_df_nom.drop('totalRevenue', axis=1).columns.values\n",
    "[ {x + '_' + str(y) : webtraffic_fund_df_nom[x].shift(y).corr(webtraffic_fund_df_nom.totalRevenue)} for x in feats for y in range(5) ]"
   ]
  },
  {
   "cell_type": "markdown",
   "metadata": {},
   "source": [
    "###### Prepare data for Stats and Machine Learning models"
   ]
  },
  {
   "cell_type": "code",
   "execution_count": 55,
   "metadata": {},
   "outputs": [
    {
     "data": {
      "text/plain": [
       "((29, 2), (29,))"
      ]
     },
     "execution_count": 55,
     "metadata": {},
     "output_type": "execute_result"
    }
   ],
   "source": [
    "# Select target(dependent/label) and feature(independent) variables\n",
    "targets = webtraffic_fund_df_nom['totalRevenue']\n",
    "features = webtraffic_fund_df_nom.drop(['totalRevenue'], axis=1)\n",
    "feature_names = features.columns\n",
    "features.shape, targets.shape"
   ]
  },
  {
   "cell_type": "code",
   "execution_count": 56,
   "metadata": {},
   "outputs": [
    {
     "data": {
      "text/plain": [
       "Index(['const', 'traffic', 'paid_traffic'], dtype='object')"
      ]
     },
     "execution_count": 56,
     "metadata": {},
     "output_type": "execute_result"
    }
   ],
   "source": [
    "# Using a linear OLS model here \n",
    "import statsmodels.api as sm\n",
    "# Add a constant to the features\n",
    "linear_features = sm.add_constant(features)\n",
    "linear_features.columns"
   ]
  },
  {
   "cell_type": "code",
   "execution_count": 57,
   "metadata": {},
   "outputs": [
    {
     "name": "stdout",
     "output_type": "stream",
     "text": [
      "(29, 3) (24, 3) (5, 3)\n"
     ]
    }
   ],
   "source": [
    "# Create a size for the training set that is 85% of the total number of samples\n",
    "train_size = int(0.85 * targets.shape[0])\n",
    "train_features = linear_features[:train_size]\n",
    "train_targets = targets[:train_size]\n",
    "test_features = linear_features[train_size:]\n",
    "test_targets = targets[train_size:]\n",
    "print(linear_features.shape, train_features.shape, test_features.shape)"
   ]
  },
  {
   "cell_type": "code",
   "execution_count": 58,
   "metadata": {},
   "outputs": [
    {
     "name": "stdout",
     "output_type": "stream",
     "text": [
      "                            OLS Regression Results                            \n",
      "==============================================================================\n",
      "Dep. Variable:           totalRevenue   R-squared:                       0.460\n",
      "Model:                            OLS   Adj. R-squared:                  0.409\n",
      "Method:                 Least Squares   F-statistic:                     8.947\n",
      "Date:                Mon, 17 Jun 2019   Prob (F-statistic):            0.00155\n",
      "Time:                        00:40:06   Log-Likelihood:                -24.304\n",
      "No. Observations:                  24   AIC:                             54.61\n",
      "Df Residuals:                      21   BIC:                             58.14\n",
      "Df Model:                           2                                         \n",
      "Covariance Type:            nonrobust                                         \n",
      "================================================================================\n",
      "                   coef    std err          t      P>|t|      [0.025      0.975]\n",
      "--------------------------------------------------------------------------------\n",
      "const            0.1316      0.148      0.888      0.385      -0.177       0.440\n",
      "traffic          0.7149      0.186      3.853      0.001       0.329       1.101\n",
      "paid_traffic    -0.1751      0.171     -1.024      0.318      -0.531       0.181\n",
      "==============================================================================\n",
      "Omnibus:                        6.092   Durbin-Watson:                   2.149\n",
      "Prob(Omnibus):                  0.048   Jarque-Bera (JB):                4.764\n",
      "Skew:                           1.088   Prob(JB):                       0.0924\n",
      "Kurtosis:                       3.163   Cond. No.                         2.14\n",
      "==============================================================================\n",
      "\n",
      "Warnings:\n",
      "[1] Standard Errors assume that the covariance matrix of the errors is correctly specified.\n"
     ]
    }
   ],
   "source": [
    "# Create the linear model and complete the least squares fit\n",
    "model = sm.OLS(train_targets, train_features)\n",
    "results = model.fit()  # fit the model\n",
    "print(results.summary())"
   ]
  },
  {
   "cell_type": "code",
   "execution_count": 59,
   "metadata": {},
   "outputs": [
    {
     "name": "stdout",
     "output_type": "stream",
     "text": [
      "const           0.384545\n",
      "traffic         0.000922\n",
      "paid_traffic    0.317671\n",
      "dtype: float64\n"
     ]
    }
   ],
   "source": [
    "# examine pvalues\n",
    "# Features with p <= 0.05 are typically considered significantly different from 0\n",
    "print(results.pvalues)"
   ]
  },
  {
   "cell_type": "code",
   "execution_count": 60,
   "metadata": {},
   "outputs": [],
   "source": [
    "# Make predictions from our model for train and test sets\n",
    "train_predictions = results.predict(train_features)\n",
    "test_predictions = results.predict(test_features)"
   ]
  },
  {
   "cell_type": "code",
   "execution_count": 61,
   "metadata": {},
   "outputs": [
    {
     "data": {
      "image/png": "[encoded data removed]",
      "text/plain": [
       "<Figure size 432x288 with 1 Axes>"
      ]
     },
     "metadata": {
      "needs_background": "light"
     },
     "output_type": "display_data"
    }
   ],
   "source": [
    "# Scatter the predictions vs the targets with 80% transparency\n",
    "plt.scatter(train_predictions, train_targets, alpha=0.2, color='b', label='train')\n",
    "plt.scatter(test_predictions, test_targets, alpha=0.2, color='r', label='test')\n",
    "\n",
    "# Plot the perfect prediction line\n",
    "xmin, xmax = plt.xlim()\n",
    "plt.plot(np.arange(xmin, xmax, 0.01), np.arange(xmin, xmax, 0.01), c='k')\n",
    "\n",
    "# Set the axis labels and show the plot\n",
    "plt.xlabel('predictions')\n",
    "plt.ylabel('actual')\n",
    "plt.legend()  # show the legend\n",
    "plt.show()"
   ]
  },
  {
   "cell_type": "code",
   "execution_count": 62,
   "metadata": {},
   "outputs": [
    {
     "name": "stdout",
     "output_type": "stream",
     "text": [
      "1.0\n",
      "-2.747050776207829\n"
     ]
    }
   ],
   "source": [
    "## trying Decision Tree Models\n",
    "from sklearn.tree import DecisionTreeRegressor\n",
    "\n",
    "# Create a decision tree regression model with default arguments\n",
    "decision_tree = DecisionTreeRegressor()\n",
    "\n",
    "# Fit the model to the training features and targets\n",
    "decision_tree.fit(train_features, train_targets)\n",
    "\n",
    "# Check the score on train and test\n",
    "print(decision_tree.score(train_features, train_targets))\n",
    "print(decision_tree.score(test_features, test_targets))"
   ]
  },
  {
   "cell_type": "code",
   "execution_count": 63,
   "metadata": {},
   "outputs": [
    {
     "name": "stdout",
     "output_type": "stream",
     "text": [
      "0.9111840523724524\n",
      "-4.748078787147845\n"
     ]
    }
   ],
   "source": [
    "# Try with Random Forest\n",
    "from sklearn.ensemble import RandomForestRegressor\n",
    "\n",
    "# Create the random forest model and fit to the training data\n",
    "rfr = RandomForestRegressor(n_estimators=200)\n",
    "rfr.fit(train_features, train_targets)\n",
    "\n",
    "# Look at the R^2 scores on train and test\n",
    "print(rfr.score(train_features, train_targets))\n",
    "print(rfr.score(test_features, test_targets))"
   ]
  },
  {
   "cell_type": "code",
   "execution_count": 64,
   "metadata": {},
   "outputs": [
    {
     "data": {
      "image/png": "[encoded data removed]",
      "text/plain": [
       "<Figure size 432x288 with 1 Axes>"
      ]
     },
     "metadata": {
      "needs_background": "light"
     },
     "output_type": "display_data"
    }
   ],
   "source": [
    "# Get feature importances from our random forest model\n",
    "importances = rfr.feature_importances_\n",
    "\n",
    "importances = importances[1:]\n",
    "\n",
    "# Get the index of importances from greatest importance to least\n",
    "sorted_index = np.argsort(importances)[::-1]\n",
    "x = range(len(importances))\n",
    "\n",
    "# Create tick labels \n",
    "labels = np.array(feature_names)[sorted_index]\n",
    "plt.bar(x, importances[sorted_index], tick_label=labels)\n",
    "\n",
    "# Rotate tick labels to vertical\n",
    "plt.xticks(rotation=90)\n",
    "plt.show()"
   ]
  },
  {
   "cell_type": "code",
   "execution_count": 65,
   "metadata": {},
   "outputs": [
    {
     "name": "stdout",
     "output_type": "stream",
     "text": [
      "0.8847358086224316\n",
      "-7.679102696026689\n"
     ]
    }
   ],
   "source": [
    "#try out gradient boosting model\n",
    "from sklearn.ensemble import GradientBoostingRegressor\n",
    "\n",
    "# Create GB model -- hyperparameters have already been searched for you\n",
    "gbr = GradientBoostingRegressor(learning_rate=0.01,\n",
    "                                n_estimators=200,\n",
    "                                subsample=0.6,\n",
    "                                random_state=42)\n",
    "gbr.fit(train_features, train_targets)\n",
    "\n",
    "print(gbr.score(train_features, train_targets))\n",
    "print(gbr.score(test_features, test_targets))"
   ]
  },
  {
   "cell_type": "markdown",
   "metadata": {},
   "source": []
  },
  {
   "cell_type": "markdown",
   "metadata": {},
   "source": []
  },
  {
   "cell_type": "markdown",
   "metadata": {},
   "source": [
    "### Combine alternative data from Webtraffic and Twitter"
   ]
  },
  {
   "cell_type": "code",
   "execution_count": 66,
   "metadata": {},
   "outputs": [
    {
     "data": {
      "text/html": [
       "<div>\n",
       "<style scoped>\n",
       "    .dataframe tbody tr th:only-of-type {\n",
       "        vertical-align: middle;\n",
       "    }\n",
       "\n",
       "    .dataframe tbody tr th {\n",
       "        vertical-align: top;\n",
       "    }\n",
       "\n",
       "    .dataframe thead th {\n",
       "        text-align: right;\n",
       "    }\n",
       "</style>\n",
       "<table border=\"1\" class=\"dataframe\">\n",
       "  <thead>\n",
       "    <tr style=\"text-align: right;\">\n",
       "      <th></th>\n",
       "      <th>totalRevenue</th>\n",
       "      <th>likes</th>\n",
       "      <th>retweet</th>\n",
       "      <th>count_comments</th>\n",
       "      <th>senti_negative</th>\n",
       "      <th>senti_neutral</th>\n",
       "      <th>senti_positive</th>\n",
       "    </tr>\n",
       "  </thead>\n",
       "  <tbody>\n",
       "    <tr>\n",
       "      <th>2019-03-31</th>\n",
       "      <td>2837000000.00</td>\n",
       "      <td>302</td>\n",
       "      <td>53</td>\n",
       "      <td>285</td>\n",
       "      <td>2</td>\n",
       "      <td>0</td>\n",
       "      <td>11</td>\n",
       "    </tr>\n",
       "    <tr>\n",
       "      <th>2018-12-31</th>\n",
       "      <td>3212615000.00</td>\n",
       "      <td>246</td>\n",
       "      <td>66</td>\n",
       "      <td>260</td>\n",
       "      <td>0</td>\n",
       "      <td>2</td>\n",
       "      <td>8</td>\n",
       "    </tr>\n",
       "    <tr>\n",
       "      <th>2018-09-30</th>\n",
       "      <td>4849090000.00</td>\n",
       "      <td>344</td>\n",
       "      <td>68</td>\n",
       "      <td>385</td>\n",
       "      <td>0</td>\n",
       "      <td>2</td>\n",
       "      <td>8</td>\n",
       "    </tr>\n",
       "    <tr>\n",
       "      <th>2018-06-30</th>\n",
       "      <td>3537094000.00</td>\n",
       "      <td>897</td>\n",
       "      <td>112</td>\n",
       "      <td>217</td>\n",
       "      <td>5</td>\n",
       "      <td>5</td>\n",
       "      <td>50</td>\n",
       "    </tr>\n",
       "    <tr>\n",
       "      <th>2018-03-31</th>\n",
       "      <td>2928201000.00</td>\n",
       "      <td>1199</td>\n",
       "      <td>159</td>\n",
       "      <td>222</td>\n",
       "      <td>9</td>\n",
       "      <td>27</td>\n",
       "      <td>62</td>\n",
       "    </tr>\n",
       "    <tr>\n",
       "      <th>2017-12-31</th>\n",
       "      <td>2803093000.00</td>\n",
       "      <td>1492</td>\n",
       "      <td>303</td>\n",
       "      <td>500</td>\n",
       "      <td>8</td>\n",
       "      <td>34</td>\n",
       "      <td>105</td>\n",
       "    </tr>\n",
       "    <tr>\n",
       "      <th>2017-09-30</th>\n",
       "      <td>4434029000.00</td>\n",
       "      <td>1160</td>\n",
       "      <td>250</td>\n",
       "      <td>679</td>\n",
       "      <td>9</td>\n",
       "      <td>32</td>\n",
       "      <td>82</td>\n",
       "    </tr>\n",
       "    <tr>\n",
       "      <th>2017-06-30</th>\n",
       "      <td>3024556000.00</td>\n",
       "      <td>742</td>\n",
       "      <td>183</td>\n",
       "      <td>313</td>\n",
       "      <td>2</td>\n",
       "      <td>13</td>\n",
       "      <td>47</td>\n",
       "    </tr>\n",
       "    <tr>\n",
       "      <th>2017-03-31</th>\n",
       "      <td>2419404000.00</td>\n",
       "      <td>494</td>\n",
       "      <td>130</td>\n",
       "      <td>64</td>\n",
       "      <td>4</td>\n",
       "      <td>7</td>\n",
       "      <td>20</td>\n",
       "    </tr>\n",
       "    <tr>\n",
       "      <th>2016-12-31</th>\n",
       "      <td>2348433000.00</td>\n",
       "      <td>556</td>\n",
       "      <td>120</td>\n",
       "      <td>45</td>\n",
       "      <td>2</td>\n",
       "      <td>7</td>\n",
       "      <td>14</td>\n",
       "    </tr>\n",
       "    <tr>\n",
       "      <th>2016-09-30</th>\n",
       "      <td>3690552000.00</td>\n",
       "      <td>1051</td>\n",
       "      <td>327</td>\n",
       "      <td>278</td>\n",
       "      <td>3</td>\n",
       "      <td>16</td>\n",
       "      <td>27</td>\n",
       "    </tr>\n",
       "    <tr>\n",
       "      <th>2016-06-30</th>\n",
       "      <td>2555902000.00</td>\n",
       "      <td>585</td>\n",
       "      <td>141</td>\n",
       "      <td>64</td>\n",
       "      <td>3</td>\n",
       "      <td>6</td>\n",
       "      <td>12</td>\n",
       "    </tr>\n",
       "    <tr>\n",
       "      <th>2016-03-31</th>\n",
       "      <td>2148119000.00</td>\n",
       "      <td>171</td>\n",
       "      <td>85</td>\n",
       "      <td>15</td>\n",
       "      <td>0</td>\n",
       "      <td>3</td>\n",
       "      <td>3</td>\n",
       "    </tr>\n",
       "    <tr>\n",
       "      <th>2015-12-31</th>\n",
       "      <td>1999995000.00</td>\n",
       "      <td>154</td>\n",
       "      <td>57</td>\n",
       "      <td>35</td>\n",
       "      <td>1</td>\n",
       "      <td>9</td>\n",
       "      <td>9</td>\n",
       "    </tr>\n",
       "    <tr>\n",
       "      <th>2015-09-30</th>\n",
       "      <td>3102901000.00</td>\n",
       "      <td>263</td>\n",
       "      <td>190</td>\n",
       "      <td>139</td>\n",
       "      <td>0</td>\n",
       "      <td>10</td>\n",
       "      <td>17</td>\n",
       "    </tr>\n",
       "    <tr>\n",
       "      <th>2015-06-30</th>\n",
       "      <td>2280397000.00</td>\n",
       "      <td>896</td>\n",
       "      <td>348</td>\n",
       "      <td>152</td>\n",
       "      <td>4</td>\n",
       "      <td>39</td>\n",
       "      <td>48</td>\n",
       "    </tr>\n",
       "  </tbody>\n",
       "</table>\n",
       "</div>"
      ],
      "text/plain": [
       "             totalRevenue  likes  retweet  count_comments  senti_negative  \\\n",
       "2019-03-31  2837000000.00    302       53             285               2   \n",
       "2018-12-31  3212615000.00    246       66             260               0   \n",
       "2018-09-30  4849090000.00    344       68             385               0   \n",
       "2018-06-30  3537094000.00    897      112             217               5   \n",
       "2018-03-31  2928201000.00   1199      159             222               9   \n",
       "2017-12-31  2803093000.00   1492      303             500               8   \n",
       "2017-09-30  4434029000.00   1160      250             679               9   \n",
       "2017-06-30  3024556000.00    742      183             313               2   \n",
       "2017-03-31  2419404000.00    494      130              64               4   \n",
       "2016-12-31  2348433000.00    556      120              45               2   \n",
       "2016-09-30  3690552000.00   1051      327             278               3   \n",
       "2016-06-30  2555902000.00    585      141              64               3   \n",
       "2016-03-31  2148119000.00    171       85              15               0   \n",
       "2015-12-31  1999995000.00    154       57              35               1   \n",
       "2015-09-30  3102901000.00    263      190             139               0   \n",
       "2015-06-30  2280397000.00    896      348             152               4   \n",
       "\n",
       "            senti_neutral  senti_positive  \n",
       "2019-03-31              0              11  \n",
       "2018-12-31              2               8  \n",
       "2018-09-30              2               8  \n",
       "2018-06-30              5              50  \n",
       "2018-03-31             27              62  \n",
       "2017-12-31             34             105  \n",
       "2017-09-30             32              82  \n",
       "2017-06-30             13              47  \n",
       "2017-03-31              7              20  \n",
       "2016-12-31              7              14  \n",
       "2016-09-30             16              27  \n",
       "2016-06-30              6              12  \n",
       "2016-03-31              3               3  \n",
       "2015-12-31              9               9  \n",
       "2015-09-30             10              17  \n",
       "2015-06-30             39              48  "
      ]
     },
     "execution_count": 66,
     "metadata": {},
     "output_type": "execute_result"
    }
   ],
   "source": [
    "#Review tweet and revenue data frame\n",
    "tweet_fund_df"
   ]
  },
  {
   "cell_type": "code",
   "execution_count": 67,
   "metadata": {},
   "outputs": [
    {
     "data": {
      "text/html": [
       "<div>\n",
       "<style scoped>\n",
       "    .dataframe tbody tr th:only-of-type {\n",
       "        vertical-align: middle;\n",
       "    }\n",
       "\n",
       "    .dataframe tbody tr th {\n",
       "        vertical-align: top;\n",
       "    }\n",
       "\n",
       "    .dataframe thead th {\n",
       "        text-align: right;\n",
       "    }\n",
       "</style>\n",
       "<table border=\"1\" class=\"dataframe\">\n",
       "  <thead>\n",
       "    <tr style=\"text-align: right;\">\n",
       "      <th></th>\n",
       "      <th>totalRevenue</th>\n",
       "      <th>traffic</th>\n",
       "      <th>paid_traffic</th>\n",
       "    </tr>\n",
       "    <tr>\n",
       "      <th>date</th>\n",
       "      <th></th>\n",
       "      <th></th>\n",
       "      <th></th>\n",
       "    </tr>\n",
       "  </thead>\n",
       "  <tbody>\n",
       "    <tr>\n",
       "      <th>2019-03-31</th>\n",
       "      <td>2837000000.00</td>\n",
       "      <td>41952583</td>\n",
       "      <td>292987022</td>\n",
       "    </tr>\n",
       "    <tr>\n",
       "      <th>2018-12-31</th>\n",
       "      <td>3212615000.00</td>\n",
       "      <td>43465557</td>\n",
       "      <td>197796997</td>\n",
       "    </tr>\n",
       "    <tr>\n",
       "      <th>2018-09-30</th>\n",
       "      <td>4849090000.00</td>\n",
       "      <td>39868199</td>\n",
       "      <td>85293585</td>\n",
       "    </tr>\n",
       "    <tr>\n",
       "      <th>2018-06-30</th>\n",
       "      <td>3537094000.00</td>\n",
       "      <td>43277687</td>\n",
       "      <td>16451079</td>\n",
       "    </tr>\n",
       "    <tr>\n",
       "      <th>2018-03-31</th>\n",
       "      <td>2928201000.00</td>\n",
       "      <td>42974170</td>\n",
       "      <td>15235298</td>\n",
       "    </tr>\n",
       "    <tr>\n",
       "      <th>2017-12-31</th>\n",
       "      <td>2803093000.00</td>\n",
       "      <td>29406354</td>\n",
       "      <td>9355158</td>\n",
       "    </tr>\n",
       "    <tr>\n",
       "      <th>2017-09-30</th>\n",
       "      <td>4434029000.00</td>\n",
       "      <td>25912258</td>\n",
       "      <td>18947528</td>\n",
       "    </tr>\n",
       "    <tr>\n",
       "      <th>2017-06-30</th>\n",
       "      <td>3024556000.00</td>\n",
       "      <td>24841279</td>\n",
       "      <td>16137900</td>\n",
       "    </tr>\n",
       "    <tr>\n",
       "      <th>2017-03-31</th>\n",
       "      <td>2419404000.00</td>\n",
       "      <td>20686396</td>\n",
       "      <td>7537993</td>\n",
       "    </tr>\n",
       "    <tr>\n",
       "      <th>2016-12-31</th>\n",
       "      <td>2348433000.00</td>\n",
       "      <td>15091975</td>\n",
       "      <td>1480949</td>\n",
       "    </tr>\n",
       "    <tr>\n",
       "      <th>2016-09-30</th>\n",
       "      <td>3690552000.00</td>\n",
       "      <td>10727931</td>\n",
       "      <td>2939493</td>\n",
       "    </tr>\n",
       "    <tr>\n",
       "      <th>2016-06-30</th>\n",
       "      <td>2555902000.00</td>\n",
       "      <td>9685703</td>\n",
       "      <td>2716816</td>\n",
       "    </tr>\n",
       "    <tr>\n",
       "      <th>2016-03-31</th>\n",
       "      <td>2148119000.00</td>\n",
       "      <td>8749933</td>\n",
       "      <td>3583808</td>\n",
       "    </tr>\n",
       "    <tr>\n",
       "      <th>2015-12-31</th>\n",
       "      <td>1999995000.00</td>\n",
       "      <td>8968709</td>\n",
       "      <td>2789117</td>\n",
       "    </tr>\n",
       "    <tr>\n",
       "      <th>2015-09-30</th>\n",
       "      <td>3102901000.00</td>\n",
       "      <td>8351469</td>\n",
       "      <td>3099355</td>\n",
       "    </tr>\n",
       "    <tr>\n",
       "      <th>2015-06-30</th>\n",
       "      <td>2280397000.00</td>\n",
       "      <td>6907676</td>\n",
       "      <td>4255740</td>\n",
       "    </tr>\n",
       "    <tr>\n",
       "      <th>2015-03-31</th>\n",
       "      <td>1840694000.00</td>\n",
       "      <td>6627443</td>\n",
       "      <td>2105389</td>\n",
       "    </tr>\n",
       "    <tr>\n",
       "      <th>2014-12-31</th>\n",
       "      <td>1840097000.00</td>\n",
       "      <td>6205281</td>\n",
       "      <td>4280217</td>\n",
       "    </tr>\n",
       "    <tr>\n",
       "      <th>2014-09-30</th>\n",
       "      <td>2836497000.00</td>\n",
       "      <td>6424505</td>\n",
       "      <td>3892952</td>\n",
       "    </tr>\n",
       "    <tr>\n",
       "      <th>2014-06-30</th>\n",
       "      <td>2123575000.00</td>\n",
       "      <td>5389961</td>\n",
       "      <td>4652138</td>\n",
       "    </tr>\n",
       "    <tr>\n",
       "      <th>2014-03-31</th>\n",
       "      <td>1641802000.00</td>\n",
       "      <td>4871828</td>\n",
       "      <td>4629767</td>\n",
       "    </tr>\n",
       "    <tr>\n",
       "      <th>2013-12-31</th>\n",
       "      <td>1541153000.00</td>\n",
       "      <td>3618230</td>\n",
       "      <td>3483105</td>\n",
       "    </tr>\n",
       "    <tr>\n",
       "      <th>2013-09-30</th>\n",
       "      <td>2269903000.00</td>\n",
       "      <td>2123082</td>\n",
       "      <td>1738719</td>\n",
       "    </tr>\n",
       "    <tr>\n",
       "      <th>2013-06-30</th>\n",
       "      <td>1680238000.00</td>\n",
       "      <td>1730913</td>\n",
       "      <td>1411068</td>\n",
       "    </tr>\n",
       "    <tr>\n",
       "      <th>2013-03-31</th>\n",
       "      <td>1302012000.00</td>\n",
       "      <td>1795384</td>\n",
       "      <td>1564678</td>\n",
       "    </tr>\n",
       "    <tr>\n",
       "      <th>2012-12-31</th>\n",
       "      <td>1190640000.00</td>\n",
       "      <td>1374946</td>\n",
       "      <td>1213900</td>\n",
       "    </tr>\n",
       "    <tr>\n",
       "      <th>2012-09-30</th>\n",
       "      <td>1706310000.00</td>\n",
       "      <td>1049085</td>\n",
       "      <td>603426</td>\n",
       "    </tr>\n",
       "    <tr>\n",
       "      <th>2012-06-30</th>\n",
       "      <td>1326759000.00</td>\n",
       "      <td>938977</td>\n",
       "      <td>1203557</td>\n",
       "    </tr>\n",
       "    <tr>\n",
       "      <th>2012-03-31</th>\n",
       "      <td>1037247000.00</td>\n",
       "      <td>906491</td>\n",
       "      <td>1403327</td>\n",
       "    </tr>\n",
       "  </tbody>\n",
       "</table>\n",
       "</div>"
      ],
      "text/plain": [
       "             totalRevenue   traffic  paid_traffic\n",
       "date                                             \n",
       "2019-03-31  2837000000.00  41952583     292987022\n",
       "2018-12-31  3212615000.00  43465557     197796997\n",
       "2018-09-30  4849090000.00  39868199      85293585\n",
       "2018-06-30  3537094000.00  43277687      16451079\n",
       "2018-03-31  2928201000.00  42974170      15235298\n",
       "2017-12-31  2803093000.00  29406354       9355158\n",
       "2017-09-30  4434029000.00  25912258      18947528\n",
       "2017-06-30  3024556000.00  24841279      16137900\n",
       "2017-03-31  2419404000.00  20686396       7537993\n",
       "2016-12-31  2348433000.00  15091975       1480949\n",
       "2016-09-30  3690552000.00  10727931       2939493\n",
       "2016-06-30  2555902000.00   9685703       2716816\n",
       "2016-03-31  2148119000.00   8749933       3583808\n",
       "2015-12-31  1999995000.00   8968709       2789117\n",
       "2015-09-30  3102901000.00   8351469       3099355\n",
       "2015-06-30  2280397000.00   6907676       4255740\n",
       "2015-03-31  1840694000.00   6627443       2105389\n",
       "2014-12-31  1840097000.00   6205281       4280217\n",
       "2014-09-30  2836497000.00   6424505       3892952\n",
       "2014-06-30  2123575000.00   5389961       4652138\n",
       "2014-03-31  1641802000.00   4871828       4629767\n",
       "2013-12-31  1541153000.00   3618230       3483105\n",
       "2013-09-30  2269903000.00   2123082       1738719\n",
       "2013-06-30  1680238000.00   1730913       1411068\n",
       "2013-03-31  1302012000.00   1795384       1564678\n",
       "2012-12-31  1190640000.00   1374946       1213900\n",
       "2012-09-30  1706310000.00   1049085        603426\n",
       "2012-06-30  1326759000.00    938977       1203557\n",
       "2012-03-31  1037247000.00    906491       1403327"
      ]
     },
     "execution_count": 67,
     "metadata": {},
     "output_type": "execute_result"
    }
   ],
   "source": [
    "#Review web traffic and revenue data frame\n",
    "webtraffic_fund_df"
   ]
  },
  {
   "cell_type": "code",
   "execution_count": 68,
   "metadata": {},
   "outputs": [
    {
     "data": {
      "text/html": [
       "<div>\n",
       "<style scoped>\n",
       "    .dataframe tbody tr th:only-of-type {\n",
       "        vertical-align: middle;\n",
       "    }\n",
       "\n",
       "    .dataframe tbody tr th {\n",
       "        vertical-align: top;\n",
       "    }\n",
       "\n",
       "    .dataframe thead th {\n",
       "        text-align: right;\n",
       "    }\n",
       "</style>\n",
       "<table border=\"1\" class=\"dataframe\">\n",
       "  <thead>\n",
       "    <tr style=\"text-align: right;\">\n",
       "      <th></th>\n",
       "      <th>traffic</th>\n",
       "      <th>paid_traffic</th>\n",
       "      <th>totalRevenue</th>\n",
       "      <th>likes</th>\n",
       "      <th>retweet</th>\n",
       "      <th>count_comments</th>\n",
       "      <th>senti_negative</th>\n",
       "      <th>senti_neutral</th>\n",
       "      <th>senti_positive</th>\n",
       "    </tr>\n",
       "  </thead>\n",
       "  <tbody>\n",
       "    <tr>\n",
       "      <th>2019-03-31</th>\n",
       "      <td>41952583</td>\n",
       "      <td>292987022</td>\n",
       "      <td>2837000000.00</td>\n",
       "      <td>302</td>\n",
       "      <td>53</td>\n",
       "      <td>285</td>\n",
       "      <td>2</td>\n",
       "      <td>0</td>\n",
       "      <td>11</td>\n",
       "    </tr>\n",
       "    <tr>\n",
       "      <th>2018-12-31</th>\n",
       "      <td>43465557</td>\n",
       "      <td>197796997</td>\n",
       "      <td>3212615000.00</td>\n",
       "      <td>246</td>\n",
       "      <td>66</td>\n",
       "      <td>260</td>\n",
       "      <td>0</td>\n",
       "      <td>2</td>\n",
       "      <td>8</td>\n",
       "    </tr>\n",
       "    <tr>\n",
       "      <th>2018-09-30</th>\n",
       "      <td>39868199</td>\n",
       "      <td>85293585</td>\n",
       "      <td>4849090000.00</td>\n",
       "      <td>344</td>\n",
       "      <td>68</td>\n",
       "      <td>385</td>\n",
       "      <td>0</td>\n",
       "      <td>2</td>\n",
       "      <td>8</td>\n",
       "    </tr>\n",
       "    <tr>\n",
       "      <th>2018-06-30</th>\n",
       "      <td>43277687</td>\n",
       "      <td>16451079</td>\n",
       "      <td>3537094000.00</td>\n",
       "      <td>897</td>\n",
       "      <td>112</td>\n",
       "      <td>217</td>\n",
       "      <td>5</td>\n",
       "      <td>5</td>\n",
       "      <td>50</td>\n",
       "    </tr>\n",
       "    <tr>\n",
       "      <th>2018-03-31</th>\n",
       "      <td>42974170</td>\n",
       "      <td>15235298</td>\n",
       "      <td>2928201000.00</td>\n",
       "      <td>1199</td>\n",
       "      <td>159</td>\n",
       "      <td>222</td>\n",
       "      <td>9</td>\n",
       "      <td>27</td>\n",
       "      <td>62</td>\n",
       "    </tr>\n",
       "    <tr>\n",
       "      <th>2017-12-31</th>\n",
       "      <td>29406354</td>\n",
       "      <td>9355158</td>\n",
       "      <td>2803093000.00</td>\n",
       "      <td>1492</td>\n",
       "      <td>303</td>\n",
       "      <td>500</td>\n",
       "      <td>8</td>\n",
       "      <td>34</td>\n",
       "      <td>105</td>\n",
       "    </tr>\n",
       "    <tr>\n",
       "      <th>2017-09-30</th>\n",
       "      <td>25912258</td>\n",
       "      <td>18947528</td>\n",
       "      <td>4434029000.00</td>\n",
       "      <td>1160</td>\n",
       "      <td>250</td>\n",
       "      <td>679</td>\n",
       "      <td>9</td>\n",
       "      <td>32</td>\n",
       "      <td>82</td>\n",
       "    </tr>\n",
       "    <tr>\n",
       "      <th>2017-06-30</th>\n",
       "      <td>24841279</td>\n",
       "      <td>16137900</td>\n",
       "      <td>3024556000.00</td>\n",
       "      <td>742</td>\n",
       "      <td>183</td>\n",
       "      <td>313</td>\n",
       "      <td>2</td>\n",
       "      <td>13</td>\n",
       "      <td>47</td>\n",
       "    </tr>\n",
       "    <tr>\n",
       "      <th>2017-03-31</th>\n",
       "      <td>20686396</td>\n",
       "      <td>7537993</td>\n",
       "      <td>2419404000.00</td>\n",
       "      <td>494</td>\n",
       "      <td>130</td>\n",
       "      <td>64</td>\n",
       "      <td>4</td>\n",
       "      <td>7</td>\n",
       "      <td>20</td>\n",
       "    </tr>\n",
       "    <tr>\n",
       "      <th>2016-12-31</th>\n",
       "      <td>15091975</td>\n",
       "      <td>1480949</td>\n",
       "      <td>2348433000.00</td>\n",
       "      <td>556</td>\n",
       "      <td>120</td>\n",
       "      <td>45</td>\n",
       "      <td>2</td>\n",
       "      <td>7</td>\n",
       "      <td>14</td>\n",
       "    </tr>\n",
       "    <tr>\n",
       "      <th>2016-09-30</th>\n",
       "      <td>10727931</td>\n",
       "      <td>2939493</td>\n",
       "      <td>3690552000.00</td>\n",
       "      <td>1051</td>\n",
       "      <td>327</td>\n",
       "      <td>278</td>\n",
       "      <td>3</td>\n",
       "      <td>16</td>\n",
       "      <td>27</td>\n",
       "    </tr>\n",
       "    <tr>\n",
       "      <th>2016-06-30</th>\n",
       "      <td>9685703</td>\n",
       "      <td>2716816</td>\n",
       "      <td>2555902000.00</td>\n",
       "      <td>585</td>\n",
       "      <td>141</td>\n",
       "      <td>64</td>\n",
       "      <td>3</td>\n",
       "      <td>6</td>\n",
       "      <td>12</td>\n",
       "    </tr>\n",
       "    <tr>\n",
       "      <th>2016-03-31</th>\n",
       "      <td>8749933</td>\n",
       "      <td>3583808</td>\n",
       "      <td>2148119000.00</td>\n",
       "      <td>171</td>\n",
       "      <td>85</td>\n",
       "      <td>15</td>\n",
       "      <td>0</td>\n",
       "      <td>3</td>\n",
       "      <td>3</td>\n",
       "    </tr>\n",
       "    <tr>\n",
       "      <th>2015-12-31</th>\n",
       "      <td>8968709</td>\n",
       "      <td>2789117</td>\n",
       "      <td>1999995000.00</td>\n",
       "      <td>154</td>\n",
       "      <td>57</td>\n",
       "      <td>35</td>\n",
       "      <td>1</td>\n",
       "      <td>9</td>\n",
       "      <td>9</td>\n",
       "    </tr>\n",
       "    <tr>\n",
       "      <th>2015-09-30</th>\n",
       "      <td>8351469</td>\n",
       "      <td>3099355</td>\n",
       "      <td>3102901000.00</td>\n",
       "      <td>263</td>\n",
       "      <td>190</td>\n",
       "      <td>139</td>\n",
       "      <td>0</td>\n",
       "      <td>10</td>\n",
       "      <td>17</td>\n",
       "    </tr>\n",
       "    <tr>\n",
       "      <th>2015-06-30</th>\n",
       "      <td>6907676</td>\n",
       "      <td>4255740</td>\n",
       "      <td>2280397000.00</td>\n",
       "      <td>896</td>\n",
       "      <td>348</td>\n",
       "      <td>152</td>\n",
       "      <td>4</td>\n",
       "      <td>39</td>\n",
       "      <td>48</td>\n",
       "    </tr>\n",
       "  </tbody>\n",
       "</table>\n",
       "</div>"
      ],
      "text/plain": [
       "             traffic  paid_traffic   totalRevenue  likes  retweet  \\\n",
       "2019-03-31  41952583     292987022  2837000000.00    302       53   \n",
       "2018-12-31  43465557     197796997  3212615000.00    246       66   \n",
       "2018-09-30  39868199      85293585  4849090000.00    344       68   \n",
       "2018-06-30  43277687      16451079  3537094000.00    897      112   \n",
       "2018-03-31  42974170      15235298  2928201000.00   1199      159   \n",
       "2017-12-31  29406354       9355158  2803093000.00   1492      303   \n",
       "2017-09-30  25912258      18947528  4434029000.00   1160      250   \n",
       "2017-06-30  24841279      16137900  3024556000.00    742      183   \n",
       "2017-03-31  20686396       7537993  2419404000.00    494      130   \n",
       "2016-12-31  15091975       1480949  2348433000.00    556      120   \n",
       "2016-09-30  10727931       2939493  3690552000.00   1051      327   \n",
       "2016-06-30   9685703       2716816  2555902000.00    585      141   \n",
       "2016-03-31   8749933       3583808  2148119000.00    171       85   \n",
       "2015-12-31   8968709       2789117  1999995000.00    154       57   \n",
       "2015-09-30   8351469       3099355  3102901000.00    263      190   \n",
       "2015-06-30   6907676       4255740  2280397000.00    896      348   \n",
       "\n",
       "            count_comments  senti_negative  senti_neutral  senti_positive  \n",
       "2019-03-31             285               2              0              11  \n",
       "2018-12-31             260               0              2               8  \n",
       "2018-09-30             385               0              2               8  \n",
       "2018-06-30             217               5              5              50  \n",
       "2018-03-31             222               9             27              62  \n",
       "2017-12-31             500               8             34             105  \n",
       "2017-09-30             679               9             32              82  \n",
       "2017-06-30             313               2             13              47  \n",
       "2017-03-31              64               4              7              20  \n",
       "2016-12-31              45               2              7              14  \n",
       "2016-09-30             278               3             16              27  \n",
       "2016-06-30              64               3              6              12  \n",
       "2016-03-31              15               0              3               3  \n",
       "2015-12-31              35               1              9               9  \n",
       "2015-09-30             139               0             10              17  \n",
       "2015-06-30             152               4             39              48  "
      ]
     },
     "execution_count": 68,
     "metadata": {},
     "output_type": "execute_result"
    }
   ],
   "source": [
    "#Explore joining tweet_fund_df to webtraffic_fund_df  \n",
    "webtraffic_fund_df[['traffic','paid_traffic']].join(tweet_fund_df,how='inner')"
   ]
  },
  {
   "cell_type": "code",
   "execution_count": 69,
   "metadata": {},
   "outputs": [],
   "source": [
    "#Combine tweet_fund_df to webtraffic_fund_df \n",
    "webtraffic_tweet_fund_df =  webtraffic_fund_df[['traffic','paid_traffic']].join(tweet_fund_df,how='inner')"
   ]
  },
  {
   "cell_type": "code",
   "execution_count": 70,
   "metadata": {},
   "outputs": [
    {
     "name": "stderr",
     "output_type": "stream",
     "text": [
      "C:\\Users\\eche1\\Anaconda3\\lib\\site-packages\\sklearn\\preprocessing\\data.py:625: DataConversionWarning: Data with input dtype uint8, int64, object were all converted to float64 by StandardScaler.\n",
      "  return self.partial_fit(X, y)\n",
      "C:\\Users\\eche1\\Anaconda3\\lib\\site-packages\\sklearn\\base.py:462: DataConversionWarning: Data with input dtype uint8, int64, object were all converted to float64 by StandardScaler.\n",
      "  return self.fit(X, **fit_params).transform(X)\n"
     ]
    }
   ],
   "source": [
    "#Standardise and normalise dataframe values\n",
    "from sklearn import preprocessing as prep\n",
    "#tweet_fund_df_nom = pd.DataFrame(prep.MinMaxScaler(feature_range=(0, 1)).fit_transform(tweet_fund_df), columns=tweet_fund_df.columns, index=tweet_fund_df.index)\n",
    "webtraffic_tweet_fund_df_nom = pd.DataFrame(prep.StandardScaler().fit_transform(webtraffic_tweet_fund_df), columns=webtraffic_tweet_fund_df.columns, index=webtraffic_tweet_fund_df.index)"
   ]
  },
  {
   "cell_type": "code",
   "execution_count": 71,
   "metadata": {},
   "outputs": [
    {
     "data": {
      "text/html": [
       "<div>\n",
       "<style scoped>\n",
       "    .dataframe tbody tr th:only-of-type {\n",
       "        vertical-align: middle;\n",
       "    }\n",
       "\n",
       "    .dataframe tbody tr th {\n",
       "        vertical-align: top;\n",
       "    }\n",
       "\n",
       "    .dataframe thead th {\n",
       "        text-align: right;\n",
       "    }\n",
       "</style>\n",
       "<table border=\"1\" class=\"dataframe\">\n",
       "  <thead>\n",
       "    <tr style=\"text-align: right;\">\n",
       "      <th></th>\n",
       "      <th>traffic</th>\n",
       "      <th>paid_traffic</th>\n",
       "      <th>totalRevenue</th>\n",
       "      <th>likes</th>\n",
       "      <th>retweet</th>\n",
       "      <th>count_comments</th>\n",
       "      <th>senti_negative</th>\n",
       "      <th>senti_neutral</th>\n",
       "      <th>senti_positive</th>\n",
       "    </tr>\n",
       "  </thead>\n",
       "  <tbody>\n",
       "    <tr>\n",
       "      <th>2019-03-31</th>\n",
       "      <td>1.286393</td>\n",
       "      <td>3.097198</td>\n",
       "      <td>-0.224631</td>\n",
       "      <td>-0.886782</td>\n",
       "      <td>-1.151780</td>\n",
       "      <td>0.320742</td>\n",
       "      <td>-0.415227</td>\n",
       "      <td>-1.081182</td>\n",
       "      <td>-0.743672</td>\n",
       "    </tr>\n",
       "    <tr>\n",
       "      <th>2018-12-31</th>\n",
       "      <td>1.393636</td>\n",
       "      <td>1.920023</td>\n",
       "      <td>0.261087</td>\n",
       "      <td>-1.025690</td>\n",
       "      <td>-1.014412</td>\n",
       "      <td>0.179290</td>\n",
       "      <td>-1.079591</td>\n",
       "      <td>-0.917985</td>\n",
       "      <td>-0.846543</td>\n",
       "    </tr>\n",
       "    <tr>\n",
       "      <th>2018-09-30</th>\n",
       "      <td>1.138647</td>\n",
       "      <td>0.528741</td>\n",
       "      <td>2.377258</td>\n",
       "      <td>-0.782600</td>\n",
       "      <td>-0.993278</td>\n",
       "      <td>0.886550</td>\n",
       "      <td>-1.079591</td>\n",
       "      <td>-0.917985</td>\n",
       "      <td>-0.846543</td>\n",
       "    </tr>\n",
       "    <tr>\n",
       "      <th>2018-06-30</th>\n",
       "      <td>1.380319</td>\n",
       "      <td>-0.322606</td>\n",
       "      <td>0.680680</td>\n",
       "      <td>0.589121</td>\n",
       "      <td>-0.528339</td>\n",
       "      <td>-0.064007</td>\n",
       "      <td>0.581318</td>\n",
       "      <td>-0.673189</td>\n",
       "      <td>0.593652</td>\n",
       "    </tr>\n",
       "    <tr>\n",
       "      <th>2018-03-31</th>\n",
       "      <td>1.358805</td>\n",
       "      <td>-0.337641</td>\n",
       "      <td>-0.106696</td>\n",
       "      <td>1.338234</td>\n",
       "      <td>-0.031700</td>\n",
       "      <td>-0.035717</td>\n",
       "      <td>1.910046</td>\n",
       "      <td>1.121982</td>\n",
       "      <td>1.005136</td>\n",
       "    </tr>\n",
       "    <tr>\n",
       "      <th>2017-12-31</th>\n",
       "      <td>0.397090</td>\n",
       "      <td>-0.410358</td>\n",
       "      <td>-0.268477</td>\n",
       "      <td>2.065023</td>\n",
       "      <td>1.489917</td>\n",
       "      <td>1.537230</td>\n",
       "      <td>1.577864</td>\n",
       "      <td>1.693173</td>\n",
       "      <td>2.479620</td>\n",
       "    </tr>\n",
       "    <tr>\n",
       "      <th>2017-09-30</th>\n",
       "      <td>0.149421</td>\n",
       "      <td>-0.291733</td>\n",
       "      <td>1.840531</td>\n",
       "      <td>1.241495</td>\n",
       "      <td>0.929877</td>\n",
       "      <td>2.550026</td>\n",
       "      <td>1.910046</td>\n",
       "      <td>1.529975</td>\n",
       "      <td>1.690942</td>\n",
       "    </tr>\n",
       "    <tr>\n",
       "      <th>2017-06-30</th>\n",
       "      <td>0.073507</td>\n",
       "      <td>-0.326479</td>\n",
       "      <td>0.017903</td>\n",
       "      <td>0.204642</td>\n",
       "      <td>0.221903</td>\n",
       "      <td>0.479169</td>\n",
       "      <td>-0.415227</td>\n",
       "      <td>-0.020400</td>\n",
       "      <td>0.490781</td>\n",
       "    </tr>\n",
       "    <tr>\n",
       "      <th>2017-03-31</th>\n",
       "      <td>-0.221000</td>\n",
       "      <td>-0.432830</td>\n",
       "      <td>-0.764636</td>\n",
       "      <td>-0.410524</td>\n",
       "      <td>-0.338137</td>\n",
       "      <td>-0.929693</td>\n",
       "      <td>0.249136</td>\n",
       "      <td>-0.509992</td>\n",
       "      <td>-0.435059</td>\n",
       "    </tr>\n",
       "    <tr>\n",
       "      <th>2016-12-31</th>\n",
       "      <td>-0.617544</td>\n",
       "      <td>-0.507735</td>\n",
       "      <td>-0.856410</td>\n",
       "      <td>-0.256733</td>\n",
       "      <td>-0.443805</td>\n",
       "      <td>-1.037197</td>\n",
       "      <td>-0.415227</td>\n",
       "      <td>-0.509992</td>\n",
       "      <td>-0.640801</td>\n",
       "    </tr>\n",
       "    <tr>\n",
       "      <th>2016-09-30</th>\n",
       "      <td>-0.926877</td>\n",
       "      <td>-0.489698</td>\n",
       "      <td>0.879121</td>\n",
       "      <td>0.971119</td>\n",
       "      <td>1.743520</td>\n",
       "      <td>0.281136</td>\n",
       "      <td>-0.083045</td>\n",
       "      <td>0.224396</td>\n",
       "      <td>-0.195026</td>\n",
       "    </tr>\n",
       "    <tr>\n",
       "      <th>2016-06-30</th>\n",
       "      <td>-1.000752</td>\n",
       "      <td>-0.492452</td>\n",
       "      <td>-0.588126</td>\n",
       "      <td>-0.184798</td>\n",
       "      <td>-0.221903</td>\n",
       "      <td>-0.929693</td>\n",
       "      <td>-0.083045</td>\n",
       "      <td>-0.591590</td>\n",
       "      <td>-0.709381</td>\n",
       "    </tr>\n",
       "    <tr>\n",
       "      <th>2016-03-31</th>\n",
       "      <td>-1.067081</td>\n",
       "      <td>-0.481730</td>\n",
       "      <td>-1.115442</td>\n",
       "      <td>-1.211728</td>\n",
       "      <td>-0.813643</td>\n",
       "      <td>-1.206939</td>\n",
       "      <td>-1.079591</td>\n",
       "      <td>-0.836386</td>\n",
       "      <td>-1.017995</td>\n",
       "    </tr>\n",
       "    <tr>\n",
       "      <th>2015-12-31</th>\n",
       "      <td>-1.051574</td>\n",
       "      <td>-0.491558</td>\n",
       "      <td>-1.306985</td>\n",
       "      <td>-1.253897</td>\n",
       "      <td>-1.109513</td>\n",
       "      <td>-1.093778</td>\n",
       "      <td>-0.747409</td>\n",
       "      <td>-0.346794</td>\n",
       "      <td>-0.812252</td>\n",
       "    </tr>\n",
       "    <tr>\n",
       "      <th>2015-09-30</th>\n",
       "      <td>-1.095325</td>\n",
       "      <td>-0.487721</td>\n",
       "      <td>0.119213</td>\n",
       "      <td>-0.983522</td>\n",
       "      <td>0.295870</td>\n",
       "      <td>-0.505337</td>\n",
       "      <td>-1.079591</td>\n",
       "      <td>-0.265196</td>\n",
       "      <td>-0.537930</td>\n",
       "    </tr>\n",
       "    <tr>\n",
       "      <th>2015-06-30</th>\n",
       "      <td>-1.197664</td>\n",
       "      <td>-0.473421</td>\n",
       "      <td>-0.944389</td>\n",
       "      <td>0.586640</td>\n",
       "      <td>1.965422</td>\n",
       "      <td>-0.431782</td>\n",
       "      <td>0.249136</td>\n",
       "      <td>2.101166</td>\n",
       "      <td>0.525071</td>\n",
       "    </tr>\n",
       "  </tbody>\n",
       "</table>\n",
       "</div>"
      ],
      "text/plain": [
       "             traffic  paid_traffic  totalRevenue     likes   retweet  \\\n",
       "2019-03-31  1.286393      3.097198     -0.224631 -0.886782 -1.151780   \n",
       "2018-12-31  1.393636      1.920023      0.261087 -1.025690 -1.014412   \n",
       "2018-09-30  1.138647      0.528741      2.377258 -0.782600 -0.993278   \n",
       "2018-06-30  1.380319     -0.322606      0.680680  0.589121 -0.528339   \n",
       "2018-03-31  1.358805     -0.337641     -0.106696  1.338234 -0.031700   \n",
       "2017-12-31  0.397090     -0.410358     -0.268477  2.065023  1.489917   \n",
       "2017-09-30  0.149421     -0.291733      1.840531  1.241495  0.929877   \n",
       "2017-06-30  0.073507     -0.326479      0.017903  0.204642  0.221903   \n",
       "2017-03-31 -0.221000     -0.432830     -0.764636 -0.410524 -0.338137   \n",
       "2016-12-31 -0.617544     -0.507735     -0.856410 -0.256733 -0.443805   \n",
       "2016-09-30 -0.926877     -0.489698      0.879121  0.971119  1.743520   \n",
       "2016-06-30 -1.000752     -0.492452     -0.588126 -0.184798 -0.221903   \n",
       "2016-03-31 -1.067081     -0.481730     -1.115442 -1.211728 -0.813643   \n",
       "2015-12-31 -1.051574     -0.491558     -1.306985 -1.253897 -1.109513   \n",
       "2015-09-30 -1.095325     -0.487721      0.119213 -0.983522  0.295870   \n",
       "2015-06-30 -1.197664     -0.473421     -0.944389  0.586640  1.965422   \n",
       "\n",
       "            count_comments  senti_negative  senti_neutral  senti_positive  \n",
       "2019-03-31        0.320742       -0.415227      -1.081182       -0.743672  \n",
       "2018-12-31        0.179290       -1.079591      -0.917985       -0.846543  \n",
       "2018-09-30        0.886550       -1.079591      -0.917985       -0.846543  \n",
       "2018-06-30       -0.064007        0.581318      -0.673189        0.593652  \n",
       "2018-03-31       -0.035717        1.910046       1.121982        1.005136  \n",
       "2017-12-31        1.537230        1.577864       1.693173        2.479620  \n",
       "2017-09-30        2.550026        1.910046       1.529975        1.690942  \n",
       "2017-06-30        0.479169       -0.415227      -0.020400        0.490781  \n",
       "2017-03-31       -0.929693        0.249136      -0.509992       -0.435059  \n",
       "2016-12-31       -1.037197       -0.415227      -0.509992       -0.640801  \n",
       "2016-09-30        0.281136       -0.083045       0.224396       -0.195026  \n",
       "2016-06-30       -0.929693       -0.083045      -0.591590       -0.709381  \n",
       "2016-03-31       -1.206939       -1.079591      -0.836386       -1.017995  \n",
       "2015-12-31       -1.093778       -0.747409      -0.346794       -0.812252  \n",
       "2015-09-30       -0.505337       -1.079591      -0.265196       -0.537930  \n",
       "2015-06-30       -0.431782        0.249136       2.101166        0.525071  "
      ]
     },
     "execution_count": 71,
     "metadata": {},
     "output_type": "execute_result"
    }
   ],
   "source": [
    "#Explore data\n",
    "webtraffic_tweet_fund_df_nom"
   ]
  },
  {
   "cell_type": "code",
   "execution_count": 72,
   "metadata": {},
   "outputs": [
    {
     "data": {
      "text/html": [
       "<div>\n",
       "<style scoped>\n",
       "    .dataframe tbody tr th:only-of-type {\n",
       "        vertical-align: middle;\n",
       "    }\n",
       "\n",
       "    .dataframe tbody tr th {\n",
       "        vertical-align: top;\n",
       "    }\n",
       "\n",
       "    .dataframe thead th {\n",
       "        text-align: right;\n",
       "    }\n",
       "</style>\n",
       "<table border=\"1\" class=\"dataframe\">\n",
       "  <thead>\n",
       "    <tr style=\"text-align: right;\">\n",
       "      <th></th>\n",
       "      <th>traffic</th>\n",
       "      <th>paid_traffic</th>\n",
       "      <th>totalRevenue</th>\n",
       "      <th>likes</th>\n",
       "      <th>retweet</th>\n",
       "      <th>count_comments</th>\n",
       "      <th>senti_negative</th>\n",
       "      <th>senti_neutral</th>\n",
       "      <th>senti_positive</th>\n",
       "    </tr>\n",
       "  </thead>\n",
       "  <tbody>\n",
       "    <tr>\n",
       "      <th>traffic</th>\n",
       "      <td>1.000000</td>\n",
       "      <td>0.600971</td>\n",
       "      <td>0.486424</td>\n",
       "      <td>0.169449</td>\n",
       "      <td>-0.358751</td>\n",
       "      <td>0.474140</td>\n",
       "      <td>0.262173</td>\n",
       "      <td>-0.148611</td>\n",
       "      <td>0.227598</td>\n",
       "    </tr>\n",
       "    <tr>\n",
       "      <th>paid_traffic</th>\n",
       "      <td>0.600971</td>\n",
       "      <td>1.000000</td>\n",
       "      <td>0.165000</td>\n",
       "      <td>-0.357652</td>\n",
       "      <td>-0.457775</td>\n",
       "      <td>0.195441</td>\n",
       "      <td>-0.271918</td>\n",
       "      <td>-0.407725</td>\n",
       "      <td>-0.294768</td>\n",
       "    </tr>\n",
       "    <tr>\n",
       "      <th>totalRevenue</th>\n",
       "      <td>0.486424</td>\n",
       "      <td>0.165000</td>\n",
       "      <td>1.000000</td>\n",
       "      <td>0.242425</td>\n",
       "      <td>0.089407</td>\n",
       "      <td>0.740516</td>\n",
       "      <td>0.154957</td>\n",
       "      <td>0.021636</td>\n",
       "      <td>0.215627</td>\n",
       "    </tr>\n",
       "    <tr>\n",
       "      <th>likes</th>\n",
       "      <td>0.169449</td>\n",
       "      <td>-0.357652</td>\n",
       "      <td>0.242425</td>\n",
       "      <td>1.000000</td>\n",
       "      <td>0.749258</td>\n",
       "      <td>0.585070</td>\n",
       "      <td>0.884749</td>\n",
       "      <td>0.795292</td>\n",
       "      <td>0.911202</td>\n",
       "    </tr>\n",
       "    <tr>\n",
       "      <th>retweet</th>\n",
       "      <td>-0.358751</td>\n",
       "      <td>-0.457775</td>\n",
       "      <td>0.089407</td>\n",
       "      <td>0.749258</td>\n",
       "      <td>1.000000</td>\n",
       "      <td>0.377470</td>\n",
       "      <td>0.510280</td>\n",
       "      <td>0.836692</td>\n",
       "      <td>0.652346</td>\n",
       "    </tr>\n",
       "    <tr>\n",
       "      <th>count_comments</th>\n",
       "      <td>0.474140</td>\n",
       "      <td>0.195441</td>\n",
       "      <td>0.740516</td>\n",
       "      <td>0.585070</td>\n",
       "      <td>0.377470</td>\n",
       "      <td>1.000000</td>\n",
       "      <td>0.532460</td>\n",
       "      <td>0.462752</td>\n",
       "      <td>0.686259</td>\n",
       "    </tr>\n",
       "    <tr>\n",
       "      <th>senti_negative</th>\n",
       "      <td>0.262173</td>\n",
       "      <td>-0.271918</td>\n",
       "      <td>0.154957</td>\n",
       "      <td>0.884749</td>\n",
       "      <td>0.510280</td>\n",
       "      <td>0.532460</td>\n",
       "      <td>1.000000</td>\n",
       "      <td>0.742016</td>\n",
       "      <td>0.874409</td>\n",
       "    </tr>\n",
       "    <tr>\n",
       "      <th>senti_neutral</th>\n",
       "      <td>-0.148611</td>\n",
       "      <td>-0.407725</td>\n",
       "      <td>0.021636</td>\n",
       "      <td>0.795292</td>\n",
       "      <td>0.836692</td>\n",
       "      <td>0.462752</td>\n",
       "      <td>0.742016</td>\n",
       "      <td>1.000000</td>\n",
       "      <td>0.822844</td>\n",
       "    </tr>\n",
       "    <tr>\n",
       "      <th>senti_positive</th>\n",
       "      <td>0.227598</td>\n",
       "      <td>-0.294768</td>\n",
       "      <td>0.215627</td>\n",
       "      <td>0.911202</td>\n",
       "      <td>0.652346</td>\n",
       "      <td>0.686259</td>\n",
       "      <td>0.874409</td>\n",
       "      <td>0.822844</td>\n",
       "      <td>1.000000</td>\n",
       "    </tr>\n",
       "  </tbody>\n",
       "</table>\n",
       "</div>"
      ],
      "text/plain": [
       "                 traffic  paid_traffic  totalRevenue     likes   retweet  \\\n",
       "traffic         1.000000      0.600971      0.486424  0.169449 -0.358751   \n",
       "paid_traffic    0.600971      1.000000      0.165000 -0.357652 -0.457775   \n",
       "totalRevenue    0.486424      0.165000      1.000000  0.242425  0.089407   \n",
       "likes           0.169449     -0.357652      0.242425  1.000000  0.749258   \n",
       "retweet        -0.358751     -0.457775      0.089407  0.749258  1.000000   \n",
       "count_comments  0.474140      0.195441      0.740516  0.585070  0.377470   \n",
       "senti_negative  0.262173     -0.271918      0.154957  0.884749  0.510280   \n",
       "senti_neutral  -0.148611     -0.407725      0.021636  0.795292  0.836692   \n",
       "senti_positive  0.227598     -0.294768      0.215627  0.911202  0.652346   \n",
       "\n",
       "                count_comments  senti_negative  senti_neutral  senti_positive  \n",
       "traffic               0.474140        0.262173      -0.148611        0.227598  \n",
       "paid_traffic          0.195441       -0.271918      -0.407725       -0.294768  \n",
       "totalRevenue          0.740516        0.154957       0.021636        0.215627  \n",
       "likes                 0.585070        0.884749       0.795292        0.911202  \n",
       "retweet               0.377470        0.510280       0.836692        0.652346  \n",
       "count_comments        1.000000        0.532460       0.462752        0.686259  \n",
       "senti_negative        0.532460        1.000000       0.742016        0.874409  \n",
       "senti_neutral         0.462752        0.742016       1.000000        0.822844  \n",
       "senti_positive        0.686259        0.874409       0.822844        1.000000  "
      ]
     },
     "execution_count": 72,
     "metadata": {},
     "output_type": "execute_result"
    }
   ],
   "source": [
    "#Explore correlaration between Revenue and features\n",
    "webtraffic_tweet_fund_df_nom.corr()"
   ]
  },
  {
   "cell_type": "code",
   "execution_count": 73,
   "metadata": {
    "scrolled": true
   },
   "outputs": [
    {
     "data": {
      "text/plain": [
       "array([<matplotlib.axes._subplots.AxesSubplot object at 0x0000017B964EA2B0>,\n",
       "       <matplotlib.axes._subplots.AxesSubplot object at 0x0000017B96508E80>,\n",
       "       <matplotlib.axes._subplots.AxesSubplot object at 0x0000017B965336D8>,\n",
       "       <matplotlib.axes._subplots.AxesSubplot object at 0x0000017B9655AF28>,\n",
       "       <matplotlib.axes._subplots.AxesSubplot object at 0x0000017B965C67B8>,\n",
       "       <matplotlib.axes._subplots.AxesSubplot object at 0x0000017B965ECFD0>,\n",
       "       <matplotlib.axes._subplots.AxesSubplot object at 0x0000017B9661B860>,\n",
       "       <matplotlib.axes._subplots.AxesSubplot object at 0x0000017B96649128>,\n",
       "       <matplotlib.axes._subplots.AxesSubplot object at 0x0000017B96649160>],\n",
       "      dtype=object)"
      ]
     },
     "execution_count": 73,
     "metadata": {},
     "output_type": "execute_result"
    },
    {
     "data": {
      "image/png": "[encoded data removed]",
      "text/plain": [
       "<Figure size 720x432 with 9 Axes>"
      ]
     },
     "metadata": {
      "needs_background": "light"
     },
     "output_type": "display_data"
    }
   ],
   "source": [
    "webtraffic_tweet_fund_df_nom.plot(subplots=True, figsize=(10,6))"
   ]
  },
  {
   "cell_type": "markdown",
   "metadata": {},
   "source": [
    "###### Prepare data for Stats and Machine Learning models"
   ]
  },
  {
   "cell_type": "code",
   "execution_count": 74,
   "metadata": {},
   "outputs": [
    {
     "data": {
      "text/plain": [
       "((16, 8), (16,))"
      ]
     },
     "execution_count": 74,
     "metadata": {},
     "output_type": "execute_result"
    }
   ],
   "source": [
    "# Select target(dependent/label) and feature(independent) variables\n",
    "targets = webtraffic_tweet_fund_df_nom['totalRevenue']\n",
    "features = webtraffic_tweet_fund_df_nom.drop(['totalRevenue'], axis=1)\n",
    "feature_names = features.columns\n",
    "features.shape, targets.shape"
   ]
  },
  {
   "cell_type": "code",
   "execution_count": 75,
   "metadata": {},
   "outputs": [
    {
     "data": {
      "text/plain": [
       "Index(['const', 'traffic', 'paid_traffic', 'likes', 'retweet',\n",
       "       'count_comments', 'senti_negative', 'senti_neutral', 'senti_positive'],\n",
       "      dtype='object')"
      ]
     },
     "execution_count": 75,
     "metadata": {},
     "output_type": "execute_result"
    }
   ],
   "source": [
    "# Using a linear OLS model here \n",
    "import statsmodels.api as sm\n",
    "# Add a constant to the features\n",
    "linear_features = sm.add_constant(features)\n",
    "linear_features.columns"
   ]
  },
  {
   "cell_type": "code",
   "execution_count": 76,
   "metadata": {},
   "outputs": [
    {
     "name": "stdout",
     "output_type": "stream",
     "text": [
      "(16, 9) (13, 9) (3, 9)\n"
     ]
    }
   ],
   "source": [
    "# Create a size for the training set that is 85% of the total number of samples\n",
    "train_size = int(0.85 * targets.shape[0])\n",
    "train_features = linear_features[:train_size]\n",
    "train_targets = targets[:train_size]\n",
    "test_features = linear_features[train_size:]\n",
    "test_targets = targets[train_size:]\n",
    "print(linear_features.shape, train_features.shape, test_features.shape)"
   ]
  },
  {
   "cell_type": "code",
   "execution_count": 77,
   "metadata": {},
   "outputs": [
    {
     "name": "stdout",
     "output_type": "stream",
     "text": [
      "                            OLS Regression Results                            \n",
      "==============================================================================\n",
      "Dep. Variable:           totalRevenue   R-squared:                       0.996\n",
      "Model:                            OLS   Adj. R-squared:                  0.987\n",
      "Method:                 Least Squares   F-statistic:                     111.7\n",
      "Date:                Mon, 17 Jun 2019   Prob (F-statistic):           0.000197\n",
      "Time:                        00:40:09   Log-Likelihood:                 16.722\n",
      "No. Observations:                  13   AIC:                            -15.44\n",
      "Df Residuals:                       4   BIC:                            -10.36\n",
      "Df Model:                           8                                         \n",
      "Covariance Type:            nonrobust                                         \n",
      "==================================================================================\n",
      "                     coef    std err          t      P>|t|      [0.025      0.975]\n",
      "----------------------------------------------------------------------------------\n",
      "const             -0.1958      0.045     -4.331      0.012      -0.321      -0.070\n",
      "traffic            0.5248      0.106      4.949      0.008       0.230       0.819\n",
      "paid_traffic      -0.7196      0.060    -11.919      0.000      -0.887      -0.552\n",
      "likes              0.5933      0.233      2.550      0.063      -0.053       1.239\n",
      "retweet            0.0070      0.186      0.038      0.972      -0.509       0.523\n",
      "count_comments     1.5110      0.071     21.338      0.000       1.314       1.708\n",
      "senti_negative     0.2260      0.107      2.119      0.101      -0.070       0.522\n",
      "senti_neutral     -0.5232      0.133     -3.920      0.017      -0.894      -0.153\n",
      "senti_positive    -1.4640      0.117    -12.500      0.000      -1.789      -1.139\n",
      "==============================================================================\n",
      "Omnibus:                        2.022   Durbin-Watson:                   1.390\n",
      "Prob(Omnibus):                  0.364   Jarque-Bera (JB):                0.580\n",
      "Skew:                           0.492   Prob(JB):                        0.748\n",
      "Kurtosis:                       3.316   Cond. No.                         21.2\n",
      "==============================================================================\n",
      "\n",
      "Warnings:\n",
      "[1] Standard Errors assume that the covariance matrix of the errors is correctly specified.\n"
     ]
    },
    {
     "name": "stderr",
     "output_type": "stream",
     "text": [
      "C:\\Users\\eche1\\Anaconda3\\lib\\site-packages\\scipy\\stats\\stats.py:1394: UserWarning: kurtosistest only valid for n>=20 ... continuing anyway, n=13\n",
      "  \"anyway, n=%i\" % int(n))\n"
     ]
    }
   ],
   "source": [
    "# Create the linear model and complete the least squares fit\n",
    "model = sm.OLS(train_targets, train_features)\n",
    "results = model.fit()  # fit the model\n",
    "print(results.summary())"
   ]
  },
  {
   "cell_type": "code",
   "execution_count": 78,
   "metadata": {},
   "outputs": [
    {
     "name": "stdout",
     "output_type": "stream",
     "text": [
      "const             0.012337\n",
      "traffic           0.007764\n",
      "paid_traffic      0.000284\n",
      "likes             0.063336\n",
      "retweet           0.971779\n",
      "count_comments    0.000029\n",
      "senti_negative    0.101496\n",
      "senti_neutral     0.017243\n",
      "senti_positive    0.000236\n",
      "dtype: float64\n"
     ]
    }
   ],
   "source": [
    "# examine pvalues\n",
    "# Features with p <= 0.05 are typically considered significantly different from 0\n",
    "print(results.pvalues)"
   ]
  },
  {
   "cell_type": "code",
   "execution_count": 79,
   "metadata": {},
   "outputs": [],
   "source": [
    "# Make predictions from our model for train and test sets\n",
    "train_predictions = results.predict(train_features)\n",
    "test_predictions = results.predict(test_features)"
   ]
  },
  {
   "cell_type": "code",
   "execution_count": 80,
   "metadata": {},
   "outputs": [
    {
     "data": {
      "image/png": "[encoded data removed]",
      "text/plain": [
       "<Figure size 432x288 with 1 Axes>"
      ]
     },
     "metadata": {
      "needs_background": "light"
     },
     "output_type": "display_data"
    }
   ],
   "source": [
    "# Scatter the predictions vs the targets with 80% transparency\n",
    "plt.scatter(train_predictions, train_targets, alpha=0.2, color='b', label='train')\n",
    "plt.scatter(test_predictions, test_targets, alpha=0.2, color='r', label='test')\n",
    "\n",
    "# Plot the perfect prediction line\n",
    "xmin, xmax = plt.xlim()\n",
    "plt.plot(np.arange(xmin, xmax, 0.01), np.arange(xmin, xmax, 0.01), c='k')\n",
    "\n",
    "# Set the axis labels and show the plot\n",
    "plt.xlabel('predictions')\n",
    "plt.ylabel('actual')\n",
    "plt.legend()  # show the legend\n",
    "plt.show()"
   ]
  },
  {
   "cell_type": "code",
   "execution_count": 81,
   "metadata": {},
   "outputs": [
    {
     "name": "stdout",
     "output_type": "stream",
     "text": [
      "1.0\n",
      "-2.921474529396102\n"
     ]
    }
   ],
   "source": [
    "## trying Decision Tree Models\n",
    "from sklearn.tree import DecisionTreeRegressor\n",
    "\n",
    "# Create a decision tree regression model with default arguments\n",
    "decision_tree = DecisionTreeRegressor()\n",
    "\n",
    "# Fit the model to the training features and targets\n",
    "decision_tree.fit(train_features, train_targets)\n",
    "\n",
    "# Check the score on train and test\n",
    "print(decision_tree.score(train_features, train_targets))\n",
    "print(decision_tree.score(test_features, test_targets))"
   ]
  },
  {
   "cell_type": "code",
   "execution_count": 82,
   "metadata": {},
   "outputs": [
    {
     "name": "stdout",
     "output_type": "stream",
     "text": [
      "0.8580535745035016\n",
      "-1.2073638174918648\n"
     ]
    }
   ],
   "source": [
    "# Try with Random Forest\n",
    "from sklearn.ensemble import RandomForestRegressor\n",
    "\n",
    "# Create the random forest model and fit to the training data\n",
    "rfr = RandomForestRegressor(n_estimators=200)\n",
    "rfr.fit(train_features, train_targets)\n",
    "\n",
    "# Look at the R^2 scores on train and test\n",
    "print(rfr.score(train_features, train_targets))\n",
    "print(rfr.score(test_features, test_targets))"
   ]
  },
  {
   "cell_type": "code",
   "execution_count": 83,
   "metadata": {},
   "outputs": [
    {
     "data": {
      "image/png": "[encoded data removed]",
      "text/plain": [
       "<Figure size 432x288 with 1 Axes>"
      ]
     },
     "metadata": {
      "needs_background": "light"
     },
     "output_type": "display_data"
    }
   ],
   "source": [
    "# Get feature importances from our random forest model\n",
    "importances = rfr.feature_importances_\n",
    "\n",
    "importances = importances[1:]\n",
    "\n",
    "# Get the index of importances from greatest importance to least\n",
    "sorted_index = np.argsort(importances)[::-1]\n",
    "x = range(len(importances))\n",
    "\n",
    "# Create tick labels \n",
    "labels = np.array(feature_names)[sorted_index]\n",
    "plt.bar(x, importances[sorted_index], tick_label=labels)\n",
    "\n",
    "# Rotate tick labels to vertical\n",
    "plt.xticks(rotation=90)\n",
    "plt.show()"
   ]
  },
  {
   "cell_type": "code",
   "execution_count": null,
   "metadata": {},
   "outputs": [],
   "source": []
  }
 ],
 "metadata": {
  "kernelspec": {
   "display_name": "Python 3",
   "language": "python",
   "name": "python3"
  },
  "language_info": {
   "codemirror_mode": {
    "name": "ipython",
    "version": 3
   },
   "file_extension": ".py",
   "mimetype": "text/x-python",
   "name": "python",
   "nbconvert_exporter": "python",
   "pygments_lexer": "ipython3",
   "version": "3.7.1"
  }
 },
 "nbformat": 4,
 "nbformat_minor": 2
}
